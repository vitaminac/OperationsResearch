{
 "cells": [
  {
   "cell_type": "code",
   "execution_count": 1,
   "metadata": {
    "scrolled": true
   },
   "outputs": [],
   "source": [
    "from math import *\n",
    "import numpy as np\n",
    "from scipy.special import factorial as np_factorial\n",
    "np.factorial = np_factorial"
   ]
  },
  {
   "cell_type": "markdown",
   "metadata": {},
   "source": [
    "Por la naturaleza de incertidumbre, no es posible conocer con exactitud cuántos trabajos llegarían al sistema y qué tipo de servicio van a requerir. Para reducir en la medida de lo posible la espera de los potenciales cuando la demanda de un cierto servicio excede la capacidad del sistema sin que suponga un coste excesivo, es decir, equilibrar el coste del servicio con el coste asociado a la perdida de clientes."
   ]
  },
  {
   "cell_type": "markdown",
   "metadata": {},
   "source": [
    "![Sistema de colas](sistemas-de-colas.png)"
   ]
  },
  {
   "cell_type": "markdown",
   "metadata": {},
   "source": [
    "![Notación de Kendall](kendall.jpg)"
   ]
  },
  {
   "cell_type": "markdown",
   "metadata": {},
   "source": [
    "Proceso de llegadas: Número de llegadas por unidad de tiempo y el tiempo entre las sucesivas llegadas"
   ]
  },
  {
   "cell_type": "markdown",
   "metadata": {},
   "source": [
    "Proceso de servicio: Tiempo empleado en dar servicio a un trabajo y por el número de servidores de que se dispone."
   ]
  },
  {
   "cell_type": "markdown",
   "metadata": {},
   "source": [
    "Diciplina de la cola: Describe el orden que se da servicio a los trabajos, la más habitual es la FIFO"
   ]
  },
  {
   "cell_type": "markdown",
   "metadata": {},
   "source": [
    "**N** número de llegadas por unidad de tiempo\n",
    "\n",
    "**T** tiempo entre dos llegadas consecutivas\n",
    "\n",
    "**X** tiempo de realización de un servicio\n",
    "\n",
    "**$\\lambda_n$** tasa de llegadas cuando el sistema tiene n clientes\n",
    "\n",
    "**$\\mu_n$** tasa de servicio cuando el sistema tiene n clientes"
   ]
  },
  {
   "cell_type": "markdown",
   "metadata": {},
   "source": [
    "La cantidad o carga de trabajo en unidades de tiempo o **intensidad de tráfico**: $\\lambda \\overline{X}$. Si llegan 2 trabajos por minuto y cada trabajo requiere un servicio medio de 0.4 minutos, la intensidad de tráfico es de 0.8 minutos."
   ]
  },
  {
   "cell_type": "markdown",
   "metadata": {},
   "source": [
    "Si llegan 2 trabajos por minuto y cada trabajo requiere un servicio medio de 0.4 minutos, la intensidad de tráfico es de 0.8 minutos. Si sólo hay un servidor, el sistema está ocupado el $80$% del tiempo."
   ]
  },
  {
   "cell_type": "markdown",
   "metadata": {},
   "source": [
    "El **factor de utilización**: $\\rho=\\frac{\\lambda}{c\\mu}$, se puede considerarse como la probabilidad de que el sistema esté ocupado."
   ]
  },
  {
   "cell_type": "markdown",
   "metadata": {},
   "source": [
    "Cuando la capacidad sea mayor que la intensidad o $\\rho < 1$ se dice que el sistema es **estable**, la desigualdad es **estricta**."
   ]
  },
  {
   "cell_type": "code",
   "execution_count": 2,
   "metadata": {},
   "outputs": [
    {
     "name": "stdout",
     "output_type": "stream",
     "text": [
      "p is:  0.8571428571428571\n"
     ]
    }
   ],
   "source": [
    "def cal_p(_lambda, mu, c=1):\n",
    "    p = _lambda / mu / c\n",
    "    print(\"p is: \", p)\n",
    "    return p\n",
    "\n",
    "assert (cal_p(60, 1/0.1, 7) - 0.857) < 0.001"
   ]
  },
  {
   "cell_type": "markdown",
   "metadata": {},
   "source": [
    "El **paso**: Número de llegadas atendidas por unidad de tiempo, si el sistema no admite pérdidas, coincide con la tasa de llegadas.\n",
    "\n",
    "El **paso máximo** es la capacidad máxima $m\\mu$."
   ]
  },
  {
   "cell_type": "markdown",
   "metadata": {},
   "source": [
    "En una red de ordenadores, los mensajes tienen un tamaño medio de 500 bits y son transmitidos por una línea de comunicación con una tasa media de 20 mensajes/segundo.\n",
    "\n",
    "Cuál es la velocidad mínima de la línea necesaria para atender todo el tráfico?$20 * 500 = 10000$ bits/segundo\n",
    "\n",
    "Cuál es la velocidad mínima de la línea necesaria para atender todo el tráfico si el nivel medio de uso la misma no debe superar el $80$%. $\\rho = \\frac{10000}{\\mu}< 0.8 \\implies \\mu > \\frac{1000}{0.8}=12500$\n",
    "\n",
    "Cuál es el paso máximo en este segundo caso, si la línea funciona a la velocidad mínima? $\\frac{12500}{500}=25$ trabajos."
   ]
  },
  {
   "cell_type": "markdown",
   "metadata": {},
   "source": [
    "En un sistema de multiproceso, cada trabajo requiere una media de 100 milisegundos de ejecución. La tasa de llegadas es igual a 60 trabajos por segundo.\n",
    "\n",
    "Calcular el mínimo número de procesadores que se requieren para atender la demanda. $\\rho = \\frac{\\lambda}{c\\mu} = \\frac{60}{c*10} < 1 \\implies c>6 \\implies c=7$\n",
    "\n",
    "Si se instalan precisamente este número mínimo de procesadores, determinar la tasa de uso y el paso máximo. $\\rho=\\frac{60}{7*10}=0.85$, y paso máximo es $c*\\mu=7*10=70$"
   ]
  },
  {
   "cell_type": "markdown",
   "metadata": {},
   "source": [
    "# Medidas de eficiencia"
   ]
  },
  {
   "cell_type": "markdown",
   "metadata": {},
   "source": [
    "La medidas de eficiencia tratan de evaluar la calidad del funcionamiento del sistema."
   ]
  },
  {
   "cell_type": "markdown",
   "metadata": {},
   "source": [
    "**$\\overline{Q}$** Número medio de trabajos en la cola\n",
    "\n",
    "**$\\overline{W}$** Número medio de espera\n",
    "\n",
    "**$\\overline{J}$** Número medio de trabajo en el sistema\n",
    "\n",
    "**$\\overline{R}$** Tiempo medio de respuesta"
   ]
  },
  {
   "cell_type": "markdown",
   "metadata": {},
   "source": [
    "# Fórmulas de Little"
   ]
  },
  {
   "cell_type": "markdown",
   "metadata": {},
   "source": [
    "Proporciona una relación $L=\\lambda\\overline{W}$ entre el número $L$ promedio a largo plazo de los clientes en un sistema estacionario y el tiempo promedio $\\overline{W}$ que un cliente pasa al sistema. "
   ]
  },
  {
   "cell_type": "markdown",
   "metadata": {},
   "source": [
    "$$\n",
    "\\begin{split}\n",
    "\\overline{J} &= \\lambda\\overline{R}\\\\\n",
    "\\overline{Q} &= \\lambda\\overline{W}\\\\\n",
    "\\overline{R} &= \\overline{X} + \\overline{W}\\\\\n",
    "\\end{split}\n",
    "$$"
   ]
  },
  {
   "cell_type": "markdown",
   "metadata": {},
   "source": [
    "Supongamos que una cola G/G/1 tiene unas tasas de llegada y servicio de 3 y 5 trabajos por segundo, respectivamente.\n",
    "\n",
    "Además, el número medio de trabajos en la cola es $\\overline{Q}=6.7$\n",
    "\n",
    "Determinar el número medio de trabajos en el sistema y el tiempo medio de respuesta. $\\overline{W}=\\frac{\\overline{Q}}{\\lambda}=\\frac{6.7}{3}=2.23$, $\\overline{X}=\\frac{1}{5}=0.2$, $\\overline{R}=0.2+2.23=2.43$, $\\overline{J}=\\lambda\\overline{R}$"
   ]
  },
  {
   "cell_type": "markdown",
   "metadata": {},
   "source": [
    "# Fórmula de Pollaczek-Khintchine"
   ]
  },
  {
   "cell_type": "markdown",
   "metadata": {},
   "source": [
    "$$C(X) = \\frac{\\sigma_x}{\\overline{X}} = \\frac{\\sqrt{V(X)}}{\\overline{X}} = \\frac{\\sqrt{\\overline{X^2}-\\overline{X}^2}}{\\overline{X}}$$"
   ]
  },
  {
   "cell_type": "markdown",
   "metadata": {},
   "source": [
    "Si el timepo de servicio **X** tiene una distribución exponencial de parámetro $\\mu$"
   ]
  },
  {
   "cell_type": "markdown",
   "metadata": {},
   "source": [
    "$$\n",
    "\\begin{split}\n",
    "\\overline{X} &= \\frac{1}{\\mu}\\\\\n",
    "V(X) &= \\frac{2}{\\mu^2}\\\\\n",
    "\\overline{X^2} &= \\frac{2}{\\mu^2}\\\\\n",
    "\\end{split}\n",
    "$$"
   ]
  },
  {
   "cell_type": "code",
   "execution_count": 3,
   "metadata": {},
   "outputs": [
    {
     "name": "stdout",
     "output_type": "stream",
     "text": [
      "X^2 is:  0.02\n"
     ]
    }
   ],
   "source": [
    "def cal_X2_exponential(mu):\n",
    "    X_2 = 2 / mu**2\n",
    "    print(\"X^2 is: \", X_2)\n",
    "    return X_2\n",
    "\n",
    "assert (cal_X2_exponential(10) - 0.02) < 0.001"
   ]
  },
  {
   "cell_type": "markdown",
   "metadata": {},
   "source": [
    "Si un sistema con $M/G/1$"
   ]
  },
  {
   "cell_type": "markdown",
   "metadata": {},
   "source": [
    "$$\n",
    "\\begin{split}\n",
    "\\overline{W} &= \\lambda\\frac{\\overline{X^2}}{2(1-\\rho)}\\\\\n",
    "\\overline{W} &= \\rho\\frac{\\overline{X}(1+C(X)^2)}{2(1-\\rho)}\n",
    "\\end{split}\n",
    "$$"
   ]
  },
  {
   "cell_type": "code",
   "execution_count": 4,
   "metadata": {
    "scrolled": false
   },
   "outputs": [],
   "source": [
    "def cal_W_MG1(lambda_, mu, CX=1):\n",
    "    p = cal_p(lambda_, mu)\n",
    "    W = p * (1 + CX**2) / (2 * mu * (1 - p))\n",
    "    print(\"W is: \", W)\n",
    "    return W"
   ]
  },
  {
   "cell_type": "markdown",
   "metadata": {},
   "source": [
    "Una linea de comunicación recibe mensajes con una tasa de dos mensajes por minuto $\\lambda = 2$ mensajes / min. Se transmiten en orden de llegada FIFO, con un tiempo medio de trasmisión de 20 segundos por mensaje $\\overline{X} = \\frac{20}{60} = \\frac{1}{3}$ y una desviación típica de 5 segundos $\\sigma_x = 5s = \\frac{1}{12}min$.\n",
    "\n",
    "$$C(X) = \\frac{\\sigma_x}{\\overline{X}} = \\frac{\\frac{1}{12}}{\\frac{1}{3}} = \\frac{1}{4}$$\n",
    "\n",
    "¿Cuál es el tiempo medio de respuesta y el número medio de mensajes en cola?"
   ]
  },
  {
   "cell_type": "code",
   "execution_count": 5,
   "metadata": {},
   "outputs": [
    {
     "name": "stdout",
     "output_type": "stream",
     "text": [
      "p is:  0.6666666666666666\n",
      "W is:  0.35416666666666663\n",
      "0.6875\n"
     ]
    }
   ],
   "source": [
    "_lambda = 2\n",
    "X = 1 / 3\n",
    "mu = 1 / X\n",
    "CX = 1 / 4\n",
    "W = cal_W_MG1(_lambda, mu, CX)\n",
    "R = W + X\n",
    "print(R)\n",
    "assert abs(R - 0.6875) < 0.001"
   ]
  },
  {
   "cell_type": "markdown",
   "metadata": {},
   "source": [
    "El mínimo de $\\overline{R}$ se alcanza cuando el tiempo de servicio es constante (cola $M/D/1$)."
   ]
  },
  {
   "cell_type": "markdown",
   "metadata": {},
   "source": [
    "$$\\overline{R}=\\frac{\\rho\\overline{X}}{2(1-\\rho)}+\\overline{X}$$"
   ]
  },
  {
   "cell_type": "markdown",
   "metadata": {},
   "source": [
    "Si observamos el lote como una única llegada el tiempo medio de espera B se puede obtener a partir de las fórmulas de Pollactek-Khinchine"
   ]
  },
  {
   "cell_type": "markdown",
   "metadata": {},
   "source": [
    "$$B=\\lambda'(b\\overline{X})^2\\frac{(1+\\frac{bV}{(b \\overline{X})^2})}{2(1-\\lambda' b\\overline{X})}$$"
   ]
  },
  {
   "cell_type": "markdown",
   "metadata": {},
   "source": [
    "El tiempo total de respuesta de un trabajo del lote es"
   ]
  },
  {
   "cell_type": "markdown",
   "metadata": {},
   "source": [
    "$$\\overline{R}=B+\\overline{X}\\frac{b+1}{2}$$"
   ]
  },
  {
   "cell_type": "markdown",
   "metadata": {},
   "source": [
    "# Sistemas con prioridad no expulsiva"
   ]
  },
  {
   "cell_type": "markdown",
   "metadata": {},
   "source": [
    "$\\overline{X}_i$ tiempo medio de espera de un trabajo de la clase $i$ se calcula como"
   ]
  },
  {
   "cell_type": "markdown",
   "metadata": {},
   "source": [
    "$$\\overline{W}_i = \\overline{S} + D_i + B_i$$"
   ]
  },
  {
   "cell_type": "markdown",
   "metadata": {},
   "source": [
    "$\\overline{S}$ tiempo medio que queda para que se termine el trabajo que actualmente está en el servidor"
   ]
  },
  {
   "cell_type": "markdown",
   "metadata": {},
   "source": [
    "$$\n",
    "\\overline{S}=\\frac{1}{2}\\sum_{k=1}^p \\lambda_k \\overline{X^2_k}\n",
    "$$"
   ]
  },
  {
   "cell_type": "code",
   "execution_count": 6,
   "metadata": {},
   "outputs": [
    {
     "name": "stdout",
     "output_type": "stream",
     "text": [
      "S is:  0.4\n"
     ]
    }
   ],
   "source": [
    "def cal_S(lambdas, X_2):\n",
    "    S = np.sum(lambdas*X_2, axis=0) / 2\n",
    "    print(\"S is: \", S)\n",
    "    return S\n",
    "\n",
    "assert abs(cal_S(np.array([0.8, 0.2]), np.array([0.5, 2])) - 0.4) < 0.001"
   ]
  },
  {
   "cell_type": "markdown",
   "metadata": {},
   "source": [
    "$B_i$ tiempo medio de proceso de todos los trabajos de las clases 1 hasta i que ya están en la cola\n",
    "\n",
    "$D_i$ tiempo medio de proceso de todos los trabajos de las clases 1 hasta $i-1$ que pueden llegar, desde que ha llegado el trabajo hasta que empiece su ejecución."
   ]
  },
  {
   "cell_type": "markdown",
   "metadata": {},
   "source": [
    "$$\n",
    "\\begin{split}\n",
    "U_0 &= 0\\\\\n",
    "U_i &= \\sum_{k=1}^i \\rho_k\\\\\n",
    "\\end{split}\n",
    "$$"
   ]
  },
  {
   "cell_type": "code",
   "execution_count": 7,
   "metadata": {},
   "outputs": [],
   "source": [
    "def cal_U(lambdas, mus):\n",
    "    p = cal_p(lambdas, mus)\n",
    "    U = np.array([np.sum(p[:i]) for i in range(p.size + 1)])\n",
    "    print(\"U is: \", U)\n",
    "    return U"
   ]
  },
  {
   "cell_type": "markdown",
   "metadata": {},
   "source": [
    "$$\n",
    "\\overline{W}_i = \\frac{\\overline{S}}{(1-U_i)(1-U_{i-1})}\n",
    "$$"
   ]
  },
  {
   "cell_type": "code",
   "execution_count": 8,
   "metadata": {},
   "outputs": [],
   "source": [
    "def cal_W_priority_nonpreemptive(S, U):\n",
    "    W = S / ((1 - U[1:]) * (1 - U[:-1]))\n",
    "    print(\"W is: \", W)\n",
    "    return W\n",
    "\n",
    "def cal_W_priority_nonpreemptive_MM1(lambdas, mus):\n",
    "    U = cal_U(lambdas, mus)\n",
    "    X_2 = cal_X2_exponential(mus)\n",
    "    S = cal_S(lambdas, X_2)\n",
    "    return cal_W_priority_nonpreemptive(S, U)\n",
    "\n",
    "def cal_R_priority_nonpreemptive_MM1(lambdas, mus):\n",
    "    R = cal_W_priority_nonpreemptive_MM1(lambdas, mus) + 1 / mus\n",
    "    print(\"R is: \", R)\n",
    "    return R"
   ]
  },
  {
   "cell_type": "markdown",
   "metadata": {},
   "source": [
    "$$\n",
    "\\begin{split}\n",
    "\\overline{W} &= \\sum_{k=1}^p \\frac{\\lambda_k}{\\lambda} \\overline{W}_k\\\\\n",
    "\\overline{R} &= \\sum_{k=1}^p \\frac{\\lambda_k}{\\lambda} (\\overline{W}_k + \\overline{X}_k)\\\\\n",
    "\\end{split}\n",
    "$$"
   ]
  },
  {
   "cell_type": "code",
   "execution_count": 9,
   "metadata": {
    "scrolled": true
   },
   "outputs": [
    {
     "name": "stdout",
     "output_type": "stream",
     "text": [
      "weights are : [0.15384615 0.84615385]\n",
      "p is:  [0.38       0.34833333]\n",
      "U is:  [0.         0.38       0.72833333]\n",
      "X^2 is:  [0.0722     0.00200556]\n",
      "S is:  0.08323055555555557\n",
      "W is:  [0.13424283 0.49414539]\n",
      "weights are : [0.8 0.2]\n",
      "p is:  [0.4 0.2]\n",
      "U is:  [0.  0.4 0.6]\n",
      "X^2 is:  [0.5 2. ]\n",
      "S is:  0.4\n",
      "W is:  [0.66666667 1.66666667]\n",
      "R is:  [1.16666667 2.66666667]\n",
      "weights are : [0.15384615 0.84615385]\n",
      "p is:  [0.38       0.34833333]\n",
      "U is:  [0.         0.38       0.72833333]\n",
      "X^2 is:  [0.0722     0.00200556]\n",
      "S is:  0.08323055555555557\n",
      "W is:  [0.13424283 0.49414539]\n",
      "R is:  [0.32424283 0.52581206]\n"
     ]
    }
   ],
   "source": [
    "def cal_weight(lambdas):\n",
    "    lambda_ = np.sum(lambdas)\n",
    "    weight = lambdas / lambda_\n",
    "    print(\"weights are :\", weight)\n",
    "    return weight\n",
    "\n",
    "def cal_total_W_priority_nonpreemptive_MM1(lambdas, mus):\n",
    "    weight = cal_weight(lambdas)\n",
    "    W = cal_W_priority_nonpreemptive_MM1(lambdas, mus)\n",
    "    return np.sum(weight * W)\n",
    "\n",
    "assert abs(cal_total_W_priority_nonpreemptive_MM1(np.array([2, 11]),np.array([60/11.4, 60/1.9])) * 13 - 5.704) < 0.001\n",
    "\n",
    "def cal_total_R_priority_nonpreemptive_MM1(lambdas, mus):\n",
    "    weight = cal_weight(lambdas)\n",
    "    R = cal_R_priority_nonpreemptive_MM1(lambdas, mus)\n",
    "    return np.sum(weight * R)\n",
    "\n",
    "assert abs(cal_total_R_priority_nonpreemptive_MM1(np.array([0.8, 0.2]), np.array([1/0.5,1])) - 1.466) < 0.001\n",
    "assert abs(cal_total_R_priority_nonpreemptive_MM1(np.array([2, 11]), np.array([60/11.4,60/1.9])) * 60 - 29.688) < 0.001"
   ]
  },
  {
   "cell_type": "markdown",
   "metadata": {},
   "source": [
    "En un sistema de prioridades en el proceso de instalación. Todos los trabajos de este proceso tienen las mismas características el tiempo de servicio tiene una distribución exponencial, con 10 milisegundos de tiempo medio de proceso $\\overline{X} = 10$ y el momento de segundo orden es es 120 milisegundos $\\overline{X^2} = 120$. La opción considerada es crear cinco categorías $k = 5$ de igual tamaño. Suponiendo que hay 10 llegadas por segundo $\\lambda_i = \\frac{10}{5} = 2$ y que estas llegadas siguen un proceso de Poison, determinar el tiempo medio de espera para cada clase y el tiempo global de espera."
   ]
  },
  {
   "cell_type": "code",
   "execution_count": 10,
   "metadata": {
    "scrolled": true
   },
   "outputs": [
    {
     "name": "stdout",
     "output_type": "stream",
     "text": [
      "S is:  0.6\n",
      "p is:  [0.02 0.02 0.02 0.02 0.02]\n",
      "U is:  [0.   0.02 0.04 0.06 0.08 0.1 ]\n",
      "W is:  [0.6122449  0.6377551  0.66489362 0.69380204 0.72463768]\n"
     ]
    }
   ],
   "source": [
    "lambdas = np.array([10 / 5 / 1000] * 5) # por milisegundo\n",
    "X = 10\n",
    "X_2 = 120\n",
    "S = cal_S(lambdas, X_2)\n",
    "assert abs(S - 0.6) < 0.00001\n",
    "\n",
    "U = cal_U(lambdas, 1 / X)\n",
    "\n",
    "W = cal_W_priority_nonpreemptive(S, U)\n",
    "assert np.max(W - np.array([0.612, 0.638, 0.665, 0.694, 0.725])) < 0.001"
   ]
  },
  {
   "cell_type": "markdown",
   "metadata": {},
   "source": [
    "Una linea de comunicación debe transmitir dos tipos de mensajes $k=2$ cada una con una longitud diferente.\n",
    "La llegada de los mensajes se produce según un proceso de Poisson y la transmisión tiene una distribución exponencial, con una duración media de 0.5 $\\overline{X}_1=0.5$ y 1 segundo $\\overline{X}_2=1$ para cada tipo de mensaje, respectivamente.\n",
    "La tasa de llegadas de mensajes es de 1 mensaje por segundo y el 80% son mensajes cortos $\\lambda_1=0.8$, $\\lambda_2=0.2$.\n",
    "Comparar la evolución del sistema asignado mayor prioridad a los mensajes cortos o viceversa."
   ]
  },
  {
   "cell_type": "code",
   "execution_count": 11,
   "metadata": {},
   "outputs": [
    {
     "name": "stdout",
     "output_type": "stream",
     "text": [
      "weights are : [0.8 0.2]\n",
      "p is:  [0.4 0.2]\n",
      "U is:  [0.  0.4 0.6]\n",
      "X^2 is:  [0.5 2. ]\n",
      "S is:  0.4\n",
      "W is:  [0.66666667 1.66666667]\n",
      "R is:  [1.16666667 2.66666667]\n",
      "1.4666666666666668\n"
     ]
    }
   ],
   "source": [
    "X1 = 0.5\n",
    "X2 = 1\n",
    "lambda1 = 0.8\n",
    "lambda2 = 0.2\n",
    "R = cal_total_R_priority_nonpreemptive_MM1(np.array([0.8, 0.2]), 1 / np.array([0.5, 1]))\n",
    "assert abs(R - 1.4666) < 0.001\n",
    "print(R)"
   ]
  },
  {
   "cell_type": "markdown",
   "metadata": {},
   "source": [
    "# Sistema con prioridades explusivas"
   ]
  },
  {
   "cell_type": "markdown",
   "metadata": {},
   "source": [
    "$$\n",
    "\\begin{split}\n",
    "\\overline{R}_i = H_i + P_i + \\overline{X}_i\\\\\n",
    "\\end{split}\n",
    "$$"
   ]
  },
  {
   "cell_type": "markdown",
   "metadata": {},
   "source": [
    "$\\overline{H}_i$ tiempo medio en el sistema de los trabajos de las clases 1 a i que ya están en el sistema"
   ]
  },
  {
   "cell_type": "markdown",
   "metadata": {},
   "source": [
    "$$\n",
    "\\overline{H}_i = \\frac{1}{2} \\frac{\\sum_{k=1}^{i}\\lambda_k \\overline{X^2_k}}{1 - U_i}\n",
    "$$"
   ]
  },
  {
   "cell_type": "markdown",
   "metadata": {},
   "source": [
    "$P_i$ tiempo medio de retraso que se produce por la ejecución de todos los trabajos de las clases 1 a $i - 1$ que lleguen después que dicho trabajo y antes de que acabe su ejecución."
   ]
  },
  {
   "cell_type": "markdown",
   "metadata": {},
   "source": [
    "$$\n",
    "P_i = \\sum_{k=1}^{i-1}\\lambda_k \\overline{X}_k \\overline{R}_i = \\overline{R}_i U_{i-1}\n",
    "$$"
   ]
  },
  {
   "cell_type": "markdown",
   "metadata": {},
   "source": [
    "$\\overline{X}_i$ tiempo medio de ejecución de dicho trabajo"
   ]
  },
  {
   "cell_type": "markdown",
   "metadata": {},
   "source": [
    "$$\n",
    "\\overline{R}_i = \\frac{\\overline{X}_i}{1 - U_{i-1}} + \\frac{\\frac{1}{2}\\sum_{k=1}^i \\lambda_k \\overline{X^2_k}}{(1 - U_i)(1 - U_{i-1})}\n",
    "$$"
   ]
  },
  {
   "cell_type": "code",
   "execution_count": 12,
   "metadata": {
    "scrolled": false
   },
   "outputs": [],
   "source": [
    "def cal_R_MM1_preemptive(lambdas, mus):\n",
    "    U = cal_U(lambdas, mus)\n",
    "    X_2 = cal_X2_exponential(mus)\n",
    "    left = (1 / mus) / (1 - U[:-1])\n",
    "    print(\"left is: \", left)\n",
    "    numerator = np.cumsum(lambdas*X_2 / 2)\n",
    "    print(\"numerator is: \", numerator)\n",
    "    denominator = (1 - U[1:]) * (1 - U[:-1])\n",
    "    print(\"denominator is: \", denominator)\n",
    "    right = numerator / denominator\n",
    "    print(\"right is: \", denominator)\n",
    "    R = np.array(left + right)\n",
    "    print(\"R is: \", R)\n",
    "    return R"
   ]
  },
  {
   "cell_type": "markdown",
   "metadata": {},
   "source": [
    "$$\n",
    "\\overline{R} = \\sum_{k=1}^{p} \\frac{\\lambda_k}{\\lambda} \\overline{R}_k\n",
    "$$"
   ]
  },
  {
   "cell_type": "code",
   "execution_count": 13,
   "metadata": {
    "scrolled": false
   },
   "outputs": [
    {
     "name": "stdout",
     "output_type": "stream",
     "text": [
      "weights are : [0.13513514 0.81081081 0.05405405]\n",
      "p is:  [0.2 0.3 0.3]\n",
      "U is:  [0.  0.2 0.5 0.8]\n",
      "X^2 is:  [0.32 0.02 4.5 ]\n",
      "left is:  [0.4   0.125 3.   ]\n",
      "numerator is:  [0.08 0.11 0.56]\n",
      "denominator is:  [0.8 0.4 0.1]\n",
      "right is:  [0.8 0.4 0.1]\n",
      "R is:  [0.5 0.4 8.6]\n"
     ]
    }
   ],
   "source": [
    "def cal_R_total_MM1_preemptive(lambdas, mus):\n",
    "    weight = cal_weight(lambdas)\n",
    "    R = cal_R_MM1_preemptive(lambdas, mus)\n",
    "    return np.sum(weight * R)\n",
    "    \n",
    "assert abs(cal_R_total_MM1_preemptive(np.array([0.5, 3, 0.2]), 1 / np.array([0.4, 0.1, 1.5])) - 0.86) < 0.1"
   ]
  },
  {
   "cell_type": "markdown",
   "metadata": {},
   "source": [
    "Una CPU soporta tres tipos de tareas cuyas características son:"
   ]
  },
  {
   "cell_type": "code",
   "execution_count": 14,
   "metadata": {
    "scrolled": true
   },
   "outputs": [
    {
     "name": "stdout",
     "output_type": "stream",
     "text": [
      "weights are : [0.13513514 0.81081081 0.05405405]\n",
      "p is:  [0.2 0.3 0.3]\n",
      "U is:  [0.  0.2 0.5 0.8]\n",
      "X^2 is:  [0.32 0.02 4.5 ]\n",
      "left is:  [0.4   0.125 3.   ]\n",
      "numerator is:  [0.08 0.11 0.56]\n",
      "denominator is:  [0.8 0.4 0.1]\n",
      "right is:  [0.8 0.4 0.1]\n",
      "R is:  [0.5 0.4 8.6]\n"
     ]
    },
    {
     "data": {
      "text/plain": [
       "0.8567567567567568"
      ]
     },
     "execution_count": 14,
     "metadata": {},
     "output_type": "execute_result"
    }
   ],
   "source": [
    "X1 = 0.4\n",
    "X2 = 0.1\n",
    "X3 = 1.5\n",
    "mus = 1 / np.array([X1, X2, X3])\n",
    "\n",
    "lambda1 = 0.5\n",
    "lambda2 = 3.0\n",
    "lambda3 = 0.2\n",
    "lambdas = np.array([lambda1, lambda2, lambda3])\n",
    "\n",
    "cal_R_total_MM1_preemptive(lambdas, mus)"
   ]
  },
  {
   "cell_type": "markdown",
   "metadata": {},
   "source": [
    "El funcionamiento global mejora sensiblemente si se permite la interrupcion de trabajos."
   ]
  },
  {
   "cell_type": "markdown",
   "metadata": {},
   "source": [
    "# Sistemas de eventos puntuales"
   ]
  },
  {
   "cell_type": "markdown",
   "metadata": {},
   "source": [
    "Los cambios se producen de forma discreta, el número de trabajos en el sitema cambia cuando se produce una llegada o un salida del sistema."
   ]
  },
  {
   "cell_type": "markdown",
   "metadata": {},
   "source": [
    "## Distribución de N"
   ]
  },
  {
   "cell_type": "markdown",
   "metadata": {},
   "source": [
    "Si la media de llegadas por unidad de tiempo es $\\lambda$, el número de llegadas en un invervalo de tiempo $t$ es $\\sum_{i=1}^{m}{probabilidad\\,en\\,el\\,subintervalo_i}$ donde $mh=t$, y h es suficientemente pequeño, no se produce más de 1 llega. La probabilidad de obtener k llegadas"
   ]
  },
  {
   "cell_type": "markdown",
   "metadata": {},
   "source": [
    "$$\n",
    "\\begin{split}\n",
    "P(N=k) &= \\binom{m}{k}\\Big(\\frac{\\lambda t}{m}\\Big)^k\\Big(1 - \\frac{\\lambda t}{m}\\Big)^{m-k}\\\\\n",
    "m \\to +\\infty \\implies &= \\frac{(\\lambda t)^k e^{-\\lambda t}}{k!} \\quad Poisson(\\lambda t)\n",
    "\\end{split}\n",
    "$$"
   ]
  },
  {
   "cell_type": "markdown",
   "metadata": {},
   "source": [
    "La media $\\overline{N}=\\lambda t$ y la varianza $Var(N)=\\lambda t$, se conocen como Procesos de Poisson."
   ]
  },
  {
   "cell_type": "markdown",
   "metadata": {},
   "source": [
    "## Distribución de T"
   ]
  },
  {
   "cell_type": "markdown",
   "metadata": {},
   "source": [
    "La probabilidad de que no se produzcan llegadas en el intervalo $(0, t)$ es"
   ]
  },
  {
   "cell_type": "markdown",
   "metadata": {},
   "source": [
    "$$\n",
    "\\begin{split}\n",
    "P(T > t=mh) &= q^m = \\Big(1 - \\frac{\\lambda t}{m}\\Big)^m\\\\\n",
    "m \\to +\\infty \\implies &= e^{-\\lambda t}\\\\\n",
    "\\end{split}\n",
    "$$"
   ]
  },
  {
   "cell_type": "markdown",
   "metadata": {},
   "source": [
    "La función de distribución del timepo entre dos eventos consecutivas es"
   ]
  },
  {
   "cell_type": "markdown",
   "metadata": {},
   "source": [
    "$$F_T(t) = P(T < t) = 1 - e^{-\\lambda t} \\quad Exp(\\lambda)$$"
   ]
  },
  {
   "cell_type": "markdown",
   "metadata": {},
   "source": [
    "La función de densidad es"
   ]
  },
  {
   "cell_type": "markdown",
   "metadata": {},
   "source": [
    "$$\n",
    "f_T(t) = \\lambda e^{-\\lambda t}\n",
    "$$"
   ]
  },
  {
   "cell_type": "markdown",
   "metadata": {},
   "source": [
    "La media es $\\overline{T}=\\frac{1}{\\lambda}$ y la varianza es $Var(T)=\\frac{1}{\\lambda^2}$"
   ]
  },
  {
   "cell_type": "markdown",
   "metadata": {},
   "source": [
    "Supongamos que a un ordenador va llegando trabajos siguiendo un proceso de Poisson. Se sabe que en el periodo de longitud $t$, la probabilidad de que no llegue ningún trabajos es 0.7. Determinar la media y la varianza del número de trabajos llegados en un periodo de longitud $2t$.\n",
    "\n",
    "$$\n",
    "\\begin{split}\n",
    "P(t > T) &= 1 - F_T(t) = e^{-\\lambda t} = 0.7\\\\\n",
    "\\lambda t &= \\ln(0.7)\\\\\n",
    "\\end{split}\n",
    "$$\n",
    "\n",
    "La media y la varianza del número medio de llegadas en el intervalo (0,t) es precisamente 0.36. En el intervalo (0,2t), los valores serán exactamente el doble 0.72."
   ]
  },
  {
   "cell_type": "markdown",
   "metadata": {},
   "source": [
    "Supongamos que estamos estudiando los errores durante al ejecución de un programa. Se sabe que la probabilidad de que se produzca un error o más (de software o hardware) en 15 minutos es del 5%.\n",
    "\n",
    "Cuál es la tasa de error?\n",
    "\n",
    "$$\n",
    "P(t < 15) = 0.05 \\implies \\lambda = -\\frac{\\ln{(1-0.05)}}{15} = 0.00341955295\n",
    "$$\n",
    "\n",
    "Cuál es la probabilidad de que no se proudzca ningún error en tres horas de ejecución?\n",
    "\n",
    "P(t > 180) = e^{-180 * 0.003419} = 0.54"
   ]
  },
  {
   "cell_type": "markdown",
   "metadata": {},
   "source": [
    "# Unión de procesos de Poisson"
   ]
  },
  {
   "cell_type": "markdown",
   "metadata": {},
   "source": [
    "Un sistema al que llegan trabajos de dos fuentes distintas de procesos de Poisson independientes con tass de llegadas $\\lambda_1$ y $\\lambda_2$. El número medio de llegadas será la suma de las medias de llegadas de cada uno de los procesos originales."
   ]
  },
  {
   "cell_type": "markdown",
   "metadata": {},
   "source": [
    "# División de procesos de Poisson"
   ]
  },
  {
   "cell_type": "markdown",
   "metadata": {},
   "source": [
    "La división de un proceso en n secuencias, para ello, una llegada se asigna al proceso $p_k$, la tasa de llegada resulta $p_k \\lambda$"
   ]
  },
  {
   "cell_type": "markdown",
   "metadata": {},
   "source": [
    "Supongamos que a un ordenador con $n$ procesadores llegan trabajos según un proceso de Poisson de tasa $\\lambda$.\n",
    "\n",
    "Una vez que un trabajo ha llegado, se asigna a un procesador de forma aleatoria y con la misma probabilidad para los procesadores.\n",
    "\n",
    "Qué distribución tiene de la variable que mide el tiempo entre dos llegadas consecutivas a cada procesador?\n",
    "\n",
    "$$\\lambda_k = \\frac{\\lambda}{n}$$\n",
    "\n",
    "La media y la desviación tipica de cada una de estas variables es $\\frac{n}{\\lambda}$.\n",
    "\n",
    "Hallar el coeficiente de variación.\n",
    "\n",
    "El coeficiente de variación es 1."
   ]
  },
  {
   "cell_type": "markdown",
   "metadata": {},
   "source": [
    "Supongamos que a un ordenador con $n$ procesadores llegan trabajos según un proceso de Poisson de tasa $\\lambda$.\n",
    "\n",
    "Una vez que un trabajo ha llegado, se asigna cíclica a cada procesador, de manera que si un trabajo se asigna al procesador $k$, el siguiente trabajo se asignará al procesador $k+1$ o al primero si $k¡n$.\n",
    "\n",
    "Hallar el coeficiente de variación.\n",
    "\n",
    "$$\n",
    "\\begin{split}\n",
    "T &= \\sum_i^n{T_i}\\\\\n",
    "\\overline{X} &= \\sum_i^n{\\overline{X}_i}=\\frac{n}{\\lambda}\\\\\n",
    "Var{(\\sum_n{\\overline{X}_i})} &= \\sum_n{Var(\\overline{X}_i)}=\\frac{n}{\\lambda^2}\\\\\n",
    "C(X) &= \\frac{\\sqrt{\\frac{n}{\\lambda^2}}}{\\frac{n}{\\lambda}}=\\frac{1}{\\sqrt{n}}\\\\\n",
    "\\end{split}\n",
    "$$"
   ]
  },
  {
   "cell_type": "markdown",
   "metadata": {},
   "source": [
    "Supongamos un sistema con un único procesador que admite tanto trabajos locales como trabajos enviados desde otra máquina remota. La máquina remota envía trabajos con un tasa de 1 por hora y que los dos procesos de llegada son de Poisson. La desviación típica de la variable T, tiempo entre dos llegadas consecutivas, es de 15 minutos.\n",
    "\n",
    "Determinar la tasa de envío de trabajos de la máquina local.\n",
    "\n",
    "$$\n",
    "\\begin{split}\n",
    "\\lambda &= \\lambda_1 + \\lambda_2 = \\lambda_1 + 1\\\\\n",
    "\\sigma &= \\frac{15}{60} = \\frac{1}{\\lambda_1 + 1} \\implies \\lambda_1 = 3\\\\\n",
    "\\end{split}\n",
    "$$"
   ]
  },
  {
   "cell_type": "markdown",
   "metadata": {},
   "source": [
    "# Procesos de Nacimiento y Muerte"
   ]
  },
  {
   "cell_type": "markdown",
   "metadata": {},
   "source": [
    "![Diagrama de tasa de transición](diagrama-de-tasa-de-transicion.jpg)"
   ]
  },
  {
   "cell_type": "markdown",
   "metadata": {},
   "source": [
    "El procesos de nacimiento y muerte describe, en términos probabilísticos, como cambia $N(t)$ el número de trabajos en el sistema al aumentar t."
   ]
  },
  {
   "cell_type": "markdown",
   "metadata": {},
   "source": [
    "La probabilidad de que en el sistema haya k clientes $p_k$\n",
    "\n",
    "Número medio de clientes en el sistema $\\sum_{k=0}^{\\infty} kp_k=J$\n",
    "\n",
    "Probabilidad de que haya más de r clientes $\\sum_{k=r}^{\\infty} p_k$\n",
    "\n",
    "Número medio de clientes en cola (m servidores) $\\sum_{k=m+1}^{\\infty} p_k(k-m)$\n",
    "\n",
    "Probabilidad de que el sistema esté ocioso $p_0$"
   ]
  },
  {
   "cell_type": "markdown",
   "metadata": {},
   "source": [
    "Si en el sistema hay $N(t)=n$ trabajos, el tiempo hasta el próximo nacimiento tiene una distribución exponencial de parámetro $\\lambda_n$\n",
    "\n",
    "Si en el sistema hay $N(t)=n$ trabajos, el tiempo hasta el próxima muerte tiene una distribución exponencial de parámetro $\\mu_n$\n",
    "\n",
    "Para que en el instante $t+h$ haya $k$ trabajos tiene que ocurrir:\n",
    "\n",
    "Que en el periodo $t$ haya $k-1$ y se produzca un nacimiento y no se produzca una muerte $p_{k-1}(t)(\\lambda_{k-1}h)(1-\\mu_{k-1}h)$\n",
    "\n",
    "Que en el periodo $t$ haya $k$ y no se produzca un nacimiento ni no se produzca una muerte $p_{k}(t)(1-\\lambda_{k}h)(1-\\mu_kh)$\n",
    "\n",
    "Que en el periodo $t$ haya $k+1$ y no se produzca un nacimiento pero se produzca una muerte $p_{k+1}(t)(1-\\lambda_{k+1}h)(\\mu_{k+1}h)$\n",
    "\n",
    "$$\n",
    "p_k(t+h) = p_{k-1}(t)(\\lambda_{k-1}h)(1-\\mu_{k-1}h) + p_{k}(t)(1-\\lambda_{k}h)(1-\\mu_kh) + p_{k+1}(t)(1-\\lambda_{k+1}h)(\\mu_{k+1}h)\n",
    "$$"
   ]
  },
  {
   "cell_type": "markdown",
   "metadata": {},
   "source": [
    "$$\n",
    "\\begin{split}\n",
    "p_{k-1}\\lambda_{k-1} + p_{k+1}\\mu_{k+1} &= p_k\\lambda_k + p_k\\mu_k\\\\\n",
    "p_{i-1}\\lambda_{i-1} &= p_i\\mu_{i}\n",
    "\\end{split}\n",
    "$$"
   ]
  },
  {
   "cell_type": "markdown",
   "metadata": {},
   "source": [
    "$$\n",
    "\\begin{split}\n",
    "r_i &= \\frac{\\lambda_{i - 1}}{\\mu_i}\\\\\n",
    "S_k &= r_1 * ... * r_k\\\\\n",
    "p_k &= p_0S_k\\\\\n",
    "p_0 &= \\frac{1}{\\sum{S_k}}\n",
    "\\end{split}\n",
    "$$"
   ]
  },
  {
   "cell_type": "markdown",
   "metadata": {},
   "source": [
    "# Sistema M/M/1"
   ]
  },
  {
   "cell_type": "markdown",
   "metadata": {},
   "source": [
    "$$p_k=(1-\\rho)\\rho^k$$"
   ]
  },
  {
   "cell_type": "code",
   "execution_count": 15,
   "metadata": {
    "scrolled": true
   },
   "outputs": [
    {
     "name": "stdout",
     "output_type": "stream",
     "text": [
      "p is:  0.4340277777777778\n",
      "p_ 2  is:  0.10661791054473166\n"
     ]
    }
   ],
   "source": [
    "def cal_pk_MM1(lambdas, mus, k):\n",
    "    p = cal_p(lambdas, mus)\n",
    "    pk = (1 - p)*p**k\n",
    "    print(\"p_\", k, \" is: \", pk)\n",
    "    return pk\n",
    "\n",
    "assert abs(cal_pk_MM1(250, 9600/1000*60, 2) - 0.1052) < 0.01"
   ]
  },
  {
   "cell_type": "code",
   "execution_count": 16,
   "metadata": {},
   "outputs": [],
   "source": [
    "def cal_pk_MM1_cumulative(lambdas, mus, k):\n",
    "    pks = []\n",
    "    for i in range(k + 1):\n",
    "        pks.append(cal_pk_MM1(lambdas, mus, i))\n",
    "    print(\"p_\", k, \" is: \", pks)\n",
    "    return np.sum(pks)"
   ]
  },
  {
   "cell_type": "markdown",
   "metadata": {},
   "source": [
    "$$\n",
    "\\overline{J} = \\frac{\\rho}{1 - \\rho}\n",
    "$$"
   ]
  },
  {
   "cell_type": "code",
   "execution_count": 17,
   "metadata": {},
   "outputs": [],
   "source": [
    "def cal_J_MM1(lambdas, mus):\n",
    "    p = cal_p(lambdas, mus)\n",
    "    J = p / (1 - p)\n",
    "    print(\"J is: \", J)\n",
    "    return J"
   ]
  },
  {
   "cell_type": "markdown",
   "metadata": {},
   "source": [
    "$$\n",
    "\\overline{R} = \\frac{1}{\\mu (1 - \\rho)} = \\frac{1}{\\mu - \\lambda}\n",
    "$$"
   ]
  },
  {
   "cell_type": "code",
   "execution_count": 18,
   "metadata": {
    "scrolled": false
   },
   "outputs": [
    {
     "name": "stdout",
     "output_type": "stream",
     "text": [
      "p is:  0.8\n",
      "R is:  0.5000000000000001\n",
      "p is:  0.8\n",
      "R is:  0.5000000000000001\n",
      "p is:  0.8\n",
      "J is:  4.000000000000001\n"
     ]
    }
   ],
   "source": [
    "def cal_R_MM1(lambda_, mu):\n",
    "    p = cal_p(lambda_, mu)\n",
    "    R = 1 / (mu * (1 - p))\n",
    "    print(\"R is: \", R)\n",
    "    return R\n",
    "\n",
    "assert abs(cal_R_MM1(8, 10) - 0.5) < 0.001\n",
    "assert abs(cal_R_MM1(8, 10) - cal_J_MM1(8, 10) / 8) < 0.001"
   ]
  },
  {
   "cell_type": "markdown",
   "metadata": {},
   "source": [
    "Una línea de comunicaciones transmite a $v=9600$ bps. se producen llegadas de mensajes según un proceso de Poisson con tasa $\\lambda = 250$ llegadas por minuto. Los mensajes tienen longitud exponencial con media 1000 bits $\\overline{X}=\\frac{1000}{9600}$."
   ]
  },
  {
   "cell_type": "code",
   "execution_count": 19,
   "metadata": {},
   "outputs": [
    {
     "name": "stdout",
     "output_type": "stream",
     "text": [
      "p is:  0.4340277777777778\n",
      "p_ 0  is:  0.5659722222222222\n",
      "p is:  0.4340277777777778\n",
      "p_ 1  is:  0.24564766589506173\n",
      "p is:  0.4340277777777778\n",
      "p_ 2  is:  0.10661791054473166\n",
      "p_ 2  is:  [0.5659722222222222, 0.24564766589506173, 0.10661791054473166]\n"
     ]
    },
    {
     "data": {
      "text/plain": [
       "0.0817622013379844"
      ]
     },
     "execution_count": 19,
     "metadata": {},
     "output_type": "execute_result"
    }
   ],
   "source": [
    "X = 1000 / 9600 / 60\n",
    "_lambda = 250\n",
    "1 - cal_pk_MM1_cumulative(_lambda, 1/X, 2)"
   ]
  },
  {
   "cell_type": "markdown",
   "metadata": {},
   "source": [
    "# Sistema M/M/1 con buffer limitado"
   ]
  },
  {
   "cell_type": "markdown",
   "metadata": {},
   "source": [
    "El número máximo de clientes en el sistema es $m$"
   ]
  },
  {
   "cell_type": "markdown",
   "metadata": {},
   "source": [
    "$$\n",
    "p_k = \\rho^k \\frac{1 - \\rho}{1 - \\rho^{m + 1}}\n",
    "$$"
   ]
  },
  {
   "cell_type": "code",
   "execution_count": 20,
   "metadata": {},
   "outputs": [
    {
     "name": "stdout",
     "output_type": "stream",
     "text": [
      "p is:  0.8736111111111111\n",
      "p_ 4  is: 0.14988851075237297\n"
     ]
    }
   ],
   "source": [
    "def cal_pk_MM1m(lambda_, mu, m, k):\n",
    "    p = cal_p(lambda_, mu)\n",
    "    pk = p**k*(1-p)/(1-p**(m+1))\n",
    "    print(\"p_\", k, \" is:\", pk)\n",
    "    return pk\n",
    "\n",
    "assert abs(cal_pk_MM1m(85/60, 60/37, 4, 4) * 100 - 14.988851) < 0.001"
   ]
  },
  {
   "cell_type": "code",
   "execution_count": 21,
   "metadata": {},
   "outputs": [],
   "source": [
    "def cal_MM1m_loss_probability(lambda_, mu, m):\n",
    "    return cal_pk_MM1m(lambda_, mu, m, m)"
   ]
  },
  {
   "cell_type": "markdown",
   "metadata": {},
   "source": [
    "$$\n",
    "\\overline{J}(m) = \\frac{\\rho}{1 - \\rho} - (m + 1)\\frac{\\rho^{m + 1}}{1 - \\rho^{m + 1}}\n",
    "$$"
   ]
  },
  {
   "cell_type": "code",
   "execution_count": 22,
   "metadata": {},
   "outputs": [
    {
     "name": "stdout",
     "output_type": "stream",
     "text": [
      "p is:  0.8837209302325582\n",
      "J is:  2.8615254562386045\n"
     ]
    }
   ],
   "source": [
    "def cal_J_MM1m(lambda_, mu, m):\n",
    "    p = cal_p(lambda_, mu)\n",
    "    J = p / (1 - p)-(m + 1)*(p**(m+1))/(1-p**(m+1))\n",
    "    print(\"J is: \", J)\n",
    "    return J\n",
    "\n",
    "assert abs(cal_J_MM1m(1/17.2, 1/15.2, 7) - 2.8615254562386037) < 0.001"
   ]
  },
  {
   "cell_type": "markdown",
   "metadata": {},
   "source": [
    "Fracción de tiempo que el sistema está saturado: $p_m$\n",
    "\n",
    "Nivel medio de ocupación del buffer: $\\frac{\\overline{J}}{m}$\n",
    "\n",
    "Tasa efectiva de llegadas: $\\lambda (1 - p_m)$"
   ]
  },
  {
   "cell_type": "code",
   "execution_count": 23,
   "metadata": {},
   "outputs": [],
   "source": [
    "def cal_efective_rate(lambda_, pm):\n",
    "    return lambda_ * (1 - pm)\n",
    "\n",
    "assert abs(cal_efective_rate(10, 0.0758) - 9.242) < 0.1"
   ]
  },
  {
   "cell_type": "markdown",
   "metadata": {},
   "source": [
    "# Sistema M/M/c (Fórmula C de Erlang)"
   ]
  },
  {
   "cell_type": "markdown",
   "metadata": {},
   "source": [
    "$$\n",
    "p_0 = \\frac{1}{\\sum_{k=0}^{c-1}\\frac{(c\\rho)^k}{k!} + \\frac{(c\\rho)^c}{c!(1 - \\rho)}}\n",
    "$$"
   ]
  },
  {
   "cell_type": "code",
   "execution_count": 24,
   "metadata": {},
   "outputs": [
    {
     "name": "stdout",
     "output_type": "stream",
     "text": [
      "p is:  [0.66666667]\n",
      "p0 is:  [0.11111111]\n"
     ]
    }
   ],
   "source": [
    "def cal_p0_MMC_without_lost(lambdas, mus, c=1):\n",
    "    c = np.atleast_1d(c)\n",
    "    p = cal_p(lambdas, mus, c)\n",
    "    ks = [np.arange(cc) for cc in c]\n",
    "    cp = c*p\n",
    "    right = (c*p)**c/(np.factorial(c)*(1-p))\n",
    "    left = []\n",
    "    for k, cp in zip(ks, cp):\n",
    "        numerator = cp**k\n",
    "        denominator = np.factorial(k)\n",
    "        left.append(np.sum(numerator/denominator))\n",
    "    left = np.array(left)\n",
    "    p0 = 1 / (left + right)\n",
    "    print(\"p0 is: \", p0)\n",
    "    return p0\n",
    "\n",
    "assert abs(cal_p0_MMC_without_lost(20, 10, 3) - 1/9) < 0.001"
   ]
  },
  {
   "cell_type": "markdown",
   "metadata": {},
   "source": [
    "$$\n",
    "p_k = \n",
    "     \\begin{cases}\n",
    "       \\frac{(c\\rho)^k p_0}{k!} &\\quad \\text{si}\\, 0 \\le k \\le c\\\\\n",
    "       \\frac{c^c\\rho^k p_0}{c!} &\\quad \\text{si}\\, c \\le k\\\\\n",
    "     \\end{cases}\n",
    "$$"
   ]
  },
  {
   "cell_type": "code",
   "execution_count": 25,
   "metadata": {
    "scrolled": true
   },
   "outputs": [
    {
     "name": "stdout",
     "output_type": "stream",
     "text": [
      "p is:  0.6666666666666666\n",
      "p is:  [0.66666667]\n",
      "p0 is:  [0.11111111]\n",
      "p_ 0  is:  [0.11111111]\n",
      "p is:  0.6666666666666666\n",
      "p is:  [0.66666667]\n",
      "p0 is:  [0.11111111]\n",
      "p_ 1  is:  [0.22222222]\n",
      "p is:  0.6666666666666666\n",
      "p is:  [0.66666667]\n",
      "p0 is:  [0.11111111]\n",
      "p_ 2  is:  [0.22222222]\n"
     ]
    }
   ],
   "source": [
    "def cal_pk_MMC_without_lost(lambdas, mus, c, k):\n",
    "    p = cal_p(lambdas, mus, c)\n",
    "    p0 = cal_p0_MMC_without_lost(lambdas, mus, c)\n",
    "    if k > 0:\n",
    "        pk = p0 * c**np.minimum(c, [k]) * p**k / np.minimum(c, [k])\n",
    "    else:\n",
    "        pk = p0\n",
    "    print(\"p_\", k, \" is: \", pk)\n",
    "    return pk\n",
    "\n",
    "assert (cal_pk_MMC_without_lost(20/60, 1/6, 3, 0) - 1/9) < 0.001\n",
    "assert (cal_pk_MMC_without_lost(20/60, 1/6, 3, 1) - 2/9) < 0.001\n",
    "assert (cal_pk_MMC_without_lost(20/60, 1/6, 3, 2) - 4/18) < 0.001"
   ]
  },
  {
   "cell_type": "markdown",
   "metadata": {},
   "source": [
    "Número medio de procesadores ocupados $c\\rho$\n",
    "\n",
    "Probabilidad de que un trabajo tenga que hacer cola (Fórmula C de Erlang) $\\sum_{k=c}^{\\infty} p_k$"
   ]
  },
  {
   "cell_type": "code",
   "execution_count": 26,
   "metadata": {},
   "outputs": [],
   "source": [
    "def cal_pk_serie_without_lost(lambda_, mu, c, k):\n",
    "    p = cal_p(lambda_, mu, c)\n",
    "    p0 = cal_p0_MMC_without_lost(lambda_, mu, c)\n",
    "    p_serie = [p0]\n",
    "    for i in range(1, k+1):\n",
    "        p_serie.append(p_serie[i-1] * c * p / i)\n",
    "    print(\"The p serie is \", p_serie)\n",
    "    return np.array(p_serie)"
   ]
  },
  {
   "cell_type": "code",
   "execution_count": 27,
   "metadata": {
    "scrolled": true
   },
   "outputs": [
    {
     "name": "stdout",
     "output_type": "stream",
     "text": [
      "p is:  0.6666666666666666\n",
      "p is:  [0.66666667]\n",
      "p0 is:  [0.11111111]\n",
      "The p serie is  [array([0.11111111]), array([0.22222222]), array([0.22222222]), array([0.14814815])]\n",
      "p is:  0.6133333333333333\n",
      "p is:  [0.61333333]\n",
      "p0 is:  [0.38666667]\n",
      "The p serie is  [array([0.38666667]), array([0.23715556])]\n"
     ]
    }
   ],
   "source": [
    "def cal_wait_probability_MMC_without_lost(lambda_, mu, c):\n",
    "    p_serie = cal_pk_serie_without_lost(lambda_, mu, c, c)\n",
    "    return 1 - np.sum(p_serie[:-1])\n",
    "\n",
    "assert abs(cal_wait_probability_MMC_without_lost(20, 10, 3) - 4/9) < 0.001\n",
    "assert abs(cal_wait_probability_MMC_without_lost(16 / 60, 1 / 2.3, 1) * 100 - 61.33) < 0.01"
   ]
  },
  {
   "cell_type": "markdown",
   "metadata": {},
   "source": [
    "Número medio de trabajos en cola"
   ]
  },
  {
   "cell_type": "markdown",
   "metadata": {},
   "source": [
    "$$\n",
    "\\overline{Q} = \\frac{(c\\rho)^c \\lambda \\mu p_0}{(c-1)!(c \\mu - \\lambda)^2}\n",
    "$$"
   ]
  },
  {
   "cell_type": "code",
   "execution_count": 28,
   "metadata": {
    "scrolled": false
   },
   "outputs": [
    {
     "name": "stdout",
     "output_type": "stream",
     "text": [
      "p is:  0.6133333333333333\n",
      "p is:  [0.61333333]\n",
      "p0 is:  [0.38666667]\n",
      "[0.0274963] / 0.02826296996429323\n",
      "Q is:  [0.97287356]\n",
      "W is:  [3.64827586]\n"
     ]
    }
   ],
   "source": [
    "def cal_Q_MMC(lambda_, mu, c):\n",
    "    p = cal_p(lambda_, mu, c)\n",
    "    p0 = cal_p0_MMC_without_lost(lambda_, mu, c)\n",
    "    numerator = (c*p)**c * lambda_ * mu * p0\n",
    "    denominator = np.factorial(c-1)*(c*mu-lambda_)**2\n",
    "    print(numerator, \"/\", denominator)\n",
    "    Q = numerator / denominator\n",
    "    print(\"Q is: \", Q)\n",
    "    return Q\n",
    "\n",
    "def cal_W_MMC(lambda_, mu, c):\n",
    "    W = cal_Q_MMC(lambda_, mu, c) / lambda_\n",
    "    print(\"W is: \", W)\n",
    "    return W\n",
    "\n",
    "def cal_R_MMC(lambda_, mu, c):\n",
    "    return cal_W_MMC(lambda_, mu, c) + 1 / mu\n",
    "\n",
    "assert abs(cal_R_MMC(16 / 60, 1 / 2.3, 1) - 5.948) < 0.001"
   ]
  },
  {
   "cell_type": "markdown",
   "metadata": {},
   "source": [
    "Un central telefónica está atendrida por tres centralista $c=3$ y recibe llamandas con una tasa de 20 llamadas $\\lambda=20$ a la hora con una duración media de 6 minutos $\\overline{X}=6$. Dispone de un servicio de espera que se puede considerar de capacidad ilimitada. Tanto el proceso de llegadas como de servicio se pueden considerar procesos de Poisson."
   ]
  },
  {
   "cell_type": "code",
   "execution_count": 29,
   "metadata": {},
   "outputs": [
    {
     "name": "stdout",
     "output_type": "stream",
     "text": [
      "p is:  0.6666666666666666\n",
      "p is:  [0.66666667]\n",
      "p0 is:  [0.11111111]\n",
      "p is:  0.6666666666666666\n",
      "p is:  [0.66666667]\n",
      "p0 is:  [0.11111111]\n",
      "The p serie is  [array([0.11111111]), array([0.22222222]), array([0.22222222]), array([0.14814815])]\n",
      "0.4444444444444444\n"
     ]
    }
   ],
   "source": [
    "c = 3\n",
    "X = 6\n",
    "lambda_ = 20 / 60\n",
    "p = cal_p(lambda_, 1 / X, c)\n",
    "assert abs(p - 2/3) < 0.001\n",
    "p0 = cal_p0_MMC_without_lost(lambda_, 1 / X, c)\n",
    "assert abs(p0 - 1/9) < 0.001\n",
    "probability = cal_wait_probability_MMC_without_lost(lambda_, 1 / X, c)\n",
    "assert abs(probability - 4/9) < 0.001\n",
    "print(probability)"
   ]
  },
  {
   "cell_type": "markdown",
   "metadata": {},
   "source": [
    "# Sistema M/M/c con pérdidas"
   ]
  },
  {
   "cell_type": "markdown",
   "metadata": {},
   "source": [
    "Si $\\rho$ es $\\frac{\\lambda}{\\mu}$"
   ]
  },
  {
   "cell_type": "markdown",
   "metadata": {},
   "source": [
    "$$p_k = \\frac{\\rho^k}{k!}\\frac{1}{\\sum_{j=0}^c\\frac{\\rho^j}{j!}} \\quad 0 \\le k \\le c$$"
   ]
  },
  {
   "cell_type": "markdown",
   "metadata": {},
   "source": [
    "$p_c$ es la probabilidad de que el sistema está lleno, Fórmula B de Erlang"
   ]
  },
  {
   "cell_type": "code",
   "execution_count": 30,
   "metadata": {},
   "outputs": [],
   "source": [
    "def cal_pk_MMC_with_lost(lambdas, mus, c, k):\n",
    "    p = cal_p(lambda_, mu)\n",
    "    return p**k / factorial(k) * 1 / np.sum([(p**j/factorial(j)) for j in range(c+1)])"
   ]
  },
  {
   "cell_type": "markdown",
   "metadata": {},
   "source": [
    "Consideremos la centralíta anterior en la que se estropea el sistema de llamandas en espera y, por tanto, cuando todas las líneas están ocupadas, la llamada entrante es rechazada."
   ]
  },
  {
   "cell_type": "code",
   "execution_count": 31,
   "metadata": {},
   "outputs": [
    {
     "name": "stdout",
     "output_type": "stream",
     "text": [
      "p is:  2.0\n",
      "0.21052631578947367\n"
     ]
    }
   ],
   "source": [
    "lambda_ = 20\n",
    "mu = 1 / 6 * 60\n",
    "c = 3\n",
    "p3 = cal_pk_MMC_with_lost(lambda_, mu, c, c)\n",
    "assert abs(p3 - 0.2105) < 0.001\n",
    "print(p3)"
   ]
  },
  {
   "cell_type": "markdown",
   "metadata": {},
   "source": [
    "# Sistema M/M/c con buffer limitado"
   ]
  },
  {
   "cell_type": "markdown",
   "metadata": {},
   "source": [
    "$$\n",
    "\\begin{split}\n",
    "p_0\n",
    "&= \\frac{1}{\\sum_{k=0}^{c-1}\\frac{(c\\rho)^k}{k!} + \\sum_{k=c}^{m}\\frac{c^c\\rho^k}{c!}}\\\\\n",
    "&= \\frac{1}{\\sum_{k=0}^{c-1}\\frac{(c\\rho)^k}{k!} + \\frac{(1-\\rho^{m+1-c})\\lambda^c}{c! \\mu^c (1-\\rho)}}\\\\\n",
    "\\end{split}\n",
    "$$"
   ]
  },
  {
   "cell_type": "code",
   "execution_count": 32,
   "metadata": {},
   "outputs": [
    {
     "name": "stdout",
     "output_type": "stream",
     "text": [
      "p is:  0.6666666666666666\n",
      "p0 is:  0.12796208530805686\n"
     ]
    }
   ],
   "source": [
    "def cal_p0_MMcm(lambda_, mu, c, m):\n",
    "    p = cal_p(lambda_, mu, c)\n",
    "    p0 = 1 / (np.sum([(c*p)**k/factorial(k) for k in range(c)]) + (1-p**(m+1-c))*lambda_**c/(factorial(c)*mu**c*(1-p)))\n",
    "    print(\"p0 is: \", p0)\n",
    "    return p0\n",
    "\n",
    "assert abs(cal_p0_MMcm(20, 10, 3, 5) - 0.128) < 0.001"
   ]
  },
  {
   "cell_type": "markdown",
   "metadata": {},
   "source": [
    "$$\n",
    "p_k = \n",
    "     \\begin{cases}\n",
    "       \\frac{(c\\rho)^k p_0}{k!} &\\quad \\text{si}\\, 0 \\le k \\le c\\\\\n",
    "       \\frac{c^c\\rho^k p_0}{c!} &\\quad \\text{si}\\, c \\le k \\le m\\\\\n",
    "     \\end{cases}\n",
    "$$"
   ]
  },
  {
   "cell_type": "code",
   "execution_count": 33,
   "metadata": {
    "scrolled": false
   },
   "outputs": [
    {
     "name": "stdout",
     "output_type": "stream",
     "text": [
      "p is:  0.6666666666666666\n",
      "p is:  0.6666666666666666\n",
      "p0 is:  0.12796208530805686\n",
      "p_ 5  is:  0.0758293838862559\n",
      "p is:  0.8\n",
      "p_ 0  is: 0.5555555555555556\n",
      "p is:  0.8\n",
      "p is:  0.8\n",
      "p0 is:  0.5555555555555556\n",
      "p_ 0  is:  0.5555555555555556\n"
     ]
    }
   ],
   "source": [
    "def cal_pk_MMcm(lambda_, mu, c, m, k):\n",
    "    p = cal_p(lambda_, mu, c)\n",
    "    p0 = cal_p0_MMcm(lambda_, mu, c, m)\n",
    "    pk = (c*p)**k/factorial(k)*p0 if k < c else c**c*p**k/factorial(c)*p0\n",
    "    print(\"p_\", k, \" is: \", pk)\n",
    "    return pk\n",
    "\n",
    "assert abs(cal_pk_MMcm(20, 10, 3, 5, 5) - 0.0758) < 0.01\n",
    "assert cal_pk_MM1m(12/60, 1/4, 1, 0) - cal_pk_MMcm(12/60, 1/4, 1, 1, 0) < 0.001"
   ]
  },
  {
   "cell_type": "code",
   "execution_count": 34,
   "metadata": {},
   "outputs": [],
   "source": [
    "def cal_MMcm_loss_probability(lambda_, mu, c, m):\n",
    "    return cal_pk_MMcm(lambda_, mu, c, m, m)"
   ]
  },
  {
   "cell_type": "markdown",
   "metadata": {},
   "source": [
    "$$\\overline{J} = \\sum_{k=0}^{m} k p_k$$"
   ]
  },
  {
   "cell_type": "code",
   "execution_count": 35,
   "metadata": {
    "scrolled": false
   },
   "outputs": [
    {
     "name": "stdout",
     "output_type": "stream",
     "text": [
      "p is:  0.6666666666666666\n",
      "p is:  0.6666666666666666\n",
      "p0 is:  0.12796208530805686\n",
      "The p serie is  [0.12796209 0.25592417 0.25592417 0.17061611 0.11374408 0.07582938]\n",
      "J is:  2.1137440758293837\n",
      "p is:  2.0\n",
      "p is:  2.0\n",
      "p0 is:  0.015873015873015872\n",
      "The p serie is  [0.01587302 0.03174603 0.06349206 0.12698413 0.25396825 0.50793651]\n",
      "J is:  4.095238095238095\n",
      "p is:  2.0\n",
      "J is:  4.095238095238095\n"
     ]
    }
   ],
   "source": [
    "def cal_J_MMcm(lambda_, mu, c, m):\n",
    "    p = cal_p(lambda_, mu, c)\n",
    "    p0 = cal_p0_MMcm(lambda_, mu, c, m)\n",
    "    p_serie = np.array([c*p/max(k,1) if k < c else p for k in range(m+1)])\n",
    "    p_serie[0] = p0\n",
    "    p_serie = np.cumprod(p_serie)\n",
    "    print(\"The p serie is \", p_serie)\n",
    "    J = np.sum(p_serie * np.arange(p_serie.size))\n",
    "    print(\"J is: \", J)\n",
    "    return J\n",
    "\n",
    "assert abs(cal_J_MMcm(20, 10, 3, 5) - 2.1137) < 0.01\n",
    "assert abs(cal_J_MMcm(20, 10, 1, 5) - cal_J_MM1m(20, 10, 5)) < 0.000001"
   ]
  },
  {
   "cell_type": "code",
   "execution_count": 36,
   "metadata": {},
   "outputs": [
    {
     "name": "stdout",
     "output_type": "stream",
     "text": [
      "p is:  0.6666666666666666\n",
      "p is:  0.6666666666666666\n",
      "p0 is:  0.12796208530805686\n",
      "The p serie is  [0.12796209 0.25592417 0.25592417 0.17061611 0.11374408 0.07582938]\n",
      "J is:  2.1137440758293837\n",
      "R is:  0.10568720379146919\n"
     ]
    }
   ],
   "source": [
    "def cal_R_MMcm(lambda_, mu, c, m):\n",
    "    J = cal_J_MMcm(lambda_, mu, c, m)\n",
    "    R = J / lambda_\n",
    "    print(\"R is: \", R)\n",
    "    return R\n",
    "\n",
    "assert abs(cal_R_MMcm(20, 10, 3, 5) - 0.1056) < 0.01"
   ]
  },
  {
   "cell_type": "code",
   "execution_count": 37,
   "metadata": {
    "scrolled": false
   },
   "outputs": [
    {
     "name": "stdout",
     "output_type": "stream",
     "text": [
      "p is:  0.6666666666666666\n",
      "p is:  0.6666666666666666\n",
      "p0 is:  0.12796208530805686\n",
      "The p serie is  [0.12796209 0.25592417 0.25592417 0.17061611 0.11374408 0.07582938]\n",
      "J is:  2.1137440758293837\n",
      "R is:  0.10568720379146919\n",
      "W is:  0.005687203791469184\n"
     ]
    }
   ],
   "source": [
    "def cal_W_MMcm(lambda_, mu, c, m):\n",
    "    R = cal_R_MMcm(lambda_, mu, c, m)\n",
    "    W = R - 1/mu\n",
    "    print(\"W is: \", W)\n",
    "    return W\n",
    "\n",
    "assert abs(cal_W_MMcm(20, 10, 3, 5) * 60 - 0.34) < 0.01"
   ]
  },
  {
   "cell_type": "markdown",
   "metadata": {},
   "source": [
    "Que ocurre si en el ejemplo anterior, la centralita tiene una capacidad limitada en su sistema de espera? Supongamos que sólo puede retener 2 llamadas en espera, de forma que si el sistema tiene 5 llamadas $m=5$ y se recibe una nueva llamada, la llamada entrante es rechazada."
   ]
  },
  {
   "cell_type": "code",
   "execution_count": 38,
   "metadata": {
    "scrolled": true
   },
   "outputs": [
    {
     "name": "stdout",
     "output_type": "stream",
     "text": [
      "p is:  0.6666666666666666\n",
      "p is:  0.6666666666666666\n",
      "p0 is:  0.12796208530805686\n",
      "p_ 5  is:  0.0758293838862559\n",
      "p is:  0.6666666666666666\n",
      "p is:  0.6666666666666666\n",
      "p0 is:  0.12796208530805686\n",
      "The p serie is  [0.12796209 0.25592417 0.25592417 0.17061611 0.11374408 0.07582938]\n",
      "J is:  2.1137440758293837\n",
      "p is:  0.6666666666666666\n",
      "p is:  0.6666666666666666\n",
      "p0 is:  0.12796208530805686\n",
      "The p serie is  [0.12796209 0.25592417 0.25592417 0.17061611 0.11374408 0.07582938]\n",
      "J is:  2.1137440758293837\n",
      "R is:  0.10568720379146919\n"
     ]
    }
   ],
   "source": [
    "lambda_ = 20\n",
    "mu = 1 / 6 * 60\n",
    "c = 3\n",
    "m = 5\n",
    "p5 = cal_pk_MMcm(lambda_, mu, c, m, m)\n",
    "assert abs(p5 - 0.0758) < 0.01\n",
    "J = cal_J_MMcm(lambda_, mu, c, m)\n",
    "assert abs(J - 2.1137) < 0.01\n",
    "R = cal_R_MMcm(lambda_, mu, c, m)\n",
    "assert abs(R - 0.1056) < 0.001"
   ]
  },
  {
   "cell_type": "markdown",
   "metadata": {},
   "source": [
    "El sistema está vacío el $12.80$% del tiempo y saturado el $7.58$% del tiempo.\n",
    "\n",
    "La tasa efectiva de efectiva de llegadas es $10*(1-0.0758)=9.242$.\n",
    "\n",
    "El número medio de trabajos en el sistema es: $\\sum_{k}{k*p_k}=2.1137$, por la tanto, $\\overline{R}=0.1056$. Entonces, $\\overline{W}=\\overline{R}-\\overline{X}=0.34$ minutos. Por último $\\overline{Q}=\\lambda \\overline{W} = 20 *\\frac{0.34}{60} = 0.1133$ trabajos en cola."
   ]
  },
  {
   "cell_type": "markdown",
   "metadata": {},
   "source": [
    "# Redes de colas"
   ]
  },
  {
   "cell_type": "markdown",
   "metadata": {},
   "source": [
    "Si una **cola M/M/m estable** en la que los procesos de llegada y servicio son **procesos de Poison** con tasas $\\lambda$ y $\\mu$, el prceso de salida es un proceso de Poisson de tasa $\\lambda$"
   ]
  },
  {
   "cell_type": "markdown",
   "metadata": {},
   "source": [
    "Ses $q_{ij}$ la probabilidad de que un trabajo llega al nodo $i$ y después de haber terminado el servicio requerido en este nodo, pasa al nodo $j$, y sale de la red con probabilidad $1-\\sum_{j=1}^{n} q_{ij}$"
   ]
  },
  {
   "cell_type": "markdown",
   "metadata": {},
   "source": [
    "![Teorema de Jackson](teorema-de-jackson.jpg)"
   ]
  },
  {
   "cell_type": "markdown",
   "metadata": {},
   "source": [
    "$$\n",
    "\\overline{R}_i = \\frac{1}{\\mu_i - I_i}\n",
    "$$"
   ]
  },
  {
   "cell_type": "code",
   "execution_count": 39,
   "metadata": {},
   "outputs": [],
   "source": [
    "def cal_R_queueing_netowork_MM1(I, mus):\n",
    "    R = 1 / (mus - I)\n",
    "    print(\"R is: \", R)\n",
    "    return R"
   ]
  },
  {
   "cell_type": "markdown",
   "metadata": {},
   "source": [
    "$$\n",
    "\\overline{R} = \\sum_i{\\frac{I_i}{\\sum_k \\lambda_k}\\overline{R}_i}\n",
    "$$"
   ]
  },
  {
   "cell_type": "code",
   "execution_count": 40,
   "metadata": {},
   "outputs": [],
   "source": [
    "def cal_R_total_queueing_network(I, R, lambdas):\n",
    "    lambda_ = np.sum(lambdas)\n",
    "    print(\"Total lambda is: \", lambda_)\n",
    "    return np.sum(I / lambda_ * R)"
   ]
  },
  {
   "cell_type": "code",
   "execution_count": 41,
   "metadata": {},
   "outputs": [
    {
     "name": "stdout",
     "output_type": "stream",
     "text": [
      "R is:  [0.00280112 0.00564972 0.01117318 0.00313234 0.00860215]\n",
      "R is:  [0.00280112 0.00564972 0.01117318 0.00313234 0.00860215]\n",
      "Total lambda is:  1550\n"
     ]
    }
   ],
   "source": [
    "def cal_R_total_queueing_network_MM1(I, mu, lambdas):\n",
    "    R = cal_R_queueing_netowork_MM1(I, mu)\n",
    "    print(\"R is: \", R)\n",
    "    return cal_R_total_queueing_network(I, R, lambdas)\n",
    "\n",
    "assert abs(cal_R_total_queueing_network_MM1(np.array([1000, 550, 285.5, 872.75, 549.75]), np.array([1357, 727, 375, 1192, 666]), 1550) * 60 - 0.641) < 0.001"
   ]
  },
  {
   "cell_type": "markdown",
   "metadata": {},
   "source": [
    "La red de la figura describe un intercambiador de mensajes. Los mensajes del nodo 2 salen con un error con probabilidad $p$ y entonces deben ser enviados de nuevo al nodo 1. En otro caso se envían con igual probabilidad a los nodos 3, 4 y 5."
   ]
  },
  {
   "cell_type": "markdown",
   "metadata": {},
   "source": [
    "![Red en paralelo](./red-en-paralelo.jpg)"
   ]
  },
  {
   "cell_type": "markdown",
   "metadata": {},
   "source": [
    "$$\n",
    "\\begin{split}\n",
    "I_1 &= \\lambda + p I_2\\\\\n",
    "I_2 &= I_1\\\\\n",
    "I_3 &= \\frac{(1-p)I_2}{3}\\\\\n",
    "I_4 &= \\frac{(1-p)I_2}{3}\\\\\n",
    "I_5 &= \\frac{(1-p)I_2}{3}\\\\\n",
    "I_1 = I_2 &= \\frac{\\lambda}{(1-p)}\\\\\n",
    "I_3 = I_4 = I_5 &= \\frac{\\lambda}{3}\\\\\n",
    "\\overline{R}_1 &= \\frac{1}{\\mu_1 - \\frac{\\lambda}{1-p}}\\\\\n",
    "\\overline{R}_2 &= \\frac{1}{\\mu_2 - \\frac{\\lambda}{1-p}}\\\\\n",
    "\\overline{R}_3 &= \\frac{1}{\\mu_3 - \\frac{\\lambda}{3}}\\\\\n",
    "\\overline{R}_4 &= \\frac{1}{\\mu_3 - \\frac{\\lambda}{3}}\\\\\n",
    "\\overline{R}_5 &= \\frac{1}{\\mu_3 - \\frac{\\lambda}{3}}\\\\\n",
    "\\end{split}\n",
    "$$"
   ]
  },
  {
   "cell_type": "markdown",
   "metadata": {},
   "source": [
    "La probabilidad de que pase, exactamente, $(n+1)$ veces por el nodo 2 es $(1-p)p^n$. Esto corresponde a una geométrica de parámetro $p$. El número medio de pasadas por el nodo 2 es $\\frac{1}{1-p}(\\overline{R}_1 + \\overline{R}_2)$. Como pasa por 3, 4, 5 con probalidad \\frac{1}{3}, el retardo medio total es: $\\frac{\\lambda}{3}(\\overline{R}_1 + \\overline{R}_2 + \\overline{R}_3)$"
   ]
  },
  {
   "cell_type": "markdown",
   "metadata": {},
   "source": [
    "![Red en serie](./red-en-serie.jpg)"
   ]
  },
  {
   "cell_type": "markdown",
   "metadata": {},
   "source": [
    "$$\n",
    "\\begin{split}\n",
    "\\overline{R} &= \\sum_i{\\overline{R}_i}\\\\\n",
    "\\overline{J} &= \\sum_i{\\frac{\\lambda}{\\mu_i - \\lambda}}\\\\\n",
    "\\end{split}\n",
    "$$"
   ]
  },
  {
   "cell_type": "markdown",
   "metadata": {},
   "source": [
    "Dos centros remotos envían mensajes de características similares de comunicación para procesarlos y almacenarlos.\n",
    "\n",
    "Debido a las distintas velocidades de línea, las tasas de servicio son $\\mu_1$ y $\\mu_2$.\n",
    "\n",
    "Las entradas son de Poisson con tasas $\\lambda_1$ y $\\lambda_2$, respectivamente.\n",
    "\n",
    "Los mensajes cortos se processan después en la CPU con tasas $\\mu_3$ y la salida se via con la misma probabilidad alguno de los dos dispositivos de almancenmiento con tasa $\\lambda_4$ y $\\lambda_5$, respectivamente.\n",
    "\n",
    "Todos los tiempos de servicio se suponen exponenciales, salvo en los dispositivos de almacenamiento, que es constante."
   ]
  },
  {
   "cell_type": "markdown",
   "metadata": {},
   "source": [
    "![Red](red-merge-split.jpg)"
   ]
  },
  {
   "cell_type": "markdown",
   "metadata": {},
   "source": [
    "$$\n",
    "\\begin{split}\n",
    "\\overline{R}_1 = \\frac{1}{\\mu_1 - \\lambda_1}\\\\\n",
    "\\overline{R}_2 = \\frac{1}{\\mu_2 - \\lambda_2}\\\\\n",
    "\\overline{R}_3 = \\frac{1}{\\mu_3 - (\\lambda_1 + \\lambda_2)}\n",
    "\\end{split}\n",
    "$$"
   ]
  },
  {
   "cell_type": "markdown",
   "metadata": {},
   "source": [
    "Las entradas a los nodos 4 ó 5 son Poisson con tasa $0.5(\\lambda_1 + \\lambda_2)$ y al ser tiempos de proceso constantes, aplicamos las fórmula de P-K, donde $\\rho_i=\\frac{\\lambda_1+\\lambda_2}{2 \\mu_i}$ y $C(X_i)=0$.\n",
    "\n",
    "$$\n",
    "\\begin{split}\n",
    "\\overline{R}_i &= \\overline{W}_i + \\overline{X}_i = \\frac{\\rho_i \\overline{X}_i (1 + C(X_i)^2)}{2(1-\\rho_i)} = \\frac{\\rho_i}{2 \\mu_i(1-\\rho_i)} + \\frac{1}{\\mu_i}\\\\\n",
    "\\overline{R}_4 &= \\frac{1}{\\mu_4}\\Bigg(\\frac{1}{4\\frac{\\mu_4}{\\lambda_1 + \\lambda_2}-2}+1\\Bigg)\\\\\n",
    "\\overline{R}_5 &= \\frac{1}{\\mu_5}\\Bigg(\\frac{1}{4\\frac{\\mu_5}{\\lambda_1 + \\lambda_2}-2}+1\\Bigg)\\\\\n",
    "\\end{split}\n",
    "$$"
   ]
  },
  {
   "cell_type": "markdown",
   "metadata": {},
   "source": [
    "El tiempo de respuesta de los trabajos que llegan a los nodos 1 y 2 es:\n",
    "    \n",
    "$$\n",
    "\\begin{split}\n",
    "\\overline{R}^\\prime &= \\overline{R}_1 + \\overline{R}_3 + 0.5(\\overline{R}_4 + \\overline{R}_5)\\\\\n",
    "\\overline{R}^{\\prime\\prime} &= \\overline{R}_2 + \\overline{R}_3 + 0.5(\\overline{R}_4 + \\overline{R}_5)\\\\\n",
    "\\overline{R} &= \\frac{\\lambda_1}{\\lambda_1 + \\lambda_2} \\overline{R}\\prime + \\frac{\\lambda_2}{\\lambda_1 + \\lambda_2} \\overline{R}{\\prime\\prime}\n",
    "\\end{split}\n",
    "$$"
   ]
  },
  {
   "cell_type": "markdown",
   "metadata": {},
   "source": [
    "![Red](red-ejemplo.jpg)"
   ]
  },
  {
   "cell_type": "markdown",
   "metadata": {},
   "source": [
    "$$\n",
    "\\begin{split}\n",
    "I_1 &= \\lambda + q I_2\\\\\n",
    "I_2 &= I_1 + p I_2\\\\\n",
    "I_1 &= \\frac{\\lambda(r+q)}{r}\\\\\n",
    "I_2 &= \\frac{\\lambda}{r}\\\\\n",
    "\\end{split}\n",
    "$$"
   ]
  },
  {
   "cell_type": "markdown",
   "metadata": {},
   "source": [
    "La razón de uso viene dada por los cocientes de las tasas de llegadas, como $1=p+q+r$, se tiene $p=0.25$"
   ]
  },
  {
   "cell_type": "markdown",
   "metadata": {},
   "source": [
    "$$\n",
    "\\frac{I_1/\\mu}{I_2/\\mu} = \\frac{\\frac{\\lambda(r+q)}{r}}{\\frac{\\lambda}{r}} = r + q = \\frac{3}{4}\\\\\n",
    "$$"
   ]
  },
  {
   "cell_type": "markdown",
   "metadata": {},
   "source": [
    "La probabilidad de que los nodos 1 y 2 tengan $k_1$ y $k_2$ trabajos, respectivamente, es:\n",
    "\n",
    "$$\n",
    "p^1_{k1} = \\rho_1^{k1}(1-\\rho_1)\\\\\n",
    "p^2_{k2} = \\rho_2^{k2}(1-\\rho_2)\\\\\n",
    "$$"
   ]
  },
  {
   "cell_type": "markdown",
   "metadata": {},
   "source": [
    "La probabilidad de tengan el mismo número de trabajos es"
   ]
  },
  {
   "cell_type": "markdown",
   "metadata": {},
   "source": [
    "$$\n",
    "P(k_1 = k_2) = \\sum^\\infty_{k=0}{\\rho_1^{k1}(1-\\rho_1)\\rho_2^{k2}(1-\\rho_2)} = 0.301\n",
    "$$"
   ]
  },
  {
   "cell_type": "markdown",
   "metadata": {},
   "source": [
    "![AP6 Madrid](./highway.jpg)"
   ]
  },
  {
   "cell_type": "markdown",
   "metadata": {},
   "source": [
    "Determinar el tiempo medio que tarda un vehiculo en cada uno de los seis posibles recorridos y el tiempo medio global"
   ]
  },
  {
   "cell_type": "code",
   "execution_count": 42,
   "metadata": {},
   "outputs": [
    {
     "name": "stdout",
     "output_type": "stream",
     "text": [
      "R is:  [0.00142857 0.00454545 0.008      0.00090909 0.05882353 0.33333333]\n",
      "R is:  [0.00142857 0.00454545 0.008      0.00090909 0.05882353 0.33333333]\n",
      "Total lambda is:  1255\n"
     ]
    },
    {
     "data": {
      "text/plain": [
       "0.2967024288889768"
      ]
     },
     "execution_count": 42,
     "metadata": {},
     "output_type": "execute_result"
    }
   ],
   "source": [
    "mu1 = 1700\n",
    "mu2 = 300\n",
    "mu3 = 300\n",
    "mu4 = 1200\n",
    "mu5 = 75\n",
    "mu6 = 1100\n",
    "lambda1 = 1000\n",
    "lambda2 = 80\n",
    "lambda3 = 175\n",
    "I4 = 0.1 * lambda1\n",
    "I5 = 0.05 * lambda1 + 0.1 * lambda2\n",
    "I6 = 0.85 * lambda1 + 0.9 * lambda2 + lambda3\n",
    "I = np.array([lambda1, lambda2, lambda3, I4, I5, I6])\n",
    "mus = np.array([mu1, mu2, mu3, mu4, mu5, mu6])\n",
    "lambdas = np.array([lambda1, lambda2, lambda3])\n",
    "cal_R_total_queueing_network_MM1(I, mus, lambdas)"
   ]
  },
  {
   "cell_type": "markdown",
   "metadata": {},
   "source": [
    "![Airport](./airport.jpg)"
   ]
  },
  {
   "cell_type": "code",
   "execution_count": 43,
   "metadata": {},
   "outputs": [
    {
     "name": "stdout",
     "output_type": "stream",
     "text": [
      "R is:  [  6.     9.75  27.5  150.  ]\n",
      "R is:  [  6.     9.75  27.5  150.  ]\n",
      "Total lambda is:  1.3333333333333333\n"
     ]
    },
    {
     "data": {
      "text/plain": [
       "16.375"
      ]
     },
     "execution_count": 43,
     "metadata": {},
     "output_type": "execute_result"
    }
   ],
   "source": [
    "lambda1 = 40 / 60\n",
    "lambda2 = 40 / 60\n",
    "X1 = 1.2\n",
    "X2 = 1.3\n",
    "X3 = 3.3\n",
    "X4 = 30\n",
    "I1 = lambda1\n",
    "I2 = lambda2\n",
    "I3 = 0.2 * I1 + 0.2 * I2\n",
    "I4 = 0.1 * I3\n",
    "I = np.array([I1, I2, I3, I4])\n",
    "mus = 1 / np.array([X1, X2, X3, X4])\n",
    "cal_R_total_queueing_network_MM1(I, mus, np.array([lambda1, lambda2]))"
   ]
  },
  {
   "cell_type": "markdown",
   "metadata": {},
   "source": [
    "# Autoevaluación"
   ]
  },
  {
   "cell_type": "markdown",
   "metadata": {},
   "source": [
    "## Problema 1"
   ]
  },
  {
   "cell_type": "markdown",
   "metadata": {},
   "source": [
    "Un sistema de comunicaciones recibe mensajes con una tasa de 8 trabajos por segundo. Se sabe que tanto la llegada como el servicio son procesos de Poisson y que el sistema tiene un factor de utilización del 80%"
   ]
  },
  {
   "cell_type": "markdown",
   "metadata": {},
   "source": [
    "### M/M/1 $\\in$ M/G/1"
   ]
  },
  {
   "cell_type": "code",
   "execution_count": 44,
   "metadata": {},
   "outputs": [],
   "source": [
    "lambda_ = 8"
   ]
  },
  {
   "cell_type": "code",
   "execution_count": 45,
   "metadata": {},
   "outputs": [],
   "source": [
    "p = 0.8"
   ]
  },
  {
   "cell_type": "code",
   "execution_count": 46,
   "metadata": {},
   "outputs": [],
   "source": [
    "X = p / lambda_"
   ]
  },
  {
   "cell_type": "code",
   "execution_count": 47,
   "metadata": {},
   "outputs": [],
   "source": [
    "mu = 1 / X"
   ]
  },
  {
   "cell_type": "code",
   "execution_count": 48,
   "metadata": {},
   "outputs": [
    {
     "name": "stdout",
     "output_type": "stream",
     "text": [
      "X^2 is:  0.02\n"
     ]
    }
   ],
   "source": [
    "X_square = cal_X2_exponential(mu)"
   ]
  },
  {
   "cell_type": "markdown",
   "metadata": {},
   "source": [
    "Fórmula de Pollaxe-Khintchine"
   ]
  },
  {
   "cell_type": "markdown",
   "metadata": {},
   "source": [
    "¿Cuál es el tiempo medio de espera?"
   ]
  },
  {
   "cell_type": "code",
   "execution_count": 49,
   "metadata": {},
   "outputs": [
    {
     "name": "stdout",
     "output_type": "stream",
     "text": [
      "p is:  0.8\n",
      "W is:  0.40000000000000013\n"
     ]
    },
    {
     "data": {
      "text/plain": [
       "0.40000000000000013"
      ]
     },
     "execution_count": 49,
     "metadata": {},
     "output_type": "execute_result"
    }
   ],
   "source": [
    "W = cal_W_MG1(lambda_, mu, CX=1)\n",
    "W"
   ]
  },
  {
   "cell_type": "markdown",
   "metadata": {},
   "source": [
    "### ¿Cuál es el tiempo medio de respuesta? Respuesta"
   ]
  },
  {
   "cell_type": "code",
   "execution_count": 50,
   "metadata": {},
   "outputs": [
    {
     "data": {
      "text/plain": [
       "0.5000000000000001"
      ]
     },
     "execution_count": 50,
     "metadata": {},
     "output_type": "execute_result"
    }
   ],
   "source": [
    "R = W + X\n",
    "R"
   ]
  },
  {
   "cell_type": "markdown",
   "metadata": {},
   "source": [
    "### ¿Cuál es el número medio de mensajes en cola?"
   ]
  },
  {
   "cell_type": "code",
   "execution_count": 51,
   "metadata": {},
   "outputs": [
    {
     "data": {
      "text/plain": [
       "3.200000000000001"
      ]
     },
     "execution_count": 51,
     "metadata": {},
     "output_type": "execute_result"
    }
   ],
   "source": [
    "Q = lambda_ * W\n",
    "Q"
   ]
  },
  {
   "cell_type": "markdown",
   "metadata": {},
   "source": [
    "### ¿Cuál es el número medio de mensajes en el sistema? Respuesta"
   ]
  },
  {
   "cell_type": "code",
   "execution_count": 52,
   "metadata": {},
   "outputs": [
    {
     "data": {
      "text/plain": [
       "4.000000000000001"
      ]
     },
     "execution_count": 52,
     "metadata": {},
     "output_type": "execute_result"
    }
   ],
   "source": [
    "J = lambda_ * R\n",
    "J"
   ]
  },
  {
   "cell_type": "markdown",
   "metadata": {},
   "source": [
    "## Problema 2"
   ]
  },
  {
   "cell_type": "markdown",
   "metadata": {},
   "source": [
    "Un centro de atención al cliente recibe llamadas de dos tipos: contratación de servicios y petición de información. Las llamadas se producen según procesos de Poisson con tasas de 2 y 11 llamadas por hora según sea de contratación o de petición de información, respectivamente. Las llamadas de contratación requieren una media de 11.4 minutos, mientras que las de petición de información se atienden en una media de 1.9 minutos. Actualmente no hay discriminaciónn en el servicio, pero se ha detectado que algunos clientes que llaman para contratar un servicio abandonan la llamada antes de ser atendidos. Por ello, se ha decidido que se va a implantar un sistema que dé prioridad a estas llamadas. Analizar el modelo que quedaría después de implantar el sistema de prioridades no expulsivas."
   ]
  },
  {
   "cell_type": "code",
   "execution_count": 53,
   "metadata": {},
   "outputs": [
    {
     "name": "stdout",
     "output_type": "stream",
     "text": [
      "[ 2 11] [ 5.26315789 31.57894737]\n"
     ]
    }
   ],
   "source": [
    "lambdas = np.array([2, 11])\n",
    "mus = 1 / (np.array([11.4, 1.9]) / 60)\n",
    "print(lambdas, mus)"
   ]
  },
  {
   "cell_type": "markdown",
   "metadata": {},
   "source": [
    "### El sistema actual (sin prioridades) se ajusta a un modelo M/M/1"
   ]
  },
  {
   "cell_type": "markdown",
   "metadata": {},
   "source": [
    "### ¿Cuál es el tiempo medio de espera de las llamadas de contratación de servicios?"
   ]
  },
  {
   "cell_type": "markdown",
   "metadata": {},
   "source": [
    "Sistema no expulsivos con distintas clases de prioridad"
   ]
  },
  {
   "cell_type": "code",
   "execution_count": 54,
   "metadata": {
    "scrolled": false
   },
   "outputs": [
    {
     "name": "stdout",
     "output_type": "stream",
     "text": [
      "p is:  [0.38       0.34833333]\n",
      "U is:  [0.         0.38       0.72833333]\n",
      "X^2 is:  [0.0722     0.00200556]\n",
      "S is:  0.08323055555555553\n",
      "W is:  [0.13424283 0.49414539]\n"
     ]
    }
   ],
   "source": [
    "W = cal_W_priority_nonpreemptive_MM1(lambdas, mus)"
   ]
  },
  {
   "cell_type": "markdown",
   "metadata": {},
   "source": [
    "### ¿Cuál es el tiempo medio de espera de las llamadas de contratación de servicios? Respuesta"
   ]
  },
  {
   "cell_type": "code",
   "execution_count": 55,
   "metadata": {},
   "outputs": [
    {
     "data": {
      "text/plain": [
       "8.054569892473115"
      ]
     },
     "execution_count": 55,
     "metadata": {},
     "output_type": "execute_result"
    }
   ],
   "source": [
    "W[0] * 60"
   ]
  },
  {
   "cell_type": "markdown",
   "metadata": {},
   "source": [
    "¿Cuál es el tiempo medio de espera de las llamadas de solicitud de información? Respuesta"
   ]
  },
  {
   "cell_type": "code",
   "execution_count": 56,
   "metadata": {},
   "outputs": [
    {
     "data": {
      "text/plain": [
       "29.648723530575875"
      ]
     },
     "execution_count": 56,
     "metadata": {},
     "output_type": "execute_result"
    }
   ],
   "source": [
    "W[1] * 60"
   ]
  },
  {
   "cell_type": "markdown",
   "metadata": {},
   "source": [
    "¿Cuál es el número medio de llamadas en cola? Respuesta"
   ]
  },
  {
   "cell_type": "code",
   "execution_count": 57,
   "metadata": {},
   "outputs": [
    {
     "data": {
      "text/plain": [
       "5.704084977021347"
      ]
     },
     "execution_count": 57,
     "metadata": {},
     "output_type": "execute_result"
    }
   ],
   "source": [
    "Q = np.sum(lambdas * W)\n",
    "Q"
   ]
  },
  {
   "cell_type": "markdown",
   "metadata": {},
   "source": [
    "### ¿Cuál es el tiempo medio de respuesta (tiempo que transcurre desde que se inicia hasta que finaliza la llamada)?"
   ]
  },
  {
   "cell_type": "code",
   "execution_count": 58,
   "metadata": {},
   "outputs": [
    {
     "name": "stdout",
     "output_type": "stream",
     "text": [
      "weights are : [0.15384615 0.84615385]\n",
      "p is:  [0.38       0.34833333]\n",
      "U is:  [0.         0.38       0.72833333]\n",
      "X^2 is:  [0.0722     0.00200556]\n",
      "S is:  0.08323055555555553\n",
      "W is:  [0.13424283 0.49414539]\n",
      "R is:  [0.32424283 0.52581206]\n"
     ]
    },
    {
     "data": {
      "text/plain": [
       "29.688084509329297"
      ]
     },
     "execution_count": 58,
     "metadata": {},
     "output_type": "execute_result"
    }
   ],
   "source": [
    "cal_total_R_priority_nonpreemptive_MM1(lambdas, mus) * 60"
   ]
  },
  {
   "cell_type": "markdown",
   "metadata": {},
   "source": [
    "## Problema 3"
   ]
  },
  {
   "cell_type": "markdown",
   "metadata": {},
   "source": [
    "Una centralita de venta de entradas por teléfono está preparada atender 2 llamadas simultáneamente sin capacidad para mantener llamadas en espera, de forma que si se recibe una llamada y los 2 operadores están ocupados, la llamada se pierde. Las llamadas se producen según un proceso de Poisson con una tasa de 85 llamadas a la hora, con una duración media de 59 segundos (el proceso de servicio también se ajusta a un proceso de Poisson)"
   ]
  },
  {
   "cell_type": "code",
   "execution_count": 59,
   "metadata": {},
   "outputs": [],
   "source": [
    "c = 2\n",
    "lambda_ = 85 / 60\n",
    "X = 59 / 60\n",
    "mu = 1 / X"
   ]
  },
  {
   "cell_type": "markdown",
   "metadata": {},
   "source": [
    "### Este sistema se ajusta a un modelo M/M/c con perdida"
   ]
  },
  {
   "cell_type": "markdown",
   "metadata": {},
   "source": [
    "### ¿Qué porcentaje de tiempo la centralita llena?"
   ]
  },
  {
   "cell_type": "code",
   "execution_count": 60,
   "metadata": {},
   "outputs": [
    {
     "name": "stdout",
     "output_type": "stream",
     "text": [
      "p is:  0.6965277777777779\n",
      "p is:  0.6965277777777779\n",
      "p0 is:  0.29732195166855024\n",
      "p_ 2  is:  0.2884920517709555\n"
     ]
    },
    {
     "data": {
      "text/plain": [
       "28.84920517709555"
      ]
     },
     "execution_count": 60,
     "metadata": {},
     "output_type": "execute_result"
    }
   ],
   "source": [
    "p_c = cal_MMcm_loss_probability(lambda_, mu, c, c)\n",
    "p_c * 100"
   ]
  },
  {
   "cell_type": "markdown",
   "metadata": {},
   "source": [
    "¿Qué porcentaje de llamadas se pierden?"
   ]
  },
  {
   "cell_type": "code",
   "execution_count": 61,
   "metadata": {},
   "outputs": [
    {
     "data": {
      "text/plain": [
       "28.84920517709555"
      ]
     },
     "execution_count": 61,
     "metadata": {},
     "output_type": "execute_result"
    }
   ],
   "source": [
    "p_c * 100"
   ]
  },
  {
   "cell_type": "markdown",
   "metadata": {},
   "source": [
    "La empresa se queda sólo con el operador más eficiente, que en promedio atiende las llamadas en sólo 37 segundos, y contrata un sistema de servicio en espera con capacidad para 3 llamadas, de forma que cuando se recibe una llamada, si el operador está ocupado y ya hay 3 llamadas en espera, la centralita emite la señal de línea ocupada, la llamada se pierde y el cliente se va a la competencia"
   ]
  },
  {
   "cell_type": "markdown",
   "metadata": {},
   "source": [
    "### Este sistema se ajusta a un modelo M/M/1 con buffer limitado"
   ]
  },
  {
   "cell_type": "markdown",
   "metadata": {},
   "source": [
    "### ¿Qué porcentaje de llamadas se pierden?"
   ]
  },
  {
   "cell_type": "code",
   "execution_count": 62,
   "metadata": {},
   "outputs": [],
   "source": [
    "X = 37 / 60\n",
    "mu = 1 / X\n",
    "m = 3 + 1"
   ]
  },
  {
   "cell_type": "code",
   "execution_count": 63,
   "metadata": {},
   "outputs": [
    {
     "name": "stdout",
     "output_type": "stream",
     "text": [
      "p is:  0.8736111111111112\n",
      "p_ 4  is: 0.14988851075237306\n"
     ]
    },
    {
     "data": {
      "text/plain": [
       "14.988851075237305"
      ]
     },
     "execution_count": 63,
     "metadata": {},
     "output_type": "execute_result"
    }
   ],
   "source": [
    "p_m = cal_pk_MM1m(lambda_, mu, m, m)\n",
    "p_m * 100"
   ]
  },
  {
   "cell_type": "markdown",
   "metadata": {},
   "source": [
    "### En esta nueva situación, ¿cuál es el la tasa efectiva de llegada?"
   ]
  },
  {
   "cell_type": "code",
   "execution_count": 64,
   "metadata": {},
   "outputs": [
    {
     "data": {
      "text/plain": [
       "1.2043246097674716"
      ]
     },
     "execution_count": 64,
     "metadata": {},
     "output_type": "execute_result"
    }
   ],
   "source": [
    "cal_efective_rate(lambda_, p_m)"
   ]
  },
  {
   "cell_type": "markdown",
   "metadata": {},
   "source": [
    "### ¿Cuál es el nivel medio de ocupación del buffer?"
   ]
  },
  {
   "cell_type": "code",
   "execution_count": 65,
   "metadata": {},
   "outputs": [
    {
     "name": "stdout",
     "output_type": "stream",
     "text": [
      "p is:  0.8736111111111112\n",
      "J is:  1.731875095426231\n"
     ]
    },
    {
     "data": {
      "text/plain": [
       "0.43296877385655774"
      ]
     },
     "execution_count": 65,
     "metadata": {},
     "output_type": "execute_result"
    }
   ],
   "source": [
    "cal_J_MM1m(lambda_, mu, m) / m"
   ]
  },
  {
   "cell_type": "markdown",
   "metadata": {},
   "source": [
    "## Problema 4"
   ]
  },
  {
   "cell_type": "markdown",
   "metadata": {},
   "source": [
    "Una ventanilla de un banco realiza operaciones en un tiempo medio de 2.3 minutos y los clientes llegan con una tasa media de 16 clientes a la hora. Si se supone que las llegadas siguen un proceso de Poisson y el tiempo de servicio es exponencial."
   ]
  },
  {
   "cell_type": "markdown",
   "metadata": {},
   "source": [
    "### Este sistema se ajusta a un modelo Respuesta M/M/1"
   ]
  },
  {
   "cell_type": "code",
   "execution_count": 66,
   "metadata": {},
   "outputs": [
    {
     "name": "stdout",
     "output_type": "stream",
     "text": [
      "0.26666666666666666 2.3\n"
     ]
    }
   ],
   "source": [
    "X = 2.3\n",
    "lambda_ = 16 / 60\n",
    "mu = 1 / X\n",
    "print(lambda_, X)"
   ]
  },
  {
   "cell_type": "markdown",
   "metadata": {},
   "source": [
    "### ¿Qué porcentaje de tiempo el cajero está ocioso? Respuesta"
   ]
  },
  {
   "cell_type": "code",
   "execution_count": 67,
   "metadata": {},
   "outputs": [
    {
     "name": "stdout",
     "output_type": "stream",
     "text": [
      "p is:  0.6133333333333333\n",
      "p_ 0  is:  0.3866666666666667\n"
     ]
    },
    {
     "data": {
      "text/plain": [
       "38.66666666666667"
      ]
     },
     "execution_count": 67,
     "metadata": {},
     "output_type": "execute_result"
    }
   ],
   "source": [
    "p0 = cal_pk_MM1(lambda_, mu, 0)\n",
    "p0 * 100"
   ]
  },
  {
   "cell_type": "markdown",
   "metadata": {},
   "source": [
    "### ¿Qué porcentaje de clientes deben esperar en cola?"
   ]
  },
  {
   "cell_type": "code",
   "execution_count": 68,
   "metadata": {},
   "outputs": [
    {
     "data": {
      "text/plain": [
       "61.33333333333333"
      ]
     },
     "execution_count": 68,
     "metadata": {},
     "output_type": "execute_result"
    }
   ],
   "source": [
    "(1 - p0) * 100"
   ]
  },
  {
   "cell_type": "markdown",
   "metadata": {},
   "source": [
    "### ¿Cuál es el tiempo medio de estancia de los clientes en el banco"
   ]
  },
  {
   "cell_type": "code",
   "execution_count": 69,
   "metadata": {},
   "outputs": [
    {
     "name": "stdout",
     "output_type": "stream",
     "text": [
      "p is:  0.6133333333333333\n",
      "J is:  1.5862068965517238\n"
     ]
    },
    {
     "data": {
      "text/plain": [
       "1.5862068965517238"
      ]
     },
     "execution_count": 69,
     "metadata": {},
     "output_type": "execute_result"
    }
   ],
   "source": [
    "J = cal_J_MM1(lambda_, mu)\n",
    "J"
   ]
  },
  {
   "cell_type": "code",
   "execution_count": 70,
   "metadata": {},
   "outputs": [
    {
     "data": {
      "text/plain": [
       "5.948275862068964"
      ]
     },
     "execution_count": 70,
     "metadata": {},
     "output_type": "execute_result"
    }
   ],
   "source": [
    "R = J / lambda_\n",
    "R"
   ]
  },
  {
   "cell_type": "code",
   "execution_count": 71,
   "metadata": {},
   "outputs": [
    {
     "data": {
      "text/plain": [
       "3.6482758620689646"
      ]
     },
     "execution_count": 71,
     "metadata": {},
     "output_type": "execute_result"
    }
   ],
   "source": [
    "W = R - X\n",
    "W"
   ]
  },
  {
   "cell_type": "markdown",
   "metadata": {},
   "source": [
    "## Problema 5"
   ]
  },
  {
   "cell_type": "markdown",
   "metadata": {},
   "source": [
    "Una estación de ITV ha sufrido una avería y sólo dispone un equipo de inspección con espacio para 6 coches más en espera. El proceso de llegadas se puede considerar como un proceso de Poisson con una tasa media de un coche cada 17.2 minutos. El tiempo de servicio se puede aproximar mediante una variable aleatoria con distribución exponencial de media 15.2 minutos. Si un coche llega a la estación y esta está saturada, se marcha sin esperar a que quede una plaza libre."
   ]
  },
  {
   "cell_type": "markdown",
   "metadata": {},
   "source": [
    "### Este sistema se ajusta a un modelo M/M/1 con buffer limitado"
   ]
  },
  {
   "cell_type": "code",
   "execution_count": 72,
   "metadata": {},
   "outputs": [
    {
     "name": "stdout",
     "output_type": "stream",
     "text": [
      "0.05813953488372093 0.06578947368421052 7\n"
     ]
    }
   ],
   "source": [
    "m = 6 + 1\n",
    "lambda_ = 1 / 17.2\n",
    "X = 15.2\n",
    "mu = 1 / X\n",
    "print(lambda_, mu, m)"
   ]
  },
  {
   "cell_type": "markdown",
   "metadata": {},
   "source": [
    "### ¿Cuál es la probabilidad de que un coche llegue y se encuentre todos los puestos ocupados?"
   ]
  },
  {
   "cell_type": "code",
   "execution_count": 73,
   "metadata": {},
   "outputs": [
    {
     "name": "stdout",
     "output_type": "stream",
     "text": [
      "p is:  0.8837209302325582\n",
      "p_ 7  is: 0.07793543657502297\n"
     ]
    },
    {
     "data": {
      "text/plain": [
       "0.07793543657502297"
      ]
     },
     "execution_count": 73,
     "metadata": {},
     "output_type": "execute_result"
    }
   ],
   "source": [
    "p_m = cal_pk_MM1m(lambda_, mu, m, m)\n",
    "p_m"
   ]
  },
  {
   "cell_type": "markdown",
   "metadata": {},
   "source": [
    "### ¿Cuál es la tasa efectiva de llegada?"
   ]
  },
  {
   "cell_type": "code",
   "execution_count": 74,
   "metadata": {},
   "outputs": [
    {
     "data": {
      "text/plain": [
       "3.2165042910173613"
      ]
     },
     "execution_count": 74,
     "metadata": {},
     "output_type": "execute_result"
    }
   ],
   "source": [
    "tasa_efectiva = lambda_ * (1 - p_m) * 60\n",
    "tasa_efectiva"
   ]
  },
  {
   "cell_type": "markdown",
   "metadata": {},
   "source": [
    "### ¿Cuál es el número medio de coches en el sistema?"
   ]
  },
  {
   "cell_type": "code",
   "execution_count": 75,
   "metadata": {},
   "outputs": [
    {
     "name": "stdout",
     "output_type": "stream",
     "text": [
      "p is:  0.8837209302325582\n",
      "J is:  2.8615254562386045\n"
     ]
    },
    {
     "data": {
      "text/plain": [
       "2.8615254562386045"
      ]
     },
     "execution_count": 75,
     "metadata": {},
     "output_type": "execute_result"
    }
   ],
   "source": [
    "cal_J_MM1m(lambda_, mu, m)"
   ]
  },
  {
   "cell_type": "markdown",
   "metadata": {},
   "source": [
    "La empresa ha calculado el beneficio por vehículo en 22 euros. Tiene la posibilidad de ampliar la capacidad de la zona de espera en un vehículo más, con lo que la proporción de tiempo en que la estación está saturada disminuye y puede atender a más vehículos Suponiendo que está abierta 8 horas al día, durante 22 días al mes y que el proceso de llegadas es el mismo durante todo el horario de apertura, ¿cuánto sería el incremento mensual en el beneficio esperado por poder atender a los nuevos coches?"
   ]
  },
  {
   "cell_type": "code",
   "execution_count": 76,
   "metadata": {},
   "outputs": [],
   "source": [
    "m = 6 + 2"
   ]
  },
  {
   "cell_type": "code",
   "execution_count": 77,
   "metadata": {},
   "outputs": [],
   "source": [
    "precio = 22"
   ]
  },
  {
   "cell_type": "code",
   "execution_count": 78,
   "metadata": {},
   "outputs": [],
   "source": [
    "hours = 8"
   ]
  },
  {
   "cell_type": "code",
   "execution_count": 79,
   "metadata": {},
   "outputs": [],
   "source": [
    "days = 22"
   ]
  },
  {
   "cell_type": "code",
   "execution_count": 80,
   "metadata": {
    "scrolled": true
   },
   "outputs": [
    {
     "name": "stdout",
     "output_type": "stream",
     "text": [
      "p is:  0.8837209302325582\n",
      "p_ 8  is: 0.06443531189842151\n"
     ]
    },
    {
     "data": {
      "text/plain": [
       "0.06443531189842151"
      ]
     },
     "execution_count": 80,
     "metadata": {},
     "output_type": "execute_result"
    }
   ],
   "source": [
    "p_m = cal_pk_MM1m(lambda_, mu, m, m)\n",
    "p_m"
   ]
  },
  {
   "cell_type": "code",
   "execution_count": 81,
   "metadata": {},
   "outputs": [
    {
     "data": {
      "text/plain": [
       "182.34587005046873"
      ]
     },
     "execution_count": 81,
     "metadata": {},
     "output_type": "execute_result"
    }
   ],
   "source": [
    "(lambda_ * (1 - p_m) * 60 - tasa_efectiva) * hours * days * precio"
   ]
  },
  {
   "cell_type": "markdown",
   "metadata": {},
   "source": [
    "## Problema 6"
   ]
  },
  {
   "cell_type": "markdown",
   "metadata": {},
   "source": [
    "Un call center ha recogido datos de las llamadas telefónicas recibidas en el último periodo durante la hora punta. El número de llamadas recibidas se puede aproximar mediante una variable aleatoria con distribución Poisson de media 51 llamadas a la hora. El análisis de las conversaciones revela que la duración media de las llamadas es de 2.5 minutos. Actualmente tiene 3 personas atendiendo el teléfono. Si cuando una persona llama, todos los operarios están ocupados, la llamada se pierde."
   ]
  },
  {
   "cell_type": "markdown",
   "metadata": {},
   "source": [
    "### Este sistema se ajusta a un modelo M/M/m con pérdidas"
   ]
  },
  {
   "cell_type": "code",
   "execution_count": 82,
   "metadata": {},
   "outputs": [
    {
     "name": "stdout",
     "output_type": "stream",
     "text": [
      "0.85 0.4 3\n"
     ]
    }
   ],
   "source": [
    "lambda_ = 51 / 60\n",
    "X = 2.5\n",
    "c = 3\n",
    "mu = 1 / X\n",
    "print(lambda_, mu, c)"
   ]
  },
  {
   "cell_type": "markdown",
   "metadata": {},
   "source": [
    "### ¿Cuál es la probabilidad de que la llamada se pierda? "
   ]
  },
  {
   "cell_type": "code",
   "execution_count": 83,
   "metadata": {},
   "outputs": [
    {
     "name": "stdout",
     "output_type": "stream",
     "text": [
      "p is:  0.7083333333333334\n",
      "p is:  0.7083333333333334\n",
      "p0 is:  0.14322346030117955\n",
      "p_ 3  is:  0.22905496759755706\n"
     ]
    },
    {
     "data": {
      "text/plain": [
       "0.22905496759755706"
      ]
     },
     "execution_count": 83,
     "metadata": {},
     "output_type": "execute_result"
    }
   ],
   "source": [
    "p_c = cal_pk_MMcm(lambda_, mu, c, c, c)\n",
    "p_c"
   ]
  },
  {
   "cell_type": "markdown",
   "metadata": {},
   "source": [
    "### ¿Qué porcentaje de tiempo están todos los operarios ocupados?"
   ]
  },
  {
   "cell_type": "code",
   "execution_count": 84,
   "metadata": {},
   "outputs": [
    {
     "data": {
      "text/plain": [
       "22.905496759755707"
      ]
     },
     "execution_count": 84,
     "metadata": {},
     "output_type": "execute_result"
    }
   ],
   "source": [
    "p_c * 100"
   ]
  },
  {
   "cell_type": "markdown",
   "metadata": {},
   "source": [
    "### ¿Qué porcentaje de tiempo están todos los operarios libres?"
   ]
  },
  {
   "cell_type": "code",
   "execution_count": 85,
   "metadata": {},
   "outputs": [
    {
     "name": "stdout",
     "output_type": "stream",
     "text": [
      "p is:  0.7083333333333334\n",
      "p0 is:  0.14322346030117955\n"
     ]
    },
    {
     "data": {
      "text/plain": [
       "14.322346030117956"
      ]
     },
     "execution_count": 85,
     "metadata": {},
     "output_type": "execute_result"
    }
   ],
   "source": [
    "p_empty = cal_p0_MMcm(lambda_, mu, c, c)\n",
    "p_empty * 100"
   ]
  },
  {
   "cell_type": "markdown",
   "metadata": {},
   "source": [
    "La empresa quiere aumentar el nivel de servicio, reduciendo la probabilidad de que una llamada se encuentre a todos los operarios ocupados. ¿Cuál es el número mínimo de operarios que garantiza que esta probabilidad es inferior a 0.10? Respuesta operarios"
   ]
  },
  {
   "cell_type": "code",
   "execution_count": 86,
   "metadata": {
    "scrolled": true
   },
   "outputs": [
    {
     "data": {
      "text/plain": [
       "3"
      ]
     },
     "execution_count": 86,
     "metadata": {},
     "output_type": "execute_result"
    }
   ],
   "source": [
    "k = c\n",
    "p_k = p**k/factorial(k)/sum([p**j/factorial(j) for j in range(0, k+1)])\n",
    "while p_k > 0.1:\n",
    "    k += 1\n",
    "    p_k = p**k/factorial(k)/sum([p**j/factorial(j) for j in range(0, k+1)])\n",
    "k"
   ]
  },
  {
   "cell_type": "markdown",
   "metadata": {},
   "source": [
    "## Problema 7"
   ]
  },
  {
   "cell_type": "markdown",
   "metadata": {},
   "source": [
    "En un determinado se ha implantado un nuevo sistema para el control de seguridad de acceso de los viajeros al área de embarque. Se ha dispuesto una puerta que da acceso a dos arcos detectores de metales que deben superar todos los viajeros de la cola. En caso de que el arco detector no señale ninguna incidencia, el viajero pasa directamente a la zona de embarque. En caso de que detecte algo extraño, el viajero debe pasar a un escáner corporal 3D. Este escaner es el mismo para las dos puertas, de forma que hay una única cola con los viajeros precedentes de las dos puertas. En el caso en el que el escaner corporal 3D siga detectando algo extraño, el viajero debe pasar a un tercer control más exhaustivo, para lo que pasa a unas dependencias especiales del aeropuerto.\n",
    "\n",
    "Una vez en los viajeros traspasan la puerta de acceso, se reparten por igual entre los dos arcos de seguridad. El 83% de los viajeros que acceden a la zona de embarque, pasan sin problemas por primer arco detector, independientemente de la puerta que usen. El 11% de los viajeros que pasan por el escaner corporal 3D necesitan pasar por las dependencias especiales, mientras que el resto (89%) pasan directamente a la sala de embarque.\n",
    "\n",
    "Por tanto, se puede considerar que el sistema tiene cinco servidores:\n",
    "\n",
    "S1 : puerta de acceso a la que llegan todos los viajeros con una tasa λ=80 viajeros por minuto. Este servidor atiende a los viajeros con una tasa μ1 =107 viajeros por minuto.\n",
    "\n",
    "S2 : primer arco que recibe a la mitad de los viajeros de la puerta de acceso. Este arco tiene una tasa de inspección de μ2 =52 viajeros por minuto.\n",
    "\n",
    "S3 : segundo arco que recibe a la mitad de los viajeros de la puerta de acceso. Este arco tiene una tasa de inspección de μ3 =52 viajeros por minuto.\n",
    "\n",
    "S4 : escaner corporal 3D, que recibe a los viajeros a los que los arcos anteriores detectan algo extraño. Este escaner trabaja con una tasa de μ4 =18 viajeros por minuto.\n",
    "\n",
    "S5 : dependencias especiales, que recibe a todos los viajeros a los que el escaner visual 3D detecta algo extraño. Una vez que ha pasado por aquí, un viajero pasa a la zona de embarque. Cada viajero invierte un promedio de x5 =30 segundos en pasar este proceso."
   ]
  },
  {
   "cell_type": "markdown",
   "metadata": {},
   "source": [
    "![Diseño de redes](problema7.png)"
   ]
  },
  {
   "cell_type": "markdown",
   "metadata": {},
   "source": [
    "Denotamos por Ii la tasa de llegada al servidor i.\n",
    "Nota: a la hora de realizar los cálculos, es necesario tener en cuenta las unidades que se utilizan para cada parámetro del problema y las unidades en las que se piden los resultados.\n",
    "Completa adecuadamente las ecuaciones de tráfico:"
   ]
  },
  {
   "cell_type": "code",
   "execution_count": 87,
   "metadata": {},
   "outputs": [],
   "source": [
    "lambda_ = 80\n",
    "mu = np.array([107, 52, 52, 18, 60/30])"
   ]
  },
  {
   "cell_type": "code",
   "execution_count": 88,
   "metadata": {},
   "outputs": [],
   "source": [
    "q12 = 0.5\n",
    "q13 = 0.5\n",
    "q24 = 0.17\n",
    "q34 = 0.17\n",
    "q45 = 0.11"
   ]
  },
  {
   "cell_type": "code",
   "execution_count": 89,
   "metadata": {
    "scrolled": true
   },
   "outputs": [
    {
     "name": "stdout",
     "output_type": "stream",
     "text": [
      "[80.    40.    40.    13.6    1.496]\n"
     ]
    }
   ],
   "source": [
    "I1 = lambda_\n",
    "I2 = q12 * I1\n",
    "I3 = q13 * I1\n",
    "I4 = q24 * I2 + q34 * I3\n",
    "I5 = q45 * I4\n",
    "I = np.array([I1, I2, I3, I4, I5])\n",
    "print(I)"
   ]
  },
  {
   "cell_type": "markdown",
   "metadata": {},
   "source": [
    "El número medio de viajeros en cada servidor Ji es:"
   ]
  },
  {
   "cell_type": "code",
   "execution_count": 90,
   "metadata": {},
   "outputs": [
    {
     "data": {
      "text/plain": [
       "array([2.96296296, 3.33333333, 3.33333333, 3.09090909, 2.96825397])"
      ]
     },
     "execution_count": 90,
     "metadata": {},
     "output_type": "execute_result"
    }
   ],
   "source": [
    "J = I/(mu-I)\n",
    "J"
   ]
  },
  {
   "cell_type": "markdown",
   "metadata": {},
   "source": [
    "Y el número medio de viajeros en todo el sistema J es Respuesta"
   ]
  },
  {
   "cell_type": "code",
   "execution_count": 91,
   "metadata": {},
   "outputs": [
    {
     "data": {
      "text/plain": [
       "15.688792688792692"
      ]
     },
     "execution_count": 91,
     "metadata": {},
     "output_type": "execute_result"
    }
   ],
   "source": [
    "np.sum(J)"
   ]
  },
  {
   "cell_type": "markdown",
   "metadata": {},
   "source": [
    "## Problema 8"
   ]
  },
  {
   "cell_type": "markdown",
   "metadata": {},
   "source": [
    "Una empresa recibe documentos de dos tipos, 1 y 2. Los documentos de tipo 1 deben pasar por el OCR número 1, mientras que los de tipo 2 pasan por el OCR 2. Como resultado de la lectura por el correspondiente OCR, cada documento puede: a) ser rechazado (si la lectura presentó ligeros errores) y sale del sistema, b) pasar a grabación manual (si la lectura fue imposible) o c) pasar directamente al proceso de almacenamiento (distinto para cada tipo de documento). Si un documento pasa por grabación manual, después pasa a cualquiera de los dos procesos de almacenamiento anteriores con la misma probabilidad. Se ha detectado que el 10% de los documentos de tipo 1 son rechazados, el 73% salen correctamente y el 17% restante deben pasar a grabación manual. En el OCR2 (documentos de tipo 2), estos porcentajes son 5%, 74% y 21%, respectivamente.\n",
    "\n",
    "Por tanto, se puede considerar que el sistema tiene cinco servidores:\n",
    "\n",
    "S1 : primer OCR, OCR1, que recibe documentos de tipo 1 sólo del exterior con una tasa λ1 =1000 documentos por hora. Los documentos rechazados en este punto, salen del sistema. Este sistema procesa documentos con una tasa μ1 =1357 documentos por hora.\n",
    "\n",
    "S2 : segundo OCR, OCR2, que recibe documentos de tipo 2 sólo del exterior con una tasa λ2 =550. Los documentos rechazados en este punto, salen del sistema. Este sistema procesa documentos con una tasa μ2 =727 documentos por hora.\n",
    "\n",
    "S3 : grabación manual, que recibe los documentos de tipo 1 y 2 cuya lectura ha resultado defectuosa. Este sistema procesa documentos con una tasa μ3 =375 documentos por hora.\n",
    "\n",
    "S4 : primer almacenamiento, que recibe los documentos de tipo 1 que han sido leídos correctamente en el OCR1 y la mitad de los documentos que han pasado por la grabación manual. Una vez que ha pasado por aquí, un documento sale del sistema. Este sistema procesa documentos con una tasa μ4 =1192 documentos por hora.\n",
    "\n",
    "S5 : primer almacenamiento, que recibe los documentos de tipo 2 que han sido leídos correctamente en el OCR1 y la mitad de los documentos que han pasado por la grabación manual. Una vez que ha pasado por aquí, un documento sale del sistema. Este sistema procesa documentos con una tasa μ5 =666 documentos por hora."
   ]
  },
  {
   "cell_type": "markdown",
   "metadata": {},
   "source": [
    "![Diseño de redes](problema8.png)"
   ]
  },
  {
   "cell_type": "code",
   "execution_count": 92,
   "metadata": {},
   "outputs": [],
   "source": [
    "lambda1 = 1000\n",
    "lambda2 = 550\n",
    "mu = np.array([1357, 727, 375, 1192, 666])\n",
    "q13 = 0.17\n",
    "q23 = 0.21\n",
    "q14 = 0.73\n",
    "q25 = 0.74\n",
    "q34 = 0.5\n",
    "q35 = 0.5"
   ]
  },
  {
   "cell_type": "markdown",
   "metadata": {},
   "source": [
    "Denotamos por Ii la tasa de llegada al servidor i.\n",
    "\n",
    "Nota: a la hora de realizar los cálculos, es necesario tener en cuenta las unidades que se utilizan para cada parámetro del problema y las unidades en las que se piden los resultados.\n",
    "\n",
    "### Completa adecuadamente las ecuaciones de tráfico:"
   ]
  },
  {
   "cell_type": "code",
   "execution_count": 93,
   "metadata": {},
   "outputs": [
    {
     "name": "stdout",
     "output_type": "stream",
     "text": [
      "[1000.    550.    285.5   872.75  549.75]\n"
     ]
    }
   ],
   "source": [
    "I1 = lambda1\n",
    "I2 = lambda2\n",
    "I3 = q13 * I1 + q23 * I2\n",
    "I4 = q14 * I1 + q34 * I3\n",
    "I5 = q25 * I2 + q35 * I3\n",
    "I = np.array([I1, I2, I3, I4, I5])\n",
    "print(I)"
   ]
  },
  {
   "cell_type": "markdown",
   "metadata": {},
   "source": [
    "### El tiempo medio de respuesta de cada servidor es:"
   ]
  },
  {
   "cell_type": "code",
   "execution_count": 94,
   "metadata": {},
   "outputs": [
    {
     "name": "stdout",
     "output_type": "stream",
     "text": [
      "R is:  [0.00280112 0.00564972 0.01117318 0.00313234 0.00860215]\n"
     ]
    },
    {
     "data": {
      "text/plain": [
       "array([0.16806723, 0.33898305, 0.67039106, 0.18794049, 0.51612903])"
      ]
     },
     "execution_count": 94,
     "metadata": {},
     "output_type": "execute_result"
    }
   ],
   "source": [
    "R = cal_R_queueing_netowork_MM1(I, mu)\n",
    "R * 60"
   ]
  },
  {
   "cell_type": "markdown",
   "metadata": {},
   "source": [
    "### Y el tiempo medio de respuesta global es"
   ]
  },
  {
   "cell_type": "code",
   "execution_count": 95,
   "metadata": {},
   "outputs": [
    {
     "name": "stdout",
     "output_type": "stream",
     "text": [
      "R is:  [0.00280112 0.00564972 0.01117318 0.00313234 0.00860215]\n",
      "R is:  [0.00280112 0.00564972 0.01117318 0.00313234 0.00860215]\n",
      "Total lambda is:  1550\n"
     ]
    },
    {
     "data": {
      "text/plain": [
       "0.6410784174947247"
      ]
     },
     "execution_count": 95,
     "metadata": {},
     "output_type": "execute_result"
    }
   ],
   "source": [
    "cal_R_total_queueing_network_MM1(I, mu, np.array([lambda1, lambda2])) * 60"
   ]
  },
  {
   "cell_type": "markdown",
   "metadata": {},
   "source": [
    "# Serie de problemas y ejercicios de Teoría de Colas"
   ]
  },
  {
   "cell_type": "markdown",
   "metadata": {},
   "source": [
    "## Problema 1"
   ]
  },
  {
   "cell_type": "markdown",
   "metadata": {},
   "source": [
    "Una empresa dispone de dos impresoras y cada una atiende la demanda de un departamento. Ambas impresoras son iguales y trabajan a un ritmo promedio de 1.1 trabajos por minuto. El departamento A envía un promedio de 45 trabajos por hora y el departamento B un trabajo cada 90 segundos. Las impresoras tienen capacidad suficiente como para mantener en espera todos los trabajos que se reciban. Tanto las llegadas como el servicio se pueden considerar procesos de Poisson."
   ]
  },
  {
   "cell_type": "code",
   "execution_count": 96,
   "metadata": {},
   "outputs": [
    {
     "name": "stdout",
     "output_type": "stream",
     "text": [
      "0.75 0.6666666666666666 1.1\n"
     ]
    }
   ],
   "source": [
    "lambda1 = 45 / 60\n",
    "lambda2 = 60 / 90\n",
    "mu = 1.1\n",
    "print(lambda1, lambda2, mu)"
   ]
  },
  {
   "cell_type": "markdown",
   "metadata": {},
   "source": [
    "### ¿A qué modelo se ajustan los sistemas descritos? **M/M/1**"
   ]
  },
  {
   "cell_type": "markdown",
   "metadata": {},
   "source": [
    "### ¿Qué proporción de trabajos tienen que esperar para ser atendidos en cada departamento?"
   ]
  },
  {
   "cell_type": "markdown",
   "metadata": {},
   "source": [
    "#### Departamento A"
   ]
  },
  {
   "cell_type": "code",
   "execution_count": 97,
   "metadata": {
    "scrolled": true
   },
   "outputs": [
    {
     "name": "stdout",
     "output_type": "stream",
     "text": [
      "p is:  0.6818181818181818\n"
     ]
    },
    {
     "data": {
      "text/plain": [
       "0.6818181818181818"
      ]
     },
     "execution_count": 97,
     "metadata": {},
     "output_type": "execute_result"
    }
   ],
   "source": [
    "cal_p(lambda1, mu)"
   ]
  },
  {
   "cell_type": "markdown",
   "metadata": {},
   "source": [
    "#### Departamento B"
   ]
  },
  {
   "cell_type": "code",
   "execution_count": 98,
   "metadata": {},
   "outputs": [
    {
     "name": "stdout",
     "output_type": "stream",
     "text": [
      "p is:  0.606060606060606\n"
     ]
    },
    {
     "data": {
      "text/plain": [
       "0.606060606060606"
      ]
     },
     "execution_count": 98,
     "metadata": {},
     "output_type": "execute_result"
    }
   ],
   "source": [
    "cal_p(lambda2, mu)"
   ]
  },
  {
   "cell_type": "markdown",
   "metadata": {},
   "source": [
    "### ¿Cuál es el tiempo medio de respuesta en cada una de las dos alternativas?"
   ]
  },
  {
   "cell_type": "markdown",
   "metadata": {},
   "source": [
    "#### Departamento A:"
   ]
  },
  {
   "cell_type": "code",
   "execution_count": 99,
   "metadata": {},
   "outputs": [
    {
     "name": "stdout",
     "output_type": "stream",
     "text": [
      "p is:  0.6818181818181818\n",
      "R is:  2.8571428571428563\n"
     ]
    },
    {
     "data": {
      "text/plain": [
       "2.8571428571428563"
      ]
     },
     "execution_count": 99,
     "metadata": {},
     "output_type": "execute_result"
    }
   ],
   "source": [
    "cal_R_MM1(lambda1, mu)"
   ]
  },
  {
   "cell_type": "markdown",
   "metadata": {},
   "source": [
    "#### Departamento B:"
   ]
  },
  {
   "cell_type": "code",
   "execution_count": 100,
   "metadata": {},
   "outputs": [
    {
     "name": "stdout",
     "output_type": "stream",
     "text": [
      "p is:  0.606060606060606\n",
      "R is:  2.307692307692307\n"
     ]
    },
    {
     "data": {
      "text/plain": [
       "2.307692307692307"
      ]
     },
     "execution_count": 100,
     "metadata": {},
     "output_type": "execute_result"
    }
   ],
   "source": [
    "cal_R_MM1(lambda2, mu)"
   ]
  },
  {
   "cell_type": "markdown",
   "metadata": {},
   "source": [
    "La empresa modifica el sistema, unificando las dos colas en una única, de forma que cuando una de las dos impresoras se queda libre, pasa a imprimir el primer trabajo de la cola, independientemente del departamento que lo envió."
   ]
  },
  {
   "cell_type": "markdown",
   "metadata": {},
   "source": [
    "### ¿A qué modelo se ajustan los sistemas descritos? **M/M/c**"
   ]
  },
  {
   "cell_type": "code",
   "execution_count": 101,
   "metadata": {},
   "outputs": [],
   "source": [
    "c = 2"
   ]
  },
  {
   "cell_type": "code",
   "execution_count": 102,
   "metadata": {},
   "outputs": [
    {
     "data": {
      "text/plain": [
       "1.4166666666666665"
      ]
     },
     "execution_count": 102,
     "metadata": {},
     "output_type": "execute_result"
    }
   ],
   "source": [
    "lambda_ = lambda1 + lambda2\n",
    "lambda_"
   ]
  },
  {
   "cell_type": "markdown",
   "metadata": {},
   "source": [
    "### ¿Cuál es el tiempo medio de respuesta de los trabajos de cada departamento en esta nueva situación?"
   ]
  },
  {
   "cell_type": "markdown",
   "metadata": {},
   "source": [
    "#### Departamento A:"
   ]
  },
  {
   "cell_type": "code",
   "execution_count": 103,
   "metadata": {},
   "outputs": [
    {
     "name": "stdout",
     "output_type": "stream",
     "text": [
      "p is:  0.6439393939393938\n",
      "p is:  [0.64393939]\n",
      "p0 is:  [0.21658986]\n",
      "[0.55982007] / 0.6136111111111117\n",
      "Q is:  [0.91233692]\n",
      "W is:  [0.64400253]\n"
     ]
    },
    {
     "data": {
      "text/plain": [
       "array([1.55309344])"
      ]
     },
     "execution_count": 103,
     "metadata": {},
     "output_type": "execute_result"
    }
   ],
   "source": [
    "cal_R_MMC(lambda_, mu, c)"
   ]
  },
  {
   "cell_type": "markdown",
   "metadata": {},
   "source": [
    "#### Departamento B:"
   ]
  },
  {
   "cell_type": "code",
   "execution_count": 104,
   "metadata": {},
   "outputs": [
    {
     "name": "stdout",
     "output_type": "stream",
     "text": [
      "p is:  0.6439393939393938\n",
      "p is:  [0.64393939]\n",
      "p0 is:  [0.21658986]\n",
      "[0.55982007] / 0.6136111111111117\n",
      "Q is:  [0.91233692]\n",
      "W is:  [0.64400253]\n"
     ]
    },
    {
     "data": {
      "text/plain": [
       "array([1.55309344])"
      ]
     },
     "execution_count": 104,
     "metadata": {},
     "output_type": "execute_result"
    }
   ],
   "source": [
    "cal_R_MMC(lambda_, mu, c)"
   ]
  },
  {
   "cell_type": "markdown",
   "metadata": {},
   "source": [
    "La empresa sustituye las dos impresoras por una única impresora el doble de rápido y da más prioridad a los trabajos del departamento A. Una vez iniciada la impresión de un trabajo, no se puede interrumpir."
   ]
  },
  {
   "cell_type": "code",
   "execution_count": 105,
   "metadata": {},
   "outputs": [],
   "source": [
    "mu *= 2"
   ]
  },
  {
   "cell_type": "markdown",
   "metadata": {},
   "source": [
    "### ¿Cuál es el tiempo medio de respuesta de los trabajos de cada departamento, A y B"
   ]
  },
  {
   "cell_type": "code",
   "execution_count": 106,
   "metadata": {},
   "outputs": [],
   "source": [
    "lambdas = np.array([lambda1, lambda2])\n",
    "mus = np.array([mu, mu])"
   ]
  },
  {
   "cell_type": "code",
   "execution_count": 107,
   "metadata": {},
   "outputs": [
    {
     "name": "stdout",
     "output_type": "stream",
     "text": [
      "p is:  [0.34090909 0.3030303 ]\n",
      "U is:  [0.         0.34090909 0.64393939]\n",
      "X^2 is:  [0.41322314 0.41322314]\n",
      "S is:  0.29269972451790627\n",
      "W is:  [0.44409613 1.24724872]\n",
      "R is:  [0.89864159 1.70179417]\n"
     ]
    }
   ],
   "source": [
    "R = cal_R_priority_nonpreemptive_MM1(lambdas, mus)"
   ]
  },
  {
   "cell_type": "markdown",
   "metadata": {},
   "source": [
    "#### Departamento A:"
   ]
  },
  {
   "cell_type": "code",
   "execution_count": 108,
   "metadata": {},
   "outputs": [
    {
     "data": {
      "text/plain": [
       "0.8986415882967606"
      ]
     },
     "execution_count": 108,
     "metadata": {},
     "output_type": "execute_result"
    }
   ],
   "source": [
    "R[0]"
   ]
  },
  {
   "cell_type": "markdown",
   "metadata": {},
   "source": [
    "#### Departamento B:"
   ]
  },
  {
   "cell_type": "code",
   "execution_count": 109,
   "metadata": {},
   "outputs": [
    {
     "data": {
      "text/plain": [
       "1.701794170612952"
      ]
     },
     "execution_count": 109,
     "metadata": {},
     "output_type": "execute_result"
    }
   ],
   "source": [
    "R[1]"
   ]
  },
  {
   "cell_type": "markdown",
   "metadata": {},
   "source": [
    "## Problema 2"
   ]
  },
  {
   "cell_type": "markdown",
   "metadata": {},
   "source": [
    "Una oficina bancaria tiene dos cajeros separados y con un funcionamiento independiente. Cada cajero recibe el 50% de los clientes que requieren este servicio en la oficina bancaria. El banco se está planteando sustituir la organización anterior (que llamaremos alternativa 1) por un sistema con una cola única que sirva a los dos cajeros (el primer cliente de la cola sería atendido por el primer cajero que quede libre), que llamaremos alternativa 2. El banco recibe un promedio de 38 clientes por hora que requieren servicios en el cajero por un promedio de 1.5 minutos para realizar sus gestiones. Tanto las llegadas como el servicio se pueden considerar procesos de Poisson y en todos los casos se puede suponer que las colas tienen capacidad ilimitada."
   ]
  },
  {
   "cell_type": "code",
   "execution_count": 110,
   "metadata": {},
   "outputs": [
    {
     "name": "stdout",
     "output_type": "stream",
     "text": [
      "0.6333333333333333 0.6666666666666666\n"
     ]
    }
   ],
   "source": [
    "lambda2 = 38 / 60\n",
    "mu = 1 / 1.5\n",
    "print(lambda2, mu)"
   ]
  },
  {
   "cell_type": "code",
   "execution_count": 111,
   "metadata": {},
   "outputs": [],
   "source": [
    "lambda1 = lambda2 / 2\n",
    "c = 2"
   ]
  },
  {
   "cell_type": "markdown",
   "metadata": {},
   "source": [
    "### ¿Qué modelos se ajustan a cada una de las dos alternativas?"
   ]
  },
  {
   "cell_type": "markdown",
   "metadata": {},
   "source": [
    "Alternativa 1: **M/M/1**"
   ]
  },
  {
   "cell_type": "markdown",
   "metadata": {},
   "source": [
    "Alternativa 2: **M/M/c**"
   ]
  },
  {
   "cell_type": "markdown",
   "metadata": {},
   "source": [
    "### ¿Cuál es la tasa de uso del sistema en cada una de las dos alternativas?"
   ]
  },
  {
   "cell_type": "markdown",
   "metadata": {},
   "source": [
    "#### Alternativa 1:"
   ]
  },
  {
   "cell_type": "code",
   "execution_count": 112,
   "metadata": {},
   "outputs": [
    {
     "name": "stdout",
     "output_type": "stream",
     "text": [
      "p is:  0.475\n"
     ]
    },
    {
     "data": {
      "text/plain": [
       "0.475"
      ]
     },
     "execution_count": 112,
     "metadata": {},
     "output_type": "execute_result"
    }
   ],
   "source": [
    "cal_p(lambda1, mu)"
   ]
  },
  {
   "cell_type": "markdown",
   "metadata": {},
   "source": [
    "#### Alternativa 2:"
   ]
  },
  {
   "cell_type": "code",
   "execution_count": 113,
   "metadata": {},
   "outputs": [
    {
     "name": "stdout",
     "output_type": "stream",
     "text": [
      "p is:  0.475\n"
     ]
    },
    {
     "data": {
      "text/plain": [
       "0.475"
      ]
     },
     "execution_count": 113,
     "metadata": {},
     "output_type": "execute_result"
    }
   ],
   "source": [
    "cal_p(lambda2, mu, c)"
   ]
  },
  {
   "cell_type": "markdown",
   "metadata": {},
   "source": [
    "### ¿Cuál es el tiempo medio de respuesta en cada una de las dos alternativas?"
   ]
  },
  {
   "cell_type": "markdown",
   "metadata": {},
   "source": [
    "#### Alternativa 1:"
   ]
  },
  {
   "cell_type": "code",
   "execution_count": 114,
   "metadata": {
    "scrolled": true
   },
   "outputs": [
    {
     "name": "stdout",
     "output_type": "stream",
     "text": [
      "p is:  0.475\n",
      "R is:  2.857142857142857\n"
     ]
    },
    {
     "data": {
      "text/plain": [
       "2.857142857142857"
      ]
     },
     "execution_count": 114,
     "metadata": {},
     "output_type": "execute_result"
    }
   ],
   "source": [
    "cal_R_MM1(lambda1, mu)"
   ]
  },
  {
   "cell_type": "markdown",
   "metadata": {},
   "source": [
    "#### Alternativa 2:"
   ]
  },
  {
   "cell_type": "code",
   "execution_count": 115,
   "metadata": {},
   "outputs": [
    {
     "name": "stdout",
     "output_type": "stream",
     "text": [
      "p is:  0.475\n",
      "p is:  [0.475]\n",
      "p0 is:  [0.3559322]\n",
      "[0.13562994] / 0.48999999999999994\n",
      "Q is:  [0.2767958]\n",
      "W is:  [0.437046]\n"
     ]
    },
    {
     "data": {
      "text/plain": [
       "array([1.937046])"
      ]
     },
     "execution_count": 115,
     "metadata": {},
     "output_type": "execute_result"
    }
   ],
   "source": [
    "cal_R_MMC(lambda2, mu, c)"
   ]
  },
  {
   "cell_type": "markdown",
   "metadata": {},
   "source": [
    "### ¿Cuál es el tiempo medio de espera en cada una de las dos alternativas?"
   ]
  },
  {
   "cell_type": "markdown",
   "metadata": {},
   "source": [
    "#### Alternativa 1:"
   ]
  },
  {
   "cell_type": "code",
   "execution_count": 116,
   "metadata": {},
   "outputs": [
    {
     "name": "stdout",
     "output_type": "stream",
     "text": [
      "p is:  0.475\n",
      "W is:  1.3571428571428572\n"
     ]
    },
    {
     "data": {
      "text/plain": [
       "1.3571428571428572"
      ]
     },
     "execution_count": 116,
     "metadata": {},
     "output_type": "execute_result"
    }
   ],
   "source": [
    "cal_W_MG1(lambda1, mu)"
   ]
  },
  {
   "cell_type": "markdown",
   "metadata": {},
   "source": [
    "#### Alternativa 2:"
   ]
  },
  {
   "cell_type": "code",
   "execution_count": 117,
   "metadata": {},
   "outputs": [
    {
     "name": "stdout",
     "output_type": "stream",
     "text": [
      "p is:  0.475\n",
      "p is:  [0.475]\n",
      "p0 is:  [0.3559322]\n",
      "[0.13562994] / 0.48999999999999994\n",
      "Q is:  [0.2767958]\n",
      "W is:  [0.437046]\n"
     ]
    },
    {
     "data": {
      "text/plain": [
       "array([0.437046])"
      ]
     },
     "execution_count": 117,
     "metadata": {},
     "output_type": "execute_result"
    }
   ],
   "source": [
    "cal_W_MMC(lambda2, mu, c)"
   ]
  },
  {
   "cell_type": "markdown",
   "metadata": {},
   "source": [
    "### ¿Cuál es la probabilidad de que un cliente tenga que un esperar en cada una de las dos alternativas?"
   ]
  },
  {
   "cell_type": "markdown",
   "metadata": {},
   "source": [
    "#### Alternativa 1:"
   ]
  },
  {
   "cell_type": "code",
   "execution_count": 118,
   "metadata": {},
   "outputs": [
    {
     "name": "stdout",
     "output_type": "stream",
     "text": [
      "p is:  0.475\n",
      "p is:  [0.475]\n",
      "p0 is:  [0.525]\n",
      "The p serie is  [array([0.525]), array([0.249375])]\n"
     ]
    },
    {
     "data": {
      "text/plain": [
       "0.475"
      ]
     },
     "execution_count": 118,
     "metadata": {},
     "output_type": "execute_result"
    }
   ],
   "source": [
    "cal_wait_probability_MMC_without_lost(lambda1, mu, 1)"
   ]
  },
  {
   "cell_type": "markdown",
   "metadata": {},
   "source": [
    "#### Alternativa 2:"
   ]
  },
  {
   "cell_type": "code",
   "execution_count": 119,
   "metadata": {},
   "outputs": [
    {
     "name": "stdout",
     "output_type": "stream",
     "text": [
      "p is:  0.475\n",
      "p is:  [0.475]\n",
      "p0 is:  [0.3559322]\n",
      "The p serie is  [array([0.3559322]), array([0.33813559]), array([0.16061441])]\n"
     ]
    },
    {
     "data": {
      "text/plain": [
       "0.3059322033898304"
      ]
     },
     "execution_count": 119,
     "metadata": {},
     "output_type": "execute_result"
    }
   ],
   "source": [
    "cal_wait_probability_MMC_without_lost(lambda2, mu, c)"
   ]
  },
  {
   "cell_type": "markdown",
   "metadata": {},
   "source": [
    "Los cajeros funcionan 8 horas al día y el banco paga una penalización de 0.1 euros por cada minuto en el que en la cola hay al menos un cliente esperando. "
   ]
  },
  {
   "cell_type": "markdown",
   "metadata": {},
   "source": [
    "### ¿Cuál es el coste diario esperado de esta penalización en la alternativa 2?"
   ]
  },
  {
   "cell_type": "code",
   "execution_count": 120,
   "metadata": {},
   "outputs": [],
   "source": [
    "price = 0.1"
   ]
  },
  {
   "cell_type": "code",
   "execution_count": 121,
   "metadata": {
    "scrolled": true
   },
   "outputs": [
    {
     "name": "stdout",
     "output_type": "stream",
     "text": [
      "p is:  0.475\n",
      "p is:  [0.475]\n",
      "p0 is:  [0.3559322]\n",
      "The p serie is  [array([0.3559322]), array([0.33813559]), array([0.16061441])]\n"
     ]
    },
    {
     "data": {
      "text/plain": [
       "6.9752542372881265"
      ]
     },
     "execution_count": 121,
     "metadata": {},
     "output_type": "execute_result"
    }
   ],
   "source": [
    "(1 - np.sum(cal_pk_serie_without_lost(lambda2, mu, c, c))) * price * 60 * 8"
   ]
  },
  {
   "cell_type": "markdown",
   "metadata": {},
   "source": [
    "## Problema 3"
   ]
  },
  {
   "cell_type": "markdown",
   "metadata": {},
   "source": [
    "Un sistema con dos procesadores recibe trabajos de dos tipos distintos, A y B, con una tasa de 46 y 56 trabajos a la hora, respectivamente. Cada trabajo, independientemente del tipo, tarda en procesarse una media de 50 segundos y es atendido por un único procesador. La cola de espera es suficientemente grande como para mantener en espera todos los trabajos que se reciban. Tanto las llegadas como el servicio se pueden considerar como un proceso de Poisson."
   ]
  },
  {
   "cell_type": "code",
   "execution_count": 122,
   "metadata": {
    "scrolled": true
   },
   "outputs": [
    {
     "name": "stdout",
     "output_type": "stream",
     "text": [
      "0.7666666666666667 0.9333333333333333 1.2\n"
     ]
    }
   ],
   "source": [
    "lambdaA = 46 / 60\n",
    "lambdaB = 56 / 60\n",
    "mu = 60 / 50\n",
    "print(lambdaA, lambdaB, mu)"
   ]
  },
  {
   "cell_type": "code",
   "execution_count": 123,
   "metadata": {},
   "outputs": [],
   "source": [
    "c = 2\n",
    "lambda_ = lambdaA + lambdaB"
   ]
  },
  {
   "cell_type": "markdown",
   "metadata": {},
   "source": [
    "### ¿A qué modelo se ajusta este sistema? M/M/c"
   ]
  },
  {
   "cell_type": "markdown",
   "metadata": {},
   "source": [
    "### ¿Qué proporción de trabajos tienen que esperar para ser atendidos?"
   ]
  },
  {
   "cell_type": "code",
   "execution_count": 124,
   "metadata": {},
   "outputs": [
    {
     "name": "stdout",
     "output_type": "stream",
     "text": [
      "p is:  0.7083333333333335\n",
      "p is:  [0.70833333]\n",
      "p0 is:  [0.17073171]\n",
      "The p serie is  [array([0.17073171]), array([0.24186992]), array([0.17132453])]\n"
     ]
    },
    {
     "data": {
      "text/plain": [
       "58.73983739837401"
      ]
     },
     "execution_count": 124,
     "metadata": {},
     "output_type": "execute_result"
    }
   ],
   "source": [
    "cal_wait_probability_MMC_without_lost(lambda_, mu, c) * 100"
   ]
  },
  {
   "cell_type": "markdown",
   "metadata": {},
   "source": [
    "### ¿Cuál es el tiempo medio de espera en el sistema?"
   ]
  },
  {
   "cell_type": "code",
   "execution_count": 125,
   "metadata": {},
   "outputs": [
    {
     "name": "stdout",
     "output_type": "stream",
     "text": [
      "p is:  0.7083333333333335\n",
      "p is:  [0.70833333]\n",
      "p0 is:  [0.17073171]\n",
      "[0.69900407] / 0.4899999999999996\n",
      "Q is:  [1.42653891]\n",
      "W is:  [0.83914053]\n"
     ]
    },
    {
     "data": {
      "text/plain": [
       "array([0.83914053])"
      ]
     },
     "execution_count": 125,
     "metadata": {},
     "output_type": "execute_result"
    }
   ],
   "source": [
    "cal_W_MMC(lambda_, mu, c)"
   ]
  },
  {
   "cell_type": "markdown",
   "metadata": {},
   "source": [
    "Uno de los procesadores se estropea y para paliar la situación, el gestor del sistema decide duplicar la velocidad de proceso de cada trabajo y dar más prioridad a los trabajos de tipo B (aunque en ningún caso se interrumpe el proceso de un trabajo ya en ejecución)."
   ]
  },
  {
   "cell_type": "code",
   "execution_count": 126,
   "metadata": {},
   "outputs": [],
   "source": [
    "mu *= 2"
   ]
  },
  {
   "cell_type": "markdown",
   "metadata": {},
   "source": [
    "### ¿Cuál es el tiempo medio de espera de cada uno de los trabajos, A y B?"
   ]
  },
  {
   "cell_type": "code",
   "execution_count": 127,
   "metadata": {},
   "outputs": [
    {
     "name": "stdout",
     "output_type": "stream",
     "text": [
      "p is:  [0.38888889 0.31944444]\n",
      "U is:  [0.         0.38888889 0.70833333]\n",
      "X^2 is:  [0.34722222 0.34722222]\n",
      "S is:  0.2951388888888889\n",
      "W is:  [0.48295455 1.65584416]\n"
     ]
    }
   ],
   "source": [
    "W_B, W_A = cal_W_priority_nonpreemptive_MM1(np.array([lambdaB, lambdaA]), np.array([mu]*2))"
   ]
  },
  {
   "cell_type": "markdown",
   "metadata": {},
   "source": [
    "#### Trabajos de tipo A:"
   ]
  },
  {
   "cell_type": "code",
   "execution_count": 128,
   "metadata": {},
   "outputs": [
    {
     "data": {
      "text/plain": [
       "1.655844155844156"
      ]
     },
     "execution_count": 128,
     "metadata": {},
     "output_type": "execute_result"
    }
   ],
   "source": [
    "W_A"
   ]
  },
  {
   "cell_type": "markdown",
   "metadata": {},
   "source": [
    "#### Trabajos de tipo B:"
   ]
  },
  {
   "cell_type": "code",
   "execution_count": 129,
   "metadata": {
    "scrolled": true
   },
   "outputs": [
    {
     "data": {
      "text/plain": [
       "0.4829545454545454"
      ]
     },
     "execution_count": 129,
     "metadata": {},
     "output_type": "execute_result"
    }
   ],
   "source": [
    "W_B"
   ]
  },
  {
   "cell_type": "markdown",
   "metadata": {},
   "source": [
    "### Promedio de ambos tipos de trabajo:"
   ]
  },
  {
   "cell_type": "code",
   "execution_count": 130,
   "metadata": {},
   "outputs": [
    {
     "name": "stdout",
     "output_type": "stream",
     "text": [
      "weights are : [0.54901961 0.45098039]\n",
      "p is:  [0.38888889 0.31944444]\n",
      "U is:  [0.         0.38888889 0.70833333]\n",
      "X^2 is:  [0.34722222 0.34722222]\n",
      "S is:  0.2951388888888889\n",
      "W is:  [0.48295455 1.65584416]\n"
     ]
    },
    {
     "data": {
      "text/plain": [
       "1.0119047619047619"
      ]
     },
     "execution_count": 130,
     "metadata": {},
     "output_type": "execute_result"
    }
   ],
   "source": [
    "cal_total_W_priority_nonpreemptive_MM1(np.array([lambdaB, lambdaA]), np.array([mu]*2))"
   ]
  },
  {
   "cell_type": "markdown",
   "metadata": {},
   "source": [
    "## Problema 4"
   ]
  },
  {
   "cell_type": "markdown",
   "metadata": {},
   "source": [
    "Un agente comercial recibe todas sus llamadas en el movil y, para no perder ninguna llamada, ha considerado adecuado desactivar el buzón de voz. De esta forma, cuando recibe una llamada y está ocupado, la llamada se pierde. Recibe un promedio de 12 llamadas a la hora, con una duración media de 4 minutos. Tanto la recepción de llamadas como el tiempo de llamada se pueden considerar procesos de Poisson."
   ]
  },
  {
   "cell_type": "code",
   "execution_count": 131,
   "metadata": {},
   "outputs": [
    {
     "name": "stdout",
     "output_type": "stream",
     "text": [
      "0.2 0.25\n"
     ]
    }
   ],
   "source": [
    "lambda_ = 12 / 60\n",
    "mu = 1/4\n",
    "print(lambda_, mu)"
   ]
  },
  {
   "cell_type": "code",
   "execution_count": 132,
   "metadata": {},
   "outputs": [],
   "source": [
    "m = 1"
   ]
  },
  {
   "cell_type": "markdown",
   "metadata": {},
   "source": [
    "### Este sistema se ajusta a un modelo M/M/1 con perdida"
   ]
  },
  {
   "cell_type": "markdown",
   "metadata": {},
   "source": [
    "### ¿Que porcentaje de tiempo el agente está ocioso, esperando llamadas?"
   ]
  },
  {
   "cell_type": "code",
   "execution_count": 133,
   "metadata": {
    "scrolled": true
   },
   "outputs": [
    {
     "name": "stdout",
     "output_type": "stream",
     "text": [
      "p is:  0.8\n",
      "p_ 0  is: 0.5555555555555556\n"
     ]
    },
    {
     "data": {
      "text/plain": [
       "55.55555555555556"
      ]
     },
     "execution_count": 133,
     "metadata": {},
     "output_type": "execute_result"
    }
   ],
   "source": [
    "cal_pk_MM1m(lambda_, mu, m, 0) * 100"
   ]
  },
  {
   "cell_type": "markdown",
   "metadata": {},
   "source": [
    "### ¿Que porcentaje de tiempo el agente está ocupado, atendiendo llamadas?"
   ]
  },
  {
   "cell_type": "code",
   "execution_count": 134,
   "metadata": {},
   "outputs": [
    {
     "name": "stdout",
     "output_type": "stream",
     "text": [
      "p is:  0.8\n",
      "p_ 1  is: 0.44444444444444453\n"
     ]
    },
    {
     "data": {
      "text/plain": [
       "44.44444444444445"
      ]
     },
     "execution_count": 134,
     "metadata": {},
     "output_type": "execute_result"
    }
   ],
   "source": [
    "cal_pk_MM1m(lambda_, mu, m, 1) * 100"
   ]
  },
  {
   "cell_type": "markdown",
   "metadata": {},
   "source": [
    "### ¿Qué porcentaje de llamadas se pierden? Respuesta"
   ]
  },
  {
   "cell_type": "code",
   "execution_count": 135,
   "metadata": {},
   "outputs": [
    {
     "name": "stdout",
     "output_type": "stream",
     "text": [
      "p is:  0.8\n",
      "p_ 1  is: 0.44444444444444453\n"
     ]
    },
    {
     "data": {
      "text/plain": [
       "44.44444444444445"
      ]
     },
     "execution_count": 135,
     "metadata": {},
     "output_type": "execute_result"
    }
   ],
   "source": [
    "cal_pk_MM1m(lambda_, mu, m, 1) * 100"
   ]
  },
  {
   "cell_type": "markdown",
   "metadata": {},
   "source": [
    "Su compañía de teléfono le ofrece un servicio de llamada en espera de capacidad ilimitada. El agente ha calculado que cada llamada atendida le reporta un beneficio de 10 euros. "
   ]
  },
  {
   "cell_type": "code",
   "execution_count": 136,
   "metadata": {},
   "outputs": [],
   "source": [
    "profit = 10"
   ]
  },
  {
   "cell_type": "markdown",
   "metadata": {},
   "source": [
    "### ¿Cuál es el precio máximo por hora que tendría que estar dispuesto a pagar por el alquiler del servicio para que le resulte rentable contratarlo?"
   ]
  },
  {
   "cell_type": "code",
   "execution_count": 137,
   "metadata": {},
   "outputs": [
    {
     "name": "stdout",
     "output_type": "stream",
     "text": [
      "p is:  0.8\n",
      "p_ 1  is: 0.44444444444444453\n"
     ]
    },
    {
     "data": {
      "text/plain": [
       "53.33333333333334"
      ]
     },
     "execution_count": 137,
     "metadata": {},
     "output_type": "execute_result"
    }
   ],
   "source": [
    "lambda_ * cal_pk_MM1m(lambda_, mu, m, 1) * 60 * profit"
   ]
  },
  {
   "cell_type": "markdown",
   "metadata": {},
   "source": [
    "El sistema contratado, además, le permite clasificar los clientes y discriminar en función de esta clasificación. El agente ha detectado que el 20% de sus clientes son mejores que el resto y los ha clasificado como super cuquis ya que, a pesar de requerir el mismo tiempo de servicio, le proporcionan un beneficio medio de 30 euros. Por ello, ha decidido darles prioridad y si cuando termina una llamada, hay algún cliente super cuqui en espera, es atendido antes que el resto. "
   ]
  },
  {
   "cell_type": "code",
   "execution_count": 138,
   "metadata": {},
   "outputs": [],
   "source": [
    "p_super_cuquis = 0.2"
   ]
  },
  {
   "cell_type": "markdown",
   "metadata": {},
   "source": [
    "### ¿Cuál es el tiempo medio de respuesta de los clientes super cuquis en cada una de las tres situaciones descritas:"
   ]
  },
  {
   "cell_type": "markdown",
   "metadata": {},
   "source": [
    "#### Situación inicial:"
   ]
  },
  {
   "cell_type": "code",
   "execution_count": 139,
   "metadata": {
    "scrolled": false
   },
   "outputs": [
    {
     "data": {
      "text/plain": [
       "4.0"
      ]
     },
     "execution_count": 139,
     "metadata": {},
     "output_type": "execute_result"
    }
   ],
   "source": [
    "1 / mu"
   ]
  },
  {
   "cell_type": "markdown",
   "metadata": {},
   "source": [
    "#### Situación con servicio de llamada en espera:"
   ]
  },
  {
   "cell_type": "code",
   "execution_count": 140,
   "metadata": {},
   "outputs": [
    {
     "name": "stdout",
     "output_type": "stream",
     "text": [
      "p is:  0.8\n",
      "R is:  20.000000000000004\n"
     ]
    },
    {
     "data": {
      "text/plain": [
       "20.000000000000004"
      ]
     },
     "execution_count": 140,
     "metadata": {},
     "output_type": "execute_result"
    }
   ],
   "source": [
    "cal_R_MM1(lambda_, mu)"
   ]
  },
  {
   "cell_type": "markdown",
   "metadata": {},
   "source": [
    "#### Situación con discriminación en las llamadas:"
   ]
  },
  {
   "cell_type": "code",
   "execution_count": 141,
   "metadata": {},
   "outputs": [
    {
     "name": "stdout",
     "output_type": "stream",
     "text": [
      "p is:  [0.16 0.64]\n",
      "U is:  [0.   0.16 0.8 ]\n",
      "X^2 is:  [32. 32.]\n",
      "S is:  3.2000000000000006\n",
      "W is:  [ 3.80952381 19.04761905]\n",
      "R is:  [ 7.80952381 23.04761905]\n"
     ]
    },
    {
     "data": {
      "text/plain": [
       "7.80952380952381"
      ]
     },
     "execution_count": 141,
     "metadata": {},
     "output_type": "execute_result"
    }
   ],
   "source": [
    "cal_R_priority_nonpreemptive_MM1(np.array([p_super_cuquis, 1-p_super_cuquis])*lambda_, np.array([mu]*2))[0]"
   ]
  },
  {
   "cell_type": "markdown",
   "metadata": {},
   "source": [
    "## Problema 5"
   ]
  },
  {
   "cell_type": "markdown",
   "metadata": {},
   "source": [
    "Una empresa ha recogido datos de las llamadas telefónicas recibidas en los últimos años en horas punta. El tiempo entre llamadas sigue una distribución exponencial con una frecuencia media de 22 llamadas a la hora. El análisis de las conversaciones revela que la duración media de las llamadas es de 4.9 minutos. La empresa tiene 3 operadores atendiendo el teléfono."
   ]
  },
  {
   "cell_type": "code",
   "execution_count": 142,
   "metadata": {},
   "outputs": [
    {
     "name": "stdout",
     "output_type": "stream",
     "text": [
      "0.36666666666666664 0.2040816326530612 3\n"
     ]
    }
   ],
   "source": [
    "lambda_ = 22 / 60\n",
    "mu = 1 / 4.9\n",
    "c = 3\n",
    "print(lambda_, mu, c)"
   ]
  },
  {
   "cell_type": "markdown",
   "metadata": {},
   "source": [
    "### Este sistema se ajusta a un modelo M/M/c"
   ]
  },
  {
   "cell_type": "markdown",
   "metadata": {},
   "source": [
    "### ¿Cuál es la probabilidad de que ningún operador esté ocupado?"
   ]
  },
  {
   "cell_type": "code",
   "execution_count": 143,
   "metadata": {},
   "outputs": [
    {
     "name": "stdout",
     "output_type": "stream",
     "text": [
      "p is:  [0.59888889]\n",
      "p0 is:  [0.14661675]\n"
     ]
    },
    {
     "data": {
      "text/plain": [
       "array([0.14661675])"
      ]
     },
     "execution_count": 143,
     "metadata": {},
     "output_type": "execute_result"
    }
   ],
   "source": [
    "cal_p0_MMC_without_lost(lambda_, mu, c)"
   ]
  },
  {
   "cell_type": "markdown",
   "metadata": {},
   "source": [
    "### ¿Cuál es la probabilidad de que una llamada tenga que esperar por encotnrar a los operadores atendiendo otra llamada? "
   ]
  },
  {
   "cell_type": "code",
   "execution_count": 144,
   "metadata": {
    "scrolled": true
   },
   "outputs": [
    {
     "name": "stdout",
     "output_type": "stream",
     "text": [
      "p is:  0.5988888888888889\n",
      "p is:  [0.59888889]\n",
      "p0 is:  [0.14661675]\n",
      "The p serie is  [array([0.14661675]), array([0.26342142]), array([0.23664024]), array([0.14172121])]\n"
     ]
    },
    {
     "data": {
      "text/plain": [
       "0.35332158458904117"
      ]
     },
     "execution_count": 144,
     "metadata": {},
     "output_type": "execute_result"
    }
   ],
   "source": [
    "cal_wait_probability_MMC_without_lost(lambda_, mu, c)"
   ]
  },
  {
   "cell_type": "markdown",
   "metadata": {},
   "source": [
    "### ¿Cuál es el número medio de operadores ocupados?"
   ]
  },
  {
   "cell_type": "code",
   "execution_count": 145,
   "metadata": {},
   "outputs": [],
   "source": [
    "def cal_busy_server(lambda_, mu, c):\n",
    "    p = cal_p(lambda_, mu, c)\n",
    "    n = c * p\n",
    "    print(\"The average of working server is: \", n)\n",
    "    return n"
   ]
  },
  {
   "cell_type": "code",
   "execution_count": 146,
   "metadata": {},
   "outputs": [
    {
     "name": "stdout",
     "output_type": "stream",
     "text": [
      "p is:  0.5988888888888889\n",
      "The average of working server is:  1.7966666666666669\n"
     ]
    },
    {
     "data": {
      "text/plain": [
       "1.7966666666666669"
      ]
     },
     "execution_count": 146,
     "metadata": {},
     "output_type": "execute_result"
    }
   ],
   "source": [
    "cal_busy_server(lambda_, mu, c)"
   ]
  },
  {
   "cell_type": "markdown",
   "metadata": {},
   "source": [
    "### ¿Cuál es el número medio de llamadas en la cola"
   ]
  },
  {
   "cell_type": "code",
   "execution_count": 147,
   "metadata": {},
   "outputs": [
    {
     "name": "stdout",
     "output_type": "stream",
     "text": [
      "p is:  0.5988888888888889\n",
      "p is:  [0.59888889]\n",
      "p0 is:  [0.14661675]\n",
      "[0.06362993] / 0.12061733536952189\n",
      "Q is:  [0.52753555]\n"
     ]
    },
    {
     "data": {
      "text/plain": [
       "array([0.52753555])"
      ]
     },
     "execution_count": 147,
     "metadata": {},
     "output_type": "execute_result"
    }
   ],
   "source": [
    "cal_Q_MMC(lambda_, mu, c)"
   ]
  },
  {
   "cell_type": "markdown",
   "metadata": {},
   "source": [
    "### ¿Cuál es el tiempo medio de espera?"
   ]
  },
  {
   "cell_type": "code",
   "execution_count": 148,
   "metadata": {},
   "outputs": [
    {
     "name": "stdout",
     "output_type": "stream",
     "text": [
      "p is:  0.5988888888888889\n",
      "p is:  [0.59888889]\n",
      "p0 is:  [0.14661675]\n",
      "[0.06362993] / 0.12061733536952189\n",
      "Q is:  [0.52753555]\n"
     ]
    },
    {
     "data": {
      "text/plain": [
       "array([1.43873332])"
      ]
     },
     "execution_count": 148,
     "metadata": {},
     "output_type": "execute_result"
    }
   ],
   "source": [
    "cal_Q_MMC(lambda_, mu, c) / lambda_"
   ]
  },
  {
   "cell_type": "markdown",
   "metadata": {},
   "source": [
    "## Problema 6"
   ]
  },
  {
   "cell_type": "markdown",
   "metadata": {},
   "source": [
    "Poisson con unas tasas de llegadas de 13 y 24 trabajos por hora, respectivamente. El tiempo de servicio es exponencial con una tasa de 30 y 72 trabajos por hora para los trabajos A y B, respectivamente. Se considera un modelo de prioridades expulsivas con mayor prioridad a los trabajos A"
   ]
  },
  {
   "cell_type": "code",
   "execution_count": 149,
   "metadata": {},
   "outputs": [
    {
     "name": "stdout",
     "output_type": "stream",
     "text": [
      "[13 24] [30 72]\n"
     ]
    }
   ],
   "source": [
    "lambdas = np.array([13, 24])\n",
    "mus = np.array([30, 72])\n",
    "print(lambdas, mus)"
   ]
  },
  {
   "cell_type": "markdown",
   "metadata": {},
   "source": [
    "### El modelo sin prioridades sistema se ajusta a un modelo M/M/1"
   ]
  },
  {
   "cell_type": "markdown",
   "metadata": {},
   "source": [
    "### ¿Cuál es el tiempo medio de respuesta de los trabajos de tipo A?"
   ]
  },
  {
   "cell_type": "code",
   "execution_count": 150,
   "metadata": {
    "scrolled": true
   },
   "outputs": [
    {
     "name": "stdout",
     "output_type": "stream",
     "text": [
      "p is:  [0.43333333 0.33333333]\n",
      "U is:  [0.         0.43333333 0.76666667]\n",
      "X^2 is:  [0.00222222 0.0003858 ]\n",
      "left is:  [0.03333333 0.0245098 ]\n",
      "numerator is:  [0.01444444 0.01907407]\n",
      "denominator is:  [0.56666667 0.13222222]\n",
      "right is:  [0.56666667 0.13222222]\n",
      "R is:  [0.05882353 0.16876751]\n"
     ]
    },
    {
     "data": {
      "text/plain": [
       "0.058823529411764705"
      ]
     },
     "execution_count": 150,
     "metadata": {},
     "output_type": "execute_result"
    }
   ],
   "source": [
    "cal_R_MM1_preemptive(lambdas, mus)[0]"
   ]
  },
  {
   "cell_type": "markdown",
   "metadata": {},
   "source": [
    "### ¿Cuál es el tiempo medio de respuesta de las trabajos de tipo B?"
   ]
  },
  {
   "cell_type": "code",
   "execution_count": 151,
   "metadata": {},
   "outputs": [
    {
     "name": "stdout",
     "output_type": "stream",
     "text": [
      "p is:  [0.43333333 0.33333333]\n",
      "U is:  [0.         0.43333333 0.76666667]\n",
      "X^2 is:  [0.00222222 0.0003858 ]\n",
      "left is:  [0.03333333 0.0245098 ]\n",
      "numerator is:  [0.01444444 0.01907407]\n",
      "denominator is:  [0.56666667 0.13222222]\n",
      "right is:  [0.56666667 0.13222222]\n",
      "R is:  [0.05882353 0.16876751]\n"
     ]
    },
    {
     "data": {
      "text/plain": [
       "0.16876750700280108"
      ]
     },
     "execution_count": 151,
     "metadata": {},
     "output_type": "execute_result"
    }
   ],
   "source": [
    "cal_R_MM1_preemptive(lambdas, mus)[1]"
   ]
  },
  {
   "cell_type": "markdown",
   "metadata": {},
   "source": [
    "### ¿Cuál es el tiempo medio de respuesta total?"
   ]
  },
  {
   "cell_type": "code",
   "execution_count": 152,
   "metadata": {
    "scrolled": true
   },
   "outputs": [
    {
     "name": "stdout",
     "output_type": "stream",
     "text": [
      "weights are : [0.35135135 0.64864865]\n",
      "p is:  [0.43333333 0.33333333]\n",
      "U is:  [0.         0.43333333 0.76666667]\n",
      "X^2 is:  [0.00222222 0.0003858 ]\n",
      "left is:  [0.03333333 0.0245098 ]\n",
      "numerator is:  [0.01444444 0.01907407]\n",
      "denominator is:  [0.56666667 0.13222222]\n",
      "right is:  [0.56666667 0.13222222]\n",
      "R is:  [0.05882353 0.16876751]\n"
     ]
    },
    {
     "data": {
      "text/plain": [
       "0.13013854190324775"
      ]
     },
     "execution_count": 152,
     "metadata": {},
     "output_type": "execute_result"
    }
   ],
   "source": [
    "cal_R_total_MM1_preemptive(lambdas, mus)"
   ]
  },
  {
   "cell_type": "markdown",
   "metadata": {},
   "source": [
    "## Problema 7"
   ]
  },
  {
   "cell_type": "markdown",
   "metadata": {},
   "source": [
    "Un taller de reparación de vehículos con un funcionamiento continuo (24 horas al día) recibe un promedio de 4 vehículos a la hora. Los vehículos que requieren reparaciones de motor, carrocería o ambas. Los vehículos que requieren simultáneamente a ambas reparaciones son enviados primero a reparación de motor. \n",
    "\n",
    "* Los vehículos siguen el siguiente flujo en la empresa: Un clasificador (S1) determina el tipo de avería: motor o carrocería o ambos y envía el vehículo al servicio adecuado. Esta tarea se realiza en un promedio de 6 minutos. Como resultado, se determina que el 10% de los trabajos no son realizables y se descartan; el 35% de los trabajos requieren sólo reparación de carrocería, el 45% sólo de motor y el 10% restante de los dos.\n",
    "\n",
    "* El servicio de reparación de motor (S2) invierte un promedio de 20 minutos en la reparación. Una vez finalizado el trabajo, los vehículos que requieren reparación de carrocería son enviados al sistema S3, mientras que el resto son enviados a un sistema de preparación del vehículos (S5) para devolvérselo a su propietario (lavado, facturación, etc.).\n",
    "\n",
    "* El servicio de reparación de carrocería (S3) requiere un promedio de 23 minutos en la reparación. Al final del proceso, los vehículos son enviados al sistema de secado (S4).\n",
    "\n",
    "* El sistema de secado (S4) requiere un promedio de 11 minutos. Como resultado de este proceso, el 9% de los trabajos son reenviados al sistema de reparación de carrocería, mientras que el resto son enviados al sistema de preparación del vehículo para devolvérselo a su propietario.\n",
    "\n",
    "* El sistema de preparación del vehículo para devolvérselo a su propietario (S5) requiere un promedio de 7 minutos.\n",
    "\n",
    "* Se considera que todos los tiempos de proceso de los sistemas se pueden aproximar a una distribución exponencial. El proceso de llegada se puede considerar de Poisson.\n",
    "\n",
    "Denotamos por $I_i$ la tasa de llegada al servidor i"
   ]
  },
  {
   "cell_type": "code",
   "execution_count": 153,
   "metadata": {},
   "outputs": [
    {
     "name": "stdout",
     "output_type": "stream",
     "text": [
      "4 [0.16666667 0.05       0.04347826 0.09090909 0.14285714]\n"
     ]
    }
   ],
   "source": [
    "lambda_ = 4\n",
    "mus = 1 / np.array([6, 20, 23, 11, 7])\n",
    "q12 = 0.45\n",
    "q13 = 0.35\n",
    "q123 = 0.1\n",
    "q43 = 0.09\n",
    "print(lambda_, mus)"
   ]
  },
  {
   "cell_type": "markdown",
   "metadata": {},
   "source": [
    "![Problema7](problema7.jpg)"
   ]
  },
  {
   "cell_type": "code",
   "execution_count": 154,
   "metadata": {},
   "outputs": [],
   "source": [
    "q23 = q123 / (q12 + q123)\n",
    "q25 = q12 / (q12 + q123)\n",
    "q45 = 1 - q43"
   ]
  },
  {
   "cell_type": "code",
   "execution_count": 155,
   "metadata": {},
   "outputs": [
    {
     "name": "stdout",
     "output_type": "stream",
     "text": [
      "I1=lambda\n",
      "I2= 0.55 *I1\n",
      "I3= 0.35 *I1 +  0.18181818181818182 *I2 +  0.09 *I4\n",
      "I4=I3\n",
      "I5= 0.8181818181818181 *I2 +  0.91 *I4\n",
      "[4.         2.2        1.97802198 1.97802198 3.6       ]\n"
     ]
    }
   ],
   "source": [
    "I1 = lambda_\n",
    "print(\"I1=lambda\")\n",
    "I2 = (q12 + q123) * I1\n",
    "print(\"I2=\", q12+q123, \"*I1\")\n",
    "I3 = (q13 * I1 + q23 * I2) / (1 - q43)\n",
    "print(\"I3=\", q13, \"*I1 + \", q23, \"*I2 + \", q43, \"*I4\")\n",
    "I4 = I3\n",
    "print(\"I4=I3\")\n",
    "I5 = q25 * I2 + q45 * I4\n",
    "print(\"I5=\", q25, \"*I2 + \", q45, \"*I4\")\n",
    "I = np.array([I1, I2, I3, I4, I5])\n",
    "print(I)"
   ]
  },
  {
   "cell_type": "code",
   "execution_count": 156,
   "metadata": {},
   "outputs": [
    {
     "name": "stdout",
     "output_type": "stream",
     "text": [
      "R is:  [10.         75.         95.13636364 17.25862069 12.06896552]\n",
      "R is:  [10.         75.         95.13636364 17.25862069 12.06896552]\n",
      "Total lambda is:  0.06666666666666667\n"
     ]
    },
    {
     "data": {
      "text/plain": [
       "117.69200626959243"
      ]
     },
     "execution_count": 156,
     "metadata": {},
     "output_type": "execute_result"
    }
   ],
   "source": [
    "cal_R_total_queueing_network_MM1(I / 60, mus, np.array([lambda_ / 60]))"
   ]
  },
  {
   "cell_type": "markdown",
   "metadata": {},
   "source": [
    "## Problema 8"
   ]
  },
  {
   "cell_type": "markdown",
   "metadata": {},
   "source": [
    "Una empresa de reparación de aparatos electrónicos recibe un promedio de 17 aparatos por hora y tiene el siguiente esquema de funcionamiento:\n",
    "\n",
    "* Los clientes son atendidos en la recepción por una persona para una inspección básica del aparato y, si procede, tomar nota de los datos y recoger el aparato. Esta operación necesita un tiempo medio de 2.1 minutos. Como resultado, se determina que el 20% tienen daños de software, el 60% de los aparatos tienen daños en el hardware y el 20% restante no son reparables, por lo que son rechazados.\n",
    "\n",
    "* Los aparatos con daño de software son revisados por un experto en este tipo de daños que procede a un examen más detallado del aparato (para lo que necesita, en promedio, 10 minutos) y, con una descripción detallada de la reparación necesaria, pasa el aparato al taller de reparación de software.\n",
    "\n",
    "* Los aparatos con daño de hardware son revisados directamente por otro experto en este tipo de daños que procede a un examen más detallado del aparato (para lo que necesita, en promedio, 6 minutos). El 30% de los aparatos son descartados por irreparables, y, previo aviso al cliente, se destruyen; el 40% son sustituidos por un aparato nuevo, se da el aparato por reparado y se envía al departamento de atención al cliente; el 30% restante son enviados al taller de reparación de hardware.\n",
    "\n",
    "* El taller de software repara un promedio de 10 aparatos por hora y el taller de hardware repara un promedio de 6 aparatos por hora.\n",
    "\n",
    "* Una vez finalizada la reparación de un aparato, es enviado al departamento de atención al cliente.\n",
    "\n",
    "* El departamento de atención al cliente procesa el pago de la reparación y el envío del aparato al cliente. Esta operación requiere un tiempo promedio de 4 minutos.\n",
    "\n",
    "Por tanto, se puede considerar que el sistema tiene seis servidores:\n",
    "\n",
    "* S1 : servicio de recepción, que recibe los aparatos con una tasa λ=17 aparatos por hora y necesita un promedio de 2.1 minutos para hacer una revisión básica.\n",
    "\n",
    "* S2 : servicio de revisión de software, que recibe los aparatos que tienen una avería de software desde el servicio de recepción. Necesita un promedio de 10 minutos para revisar detenidamente cada aparato y lo envía directamente al taller de software.\n",
    "\n",
    "* S3 : servicio de revisión de hardware, que recibe los aparatos que tienen una avería de hadware desde el servicio de recepción. Necesita un promedio de 6 minutos para revisar detenidamente cada aparato y, según la avería, lo envía al taller de hadware, lo sustituye por uno nuevo o lo destruye por irreparable.\n",
    "\n",
    "* S4 : taller de software, que recibe los aparatos del servicio de revisión de software ( S2 ), después de repararlo (con una tasa μ4 =10), envía el aparato al servicio de atención al cliente.\n",
    "\n",
    "* S5 : taller de hadware, que recibe los aparatos del servicio de revisión de hadware ( S2 ), después de repararlo (con una tasa μ5 =6), envía el aparato al servicio de atención al cliente.\n",
    "\n",
    "* S6 : servicio de atención al cliente, que recibe aparatos del servicio de revisión del hadware ( S3 ) y de los dos talleres ( S4 y S5 ). Tramita el pago de la reparación en un promedio de 4 minutos por aparato."
   ]
  },
  {
   "cell_type": "code",
   "execution_count": 157,
   "metadata": {},
   "outputs": [
    {
     "name": "stdout",
     "output_type": "stream",
     "text": [
      "17 [0.47619048 0.1        0.16666667 0.16666667 0.1        0.25      ]\n"
     ]
    }
   ],
   "source": [
    "lambda_ = 17\n",
    "mus = 1 / np.array([2.1, 10, 6, 1/(10/60), 1/(6/60), 4])\n",
    "q12 = 0.2\n",
    "q13 = 0.6\n",
    "q35 = 0.3\n",
    "q36 = 0.4\n",
    "print(lambda_, mus)"
   ]
  },
  {
   "cell_type": "markdown",
   "metadata": {},
   "source": [
    "![Problema8](problema8.jpg)"
   ]
  },
  {
   "cell_type": "code",
   "execution_count": 158,
   "metadata": {},
   "outputs": [
    {
     "name": "stdout",
     "output_type": "stream",
     "text": [
      "I1=lambda\n",
      "I2= 0.2 *I1\n",
      "I3= 0.6 *I1\n",
      "I4=I2\n",
      "I5= 0.3 *I3\n",
      "I6= 0.4 *I3 + I4 + I5\n",
      "[17.    3.4  10.2   3.4   3.06 10.54]\n"
     ]
    }
   ],
   "source": [
    "I1 = lambda_\n",
    "print(\"I1=lambda\")\n",
    "I2 = q12 * I1\n",
    "print(\"I2=\", q12, \"*I1\")\n",
    "I3 = q13 * I1\n",
    "print(\"I3=\", q13, \"*I1\")\n",
    "I4 = I2\n",
    "print(\"I4=I2\")\n",
    "I5 = q35 * I3\n",
    "print(\"I5=\", q35, \"*I3\")\n",
    "I6 = q36 * I3 + I4 + I5\n",
    "print(\"I6=\", q36, \"*I3 + I4 + I5\")\n",
    "I = np.array([I1, I2, I3, I4, I5, I6])\n",
    "print(I)"
   ]
  },
  {
   "cell_type": "code",
   "execution_count": 159,
   "metadata": {
    "scrolled": true
   },
   "outputs": [
    {
     "name": "stdout",
     "output_type": "stream",
     "text": [
      "R is:  [   5.18518519   23.07692308 -300.            9.09090909   20.40816327\n",
      "   13.4529148 ]\n",
      "R is:  [   5.18518519   23.07692308 -300.            9.09090909   20.40816327\n",
      "   13.4529148 ]\n",
      "Total lambda is:  0.2833333333333333\n"
     ]
    },
    {
     "data": {
      "text/plain": [
       "-156.36697181860575"
      ]
     },
     "execution_count": 159,
     "metadata": {},
     "output_type": "execute_result"
    }
   ],
   "source": [
    "cal_R_total_queueing_network_MM1(I / 60, mus, np.array([lambda_]) / 60)"
   ]
  },
  {
   "cell_type": "markdown",
   "metadata": {},
   "source": [
    "# [Prática 2](https://vitaminac.github.io/Caso-De-Estudio-Redes-De-Colas/)"
   ]
  },
  {
   "cell_type": "code",
   "execution_count": 160,
   "metadata": {
    "scrolled": true
   },
   "outputs": [
    {
     "name": "stdout",
     "output_type": "stream",
     "text": [
      "5000 [900. 180.  12. 900.]\n"
     ]
    }
   ],
   "source": [
    "lambda_ = 5000\n",
    "mu1 = 1 / (4 / 60 / 60)\n",
    "mu2 = 3 * 60\n",
    "mu3 = 1 / (5 / 60)\n",
    "mu_H = 15 * 60\n",
    "mus = np.array([mu1, mu2, mu3, mu_H])\n",
    "print(lambda_, mus)"
   ]
  },
  {
   "cell_type": "code",
   "execution_count": 161,
   "metadata": {},
   "outputs": [
    {
     "name": "stdout",
     "output_type": "stream",
     "text": [
      "I in hour is: [5.05050505e+03 7.57575758e+02 1.51515152e+02 4.99700000e+03\n",
      " 3.00000000e+00]\n",
      "T in second is: [7.12800000e-01 4.75200000e+00 2.37600000e+01 7.20432259e-01\n",
      " 1.20000000e+03]\n",
      "X in second:  [  4.  20. 300.   4.]\n"
     ]
    }
   ],
   "source": [
    "I1 = lambda_ / (1 - 0.01)\n",
    "I2 = (0.15 * 0.99 * I1) / (1 - 0.01)\n",
    "I3 = (0.2 * 0.99 * I2) / (1 - 0.01)\n",
    "I_H = 0.85 * 0.99 * I1 + 0.8 * 0.99 * I2 + 0.98 * 0.99 * I3\n",
    "I_P = 0.02 * 0.99 * I3\n",
    "I = np.array([I1, I2, I3, I_H, I_P])\n",
    "print(\"I in hour is:\", I)\n",
    "assert abs(I_H + I_P - 5000) < 0.00001\n",
    "T = (1 / I) * 60 * 60\n",
    "print(\"T in second is:\", T)\n",
    "print(\"X in second: \", 1 / mus * 60 *60)"
   ]
  },
  {
   "cell_type": "markdown",
   "metadata": {},
   "source": [
    "## La capacidades de cada subsistema para que el nivel de uso sea inferior de 0.8"
   ]
  },
  {
   "cell_type": "code",
   "execution_count": 162,
   "metadata": {
    "scrolled": true
   },
   "outputs": [
    {
     "name": "stdout",
     "output_type": "stream",
     "text": [
      "[ 7.01459035  5.26094276 15.78282828  6.94027778]\n",
      "[ 8.  6. 16.  7.]\n"
     ]
    },
    {
     "data": {
      "text/plain": [
       "array([ 8.,  6., 16.,  8.])"
      ]
     },
     "execution_count": 162,
     "metadata": {},
     "output_type": "execute_result"
    }
   ],
   "source": [
    "c = I[:-1] / (0.8 * mus)\n",
    "print(c)\n",
    "c = np.ceil(c)\n",
    "print(c)\n",
    "c[3] = np.ceil(c[3] / 2) * 2\n",
    "c"
   ]
  },
  {
   "cell_type": "code",
   "execution_count": 163,
   "metadata": {},
   "outputs": [
    {
     "name": "stdout",
     "output_type": "stream",
     "text": [
      "p is:  [0.70145903 0.70145903 0.78914141 0.69402778]\n"
     ]
    },
    {
     "data": {
      "text/plain": [
       "array([0.70145903, 0.70145903, 0.78914141, 0.69402778])"
      ]
     },
     "execution_count": 163,
     "metadata": {},
     "output_type": "execute_result"
    }
   ],
   "source": [
    "cal_p(I[:-1],mus,c)"
   ]
  },
  {
   "cell_type": "markdown",
   "metadata": {},
   "source": [
    "### Tiempo medio de inspección total para las maletas."
   ]
  },
  {
   "cell_type": "code",
   "execution_count": 164,
   "metadata": {
    "scrolled": false
   },
   "outputs": [
    {
     "name": "stdout",
     "output_type": "stream",
     "text": [
      "p is:  [0.70145903 0.70145903 0.78914141]\n",
      "p is:  [0.70145903 0.70145903 0.78914141]\n",
      "p0 is:  [3.34060745e-03 1.30843663e-02 2.96894158e-06]\n",
      "[1.49327972e+10 9.91682504e+06 2.25235093e+15] / [2.32864558e+10 1.24748871e+07 2.14330831e+15]\n",
      "Q is:  [0.64126535 0.79494307 1.05087585]\n",
      "W is:  [0.00012697 0.00104932 0.00693578]\n"
     ]
    },
    {
     "data": {
      "text/plain": [
       "17.952316832375416"
      ]
     },
     "execution_count": 164,
     "metadata": {},
     "output_type": "execute_result"
    }
   ],
   "source": [
    "np.sum(I[:3] / lambda_ * cal_R_MMC(I[:3], mus[:3], c[:3])) * 60 * 60"
   ]
  },
  {
   "cell_type": "markdown",
   "metadata": {},
   "source": [
    "### Tiempo medio de espera en las distintas colas de los sistemas de inspección y en el hipódromo o zonas de acumulación."
   ]
  },
  {
   "cell_type": "code",
   "execution_count": 165,
   "metadata": {
    "scrolled": true
   },
   "outputs": [
    {
     "name": "stdout",
     "output_type": "stream",
     "text": [
      "p is:  [0.70145903 0.70145903 0.78914141 0.69402778]\n",
      "p is:  [0.70145903 0.70145903 0.78914141 0.69402778]\n",
      "p0 is:  [3.34060745e-03 1.30843663e-02 2.96894158e-06 3.56858570e-03]\n",
      "[1.49327972e+10 9.91682504e+06 2.25235093e+15 1.44938149e+10] / [2.32864558e+10 1.24748871e+07 2.14330831e+15 2.44601734e+10]\n",
      "Q is:  [0.64126535 0.79494307 1.05087585 0.59254751]\n",
      "W is:  [0.00012697 0.00104932 0.00693578 0.00011858]\n"
     ]
    },
    {
     "data": {
      "text/plain": [
       "array([ 0.45709394,  3.77756948, 24.96881008])"
      ]
     },
     "execution_count": 165,
     "metadata": {},
     "output_type": "execute_result"
    }
   ],
   "source": [
    "cal_W_MMC(I[:-1], mus, c)[:-1] * 60 * 60"
   ]
  },
  {
   "cell_type": "markdown",
   "metadata": {},
   "source": [
    "Para 4 hipódromo"
   ]
  },
  {
   "cell_type": "code",
   "execution_count": 166,
   "metadata": {},
   "outputs": [
    {
     "name": "stdout",
     "output_type": "stream",
     "text": [
      "p is:  0.6940277777777778\n",
      "p is:  [0.69402778]\n",
      "p0 is:  [0.18061818]\n",
      "[391261.43032884] / 303325.5625\n",
      "Q is:  [1.28990589]\n",
      "W is:  [0.00103254]\n"
     ]
    },
    {
     "data": {
      "text/plain": [
       "array([3.71715927])"
      ]
     },
     "execution_count": 166,
     "metadata": {},
     "output_type": "execute_result"
    }
   ],
   "source": [
    "cal_W_MMC(I_H / 4, mu_H, 2) * 60 * 60"
   ]
  },
  {
   "cell_type": "markdown",
   "metadata": {},
   "source": [
    "### Número de maletas presentes en el sistema"
   ]
  },
  {
   "cell_type": "code",
   "execution_count": 167,
   "metadata": {
    "scrolled": true
   },
   "outputs": [
    {
     "name": "stdout",
     "output_type": "stream",
     "text": [
      "p is:  [0.70145903 0.70145903 0.78914141 0.69402778]\n",
      "p is:  [0.70145903 0.70145903 0.78914141 0.69402778]\n",
      "p0 is:  [3.34060745e-03 1.30843663e-02 2.96894158e-06 3.56858570e-03]\n",
      "[1.49327972e+10 9.91682504e+06 2.25235093e+15 1.44938149e+10] / [2.32864558e+10 1.24748871e+07 2.14330831e+15 2.44601734e+10]\n",
      "Q is:  [0.64126535 0.79494307 1.05087585 0.59254751]\n",
      "p is:  0.6940277777777778\n",
      "p is:  [0.69402778]\n",
      "p0 is:  [0.18061818]\n",
      "[391261.43032884] / 303325.5625\n",
      "Q is:  [1.28990589]\n",
      "[0.64126535 0.79494307 1.05087585 5.15962357]\n",
      "[ 5.61167228  4.20875421 12.62626263  5.55222222]\n",
      "[ 6.25293763  5.00369728 13.67713847 10.71184579]\n"
     ]
    },
    {
     "data": {
      "text/plain": [
       "35.64561916939008"
      ]
     },
     "execution_count": 167,
     "metadata": {},
     "output_type": "execute_result"
    }
   ],
   "source": [
    "Q = np.concatenate((cal_Q_MMC(I[:-1], mus, c)[:-1], cal_Q_MMC(I[3] / 4, mus[3], 2) * 4), axis=None)\n",
    "print(Q)\n",
    "Q_X = (1 / mus) * I[:-1]\n",
    "print(Q_X)\n",
    "J =  Q + Q_X\n",
    "print(J)\n",
    "np.sum(J)"
   ]
  },
  {
   "cell_type": "markdown",
   "metadata": {},
   "source": [
    "Para el modelo 2"
   ]
  },
  {
   "cell_type": "code",
   "execution_count": 168,
   "metadata": {},
   "outputs": [
    {
     "name": "stdout",
     "output_type": "stream",
     "text": [
      "p is:  [0.84175084 0.84175084 0.9469697  0.69402778]\n",
      "p is:  [0.84175084 0.84175084 0.9469697  0.69402778]\n",
      "p0 is:  [8.33893634e-04 4.15926313e-03 1.10441312e-07 3.56858570e-03]\n",
      "[1.33565748e+10 7.84409026e+06 1.29087637e+15 1.44938149e+10] / [4.54376492e+09 2.43415978e+06 9.41429481e+13 2.44601734e+10]\n",
      "Q is:  [ 2.93953914  3.22250426 13.71187541  0.59254751]\n",
      "p is:  0.6940277777777778\n",
      "p is:  [0.69402778]\n",
      "p0 is:  [0.18061818]\n",
      "[391261.43032884] / 303325.5625\n",
      "Q is:  [1.28990589]\n",
      "[ 2.93953914  3.22250426 13.71187541  5.15962357]\n",
      "[ 6.73400673  5.05050505 15.15151515  5.55222222]\n",
      "[ 9.67354588  8.27300931 28.86339056 10.71184579]\n"
     ]
    },
    {
     "data": {
      "text/plain": [
       "57.52179153613749"
      ]
     },
     "execution_count": 168,
     "metadata": {},
     "output_type": "execute_result"
    }
   ],
   "source": [
    "mus[:3] /= (0.2*2+0.8)\n",
    "Q = np.concatenate((cal_Q_MMC(I[:-1], mus, c)[:-1], cal_Q_MMC(I[3] / 4, mus[3], 2) * 4), axis=None)\n",
    "print(Q)\n",
    "Q_X = (1 / mus) * I[:-1]\n",
    "print(Q_X)\n",
    "J =  Q + Q_X\n",
    "print(J)\n",
    "np.sum(J)"
   ]
  },
  {
   "cell_type": "code",
   "execution_count": 169,
   "metadata": {},
   "outputs": [
    {
     "name": "stdout",
     "output_type": "stream",
     "text": [
      "p is:  [0.84175084 0.84175084 0.9469697 ]\n",
      "p is:  [0.84175084 0.84175084 0.9469697 ]\n",
      "p0 is:  [8.33893634e-04 4.15926313e-03 1.10441312e-07]\n",
      "[1.33565748e+10 7.84409026e+06 1.29087637e+15] / [4.54376492e+09 2.43415978e+06 9.41429481e+13]\n",
      "Q is:  [ 2.93953914  3.22250426 13.71187541]\n",
      "W is:  [0.00058203 0.00425371 0.09049838]\n"
     ]
    },
    {
     "data": {
      "text/plain": [
       "33.703160936433555"
      ]
     },
     "execution_count": 169,
     "metadata": {},
     "output_type": "execute_result"
    }
   ],
   "source": [
    "np.sum(I[:3] / lambda_ * cal_R_MMC(I[:3], mus[:3], c[:3])) * 60 * 60"
   ]
  },
  {
   "cell_type": "markdown",
   "metadata": {},
   "source": [
    "# Evaluación"
   ]
  },
  {
   "cell_type": "markdown",
   "metadata": {},
   "source": [
    "Una gasolinera tiene cinco surtidores situados en paralelo. A la gasolinera llega un promedio de un coche cada minuto que se colocan de forma aleatoria en alguno de los cuatro surtidores, si el surtidor elegido está ocupado, se queda esperando y la gasolinera tiene suficiente espacio para albergar tantos vehículos en espera como sea necesario. El tiempo necesario por cada vehículo para echar combustible y pagar se puede aproxumar por una variable aleatoria con distribución exponencial de media 3.5 minutos(el vehículo se queda ocupando el surtidor hasta que el conductor ha pagado)."
   ]
  },
  {
   "cell_type": "markdown",
   "metadata": {},
   "source": [
    "Qué modelo se ajusta a este sistema?"
   ]
  },
  {
   "cell_type": "markdown",
   "metadata": {},
   "source": [
    "5 M/M/1"
   ]
  },
  {
   "cell_type": "code",
   "execution_count": 170,
   "metadata": {},
   "outputs": [],
   "source": [
    "lambda_i = 1 / 5\n",
    "X_i = 3.5"
   ]
  },
  {
   "cell_type": "markdown",
   "metadata": {},
   "source": [
    "Cuál es el tiempo medio que está un vehículo en la gasolinera?"
   ]
  },
  {
   "cell_type": "code",
   "execution_count": 171,
   "metadata": {},
   "outputs": [
    {
     "name": "stdout",
     "output_type": "stream",
     "text": [
      "p is:  0.7000000000000001\n",
      "R is:  11.66666666666667\n"
     ]
    }
   ],
   "source": [
    "R = cal_R_MM1(lambda_i, 1/X_i)"
   ]
  },
  {
   "cell_type": "markdown",
   "metadata": {},
   "source": [
    "Que porcentaje de vehículo se encuentran un surtidor vacío?"
   ]
  },
  {
   "cell_type": "code",
   "execution_count": 172,
   "metadata": {},
   "outputs": [
    {
     "name": "stdout",
     "output_type": "stream",
     "text": [
      "p is:  0.7000000000000001\n",
      "p_ 0  is:  0.29999999999999993\n"
     ]
    },
    {
     "data": {
      "text/plain": [
       "0.29999999999999993"
      ]
     },
     "execution_count": 172,
     "metadata": {},
     "output_type": "execute_result"
    }
   ],
   "source": [
    "cal_pk_MM1(lambda_i, 1/X_i, 0)"
   ]
  },
  {
   "cell_type": "markdown",
   "metadata": {},
   "source": [
    "La gerente de la gasolinera considera que el tiempo de esperas es muy alto y ha reorganizado la misma: dos surtidores son de utopago, que incorporan el pago con móvil, el 25% de los clientes optan por este sistema, que suponen que el tiempo de servicio sigue teniendo una distribucion exponencial, pero de media solo 3 minutos."
   ]
  },
  {
   "cell_type": "markdown",
   "metadata": {},
   "source": [
    "Qué modelo se ajusta a este sistema?"
   ]
  },
  {
   "cell_type": "markdown",
   "metadata": {},
   "source": [
    "M/M/2"
   ]
  },
  {
   "cell_type": "code",
   "execution_count": 173,
   "metadata": {},
   "outputs": [],
   "source": [
    "lambda_ = 0.25\n",
    "X = 3\n",
    "c = 2"
   ]
  },
  {
   "cell_type": "markdown",
   "metadata": {},
   "source": [
    "Cual es el tiempo medio que está un vehículo en la gasolinera si opta por uno de estos surtidores?"
   ]
  },
  {
   "cell_type": "code",
   "execution_count": 174,
   "metadata": {},
   "outputs": [
    {
     "name": "stdout",
     "output_type": "stream",
     "text": [
      "p is:  0.375\n",
      "p is:  [0.375]\n",
      "p0 is:  [0.45454545]\n",
      "[0.02130682] / 0.17361111111111108\n",
      "Q is:  [0.12272727]\n",
      "W is:  [0.49090909]\n"
     ]
    },
    {
     "data": {
      "text/plain": [
       "array([3.49090909])"
      ]
     },
     "execution_count": 174,
     "metadata": {},
     "output_type": "execute_result"
    }
   ],
   "source": [
    "cal_R_MMC(lambda_, 1/X, c)"
   ]
  },
  {
   "cell_type": "markdown",
   "metadata": {},
   "source": [
    "El resto de los vehículos optan por los surtidores tradicionales, pero ahora deben abandonar el surtidor antes de pagar y dirigirse a una caja única para los tres surtidores (con una sola cola con capacidad suficiente para que se pueda suponer ilimitada).El tiempo de servicio de combustible sigue teniendo una distribución exponencial, pero de media solo 2.5 minutos, mientra que el tiempo de pago es de 30 segundos en todos los casos."
   ]
  },
  {
   "cell_type": "markdown",
   "metadata": {},
   "source": [
    "Qué modelo se ajusta a este sistema?"
   ]
  },
  {
   "cell_type": "markdown",
   "metadata": {},
   "source": [
    "![Surtidores](./surtidores.jpg)"
   ]
  },
  {
   "cell_type": "code",
   "execution_count": 175,
   "metadata": {},
   "outputs": [],
   "source": [
    "lambda1 = 0.75\n",
    "X1 = 2.5\n",
    "c = 3\n",
    "\n",
    "lambda2 = 0.75\n",
    "X2 = 0.5\n",
    "CX2 = 0"
   ]
  },
  {
   "cell_type": "markdown",
   "metadata": {},
   "source": [
    "Cuál es el tiempo medio que está un vehículo en la gasolinera si opta por uno de estos surtidores?"
   ]
  },
  {
   "cell_type": "markdown",
   "metadata": {},
   "source": [
    "0.625 / (1 - 0.625) / 0.25"
   ]
  },
  {
   "cell_type": "code",
   "execution_count": 176,
   "metadata": {
    "scrolled": false
   },
   "outputs": [
    {
     "name": "stdout",
     "output_type": "stream",
     "text": [
      "p is:  0.625\n",
      "p is:  [0.625]\n",
      "p0 is:  [0.1322314]\n",
      "[0.26149277] / 0.4050000000000003\n",
      "Q is:  [0.64566116]\n",
      "W is:  [0.86088154]\n",
      "[3.36088154]\n"
     ]
    }
   ],
   "source": [
    "R1 = cal_R_MMC(lambda1, 1/X1, c)\n",
    "print(R1)"
   ]
  },
  {
   "cell_type": "code",
   "execution_count": 177,
   "metadata": {
    "scrolled": true
   },
   "outputs": [
    {
     "name": "stdout",
     "output_type": "stream",
     "text": [
      "p is:  0.375\n",
      "W is:  0.15\n"
     ]
    }
   ],
   "source": [
    "R2 = cal_W_MG1(lambda2, 1/X2, 0) + X2"
   ]
  },
  {
   "cell_type": "code",
   "execution_count": 178,
   "metadata": {},
   "outputs": [
    {
     "data": {
      "text/plain": [
       "array([4.01088154])"
      ]
     },
     "execution_count": 178,
     "metadata": {},
     "output_type": "execute_result"
    }
   ],
   "source": [
    "R1 + R2"
   ]
  },
  {
   "cell_type": "markdown",
   "metadata": {},
   "source": [
    "Qué porcentaje de estos vehículos se encuentran un surtidor vacío?"
   ]
  },
  {
   "cell_type": "code",
   "execution_count": 179,
   "metadata": {
    "scrolled": false
   },
   "outputs": [
    {
     "name": "stdout",
     "output_type": "stream",
     "text": [
      "p is:  [0.625]\n",
      "p0 is:  [0.1322314]\n"
     ]
    },
    {
     "data": {
      "text/plain": [
       "array([0.1322314])"
      ]
     },
     "execution_count": 179,
     "metadata": {},
     "output_type": "execute_result"
    }
   ],
   "source": [
    "cal_p0_MMC_without_lost(lambda1, 1/X1, c)"
   ]
  },
  {
   "cell_type": "markdown",
   "metadata": {},
   "source": [
    "La gerenta de una gasolinera ha decidido reestructurar completamente las instalaciones, para incluir una línea de autolavado y un supermercado autoservicio con una caja. Los cinco surtidores están divididos en dos grupos.\n",
    "\n",
    "El primer grupo, por el que optan al 25% de los clientes, tiene dos surtidores, una cola única para los dos y es de autopago con tarjeta de crédito (los clientes pagan una vez han colocado el vehículo y antes de reportar). el tiempo medio de servicio es de 3 minuto.\n",
    "\n",
    "El segundo grupo, con tres surtidores y una cola única para los tres, permite el pago por móvil o el pago en una caja a la que acceden con el vehículo una vez finalizada el repostaje (con una cola común para los vehículos que llegan desde los tres surtidores). El 25% de los clientes de estos servidores se decantan por pagar con el móvil no deben psar por esta caja. En este grupo de servidores el tiempo medio de repostaje es de 2.5 minutos y el pago en caja supone un promedio de 30 segundos(el pago por móvil no supone incremento en el tiempo repostaje).\n",
    "\n",
    "Una vez realizado y pagado el repostaje, el 10% de los clientes (sea cual sea su método de pago) optan por acudir al centro de autolavado (el programa de lavado dura 5 minutos). Además, la línea de autolavado recibe un promedio de 2 clientes por hora que pasan directamente al lavado de coches, sin repostar previamente. El 80& de los clientes que pasan por el autolavado abandonan las instalaciones con el coche reluciente al finalizar el lavado, peroel resto pasan al autoservicio. Del resto de los vehículos (el 90% de los que repostan en la gasolinera y no han pasado por el autolavado), la mitad van al al autoservicio y la mitad abandonan la instalación. El autoservicio es capaz de atender, en promedio, a 80 clientes a la hora y recibe un promedio de 10 clientes por hora directamente del exterior (que no han pasado por el repostaje ni por la línea de autolavado) y que, como el resto, abandonan las instalaciónes al finalizar su visita al autoservicio.\n",
    "\n",
    "La gasolinera recibe un vehículo por mínuto y se considera que el tiempo entre dos llegadas puede aproximarse por una distribución exponencial. Todos los sistemas tiene una cola de espera suficientemente grande como para que su capacidad se considere ilimitada. El tiempo de servicio de todos los sistemas (excepto el del autolavado, que es considera fijo), se pueden considerar ajustados a distribuciones exponenciales."
   ]
  },
  {
   "cell_type": "markdown",
   "metadata": {},
   "source": [
    "Representar gráficamente el esquema de la red de colas."
   ]
  },
  {
   "cell_type": "markdown",
   "metadata": {},
   "source": [
    "![Surtidores Reestructurado](./surtidores-reestructurado.jpg)"
   ]
  },
  {
   "cell_type": "code",
   "execution_count": 180,
   "metadata": {},
   "outputs": [],
   "source": [
    "lambda_ = 1\n",
    "lambda_lavado = 2/60\n",
    "lambda_autoservicio = 10/60\n",
    "I1 = 0.25 * lambda_\n",
    "I2 = 0.75 * lambda_\n",
    "I3 = 0.75 * 0.75 * lambda_\n",
    "I4 = 0.1 * lambda_ + lambda_lavado\n",
    "I5 = 0.9 * 0.5 * lambda_ + lambda_autoservicio"
   ]
  },
  {
   "cell_type": "markdown",
   "metadata": {},
   "source": [
    "Revolver las ecuaciones de tráfico"
   ]
  },
  {
   "cell_type": "code",
   "execution_count": 181,
   "metadata": {
    "scrolled": false
   },
   "outputs": [
    {
     "name": "stdout",
     "output_type": "stream",
     "text": [
      "[0.25, 0.75, 0.5625, 0.13333333333333333, 0.6166666666666667]\n"
     ]
    }
   ],
   "source": [
    "I = [I1, I2, I3, I4, I5]\n",
    "print(I)"
   ]
  },
  {
   "cell_type": "markdown",
   "metadata": {},
   "source": [
    "Calcular el tiempo medio que cada vehículo está en cada uno de los elementos de la gasolinera."
   ]
  },
  {
   "cell_type": "code",
   "execution_count": 182,
   "metadata": {},
   "outputs": [],
   "source": [
    "mu1 = 1/3\n",
    "mu2 = 1/2.5\n",
    "mu3 = 1/0.5\n",
    "mu4 = 1/5\n",
    "mu5 = 80/60\n",
    "mus = [mu1, mu2, mu3, mu4, mu5]"
   ]
  },
  {
   "cell_type": "code",
   "execution_count": 183,
   "metadata": {},
   "outputs": [
    {
     "name": "stdout",
     "output_type": "stream",
     "text": [
      "p is:  0.375\n",
      "p is:  [0.375]\n",
      "p0 is:  [0.45454545]\n",
      "[0.02130682] / 0.17361111111111108\n",
      "Q is:  [0.12272727]\n",
      "W is:  [0.49090909]\n",
      "p is:  0.625\n",
      "p is:  [0.625]\n",
      "p0 is:  [0.1322314]\n",
      "[0.26149277] / 0.4050000000000003\n",
      "Q is:  [0.64566116]\n",
      "W is:  [0.86088154]\n",
      "p is:  0.28125\n",
      "R is:  0.6956521739130435\n",
      "p is:  0.6666666666666666\n",
      "R is:  14.999999999999996\n",
      "p is:  0.4625\n",
      "R is:  1.3953488372093026\n",
      "[3.49090909] [3.36088154] 0.6956521739130435 14.999999999999996 1.3953488372093026\n"
     ]
    }
   ],
   "source": [
    "R1 = cal_R_MMC(I1, mu1, 2)\n",
    "R2 = cal_R_MMC(I2, mu2, 3)\n",
    "R3 = cal_R_MM1(I3, mu3)\n",
    "R4 = cal_R_MM1(I4, mu4)\n",
    "R5 = cal_R_MM1(I5, mu5)\n",
    "print(R1, R2, R3, R4, R5)"
   ]
  },
  {
   "cell_type": "markdown",
   "metadata": {},
   "source": [
    "Calcular el tiempo medio que cada vehículo está en la gasolinera"
   ]
  },
  {
   "cell_type": "code",
   "execution_count": 184,
   "metadata": {
    "scrolled": true
   },
   "outputs": [
    {
     "name": "stdout",
     "output_type": "stream",
     "text": [
      "Total lambda is:  1.2000000000000002\n"
     ]
    },
    {
     "data": {
      "text/plain": [
       "array([5.53763158])"
      ]
     },
     "execution_count": 184,
     "metadata": {},
     "output_type": "execute_result"
    }
   ],
   "source": [
    "cal_R_total_queueing_network(I, [R1, R2, R3, R4, R5], [lambda_, lambda_lavado, lambda_autoservicio])"
   ]
  },
  {
   "cell_type": "code",
   "execution_count": 185,
   "metadata": {},
   "outputs": [
    {
     "data": {
      "text/plain": [
       "5.536263083333334"
      ]
     },
     "execution_count": 185,
     "metadata": {},
     "output_type": "execute_result"
    }
   ],
   "source": [
    "(0.25 * 3.49  + 0.75 * 3.36 + 0.5625 * 0.6956 + 0.1333 * 15 + 0.61666 * 1.395) / 1.2"
   ]
  },
  {
   "cell_type": "code",
   "execution_count": 186,
   "metadata": {},
   "outputs": [
    {
     "data": {
      "text/plain": [
       "1.3952190493907546"
      ]
     },
     "execution_count": 186,
     "metadata": {},
     "output_type": "execute_result"
    }
   ],
   "source": [
    "1 / (80/60 - 0.6166)"
   ]
  },
  {
   "cell_type": "markdown",
   "metadata": {},
   "source": [
    "Una centralita de venta de entradas por teléfono está preparada atender una llamada, con la posibilidad de mantener un máximo de tres llamadas en espera. Si cuando se recibe una llamada, ya haya una llamada en marcha y tres esperando, la centralita emite la señal de línea ocupada. la llamada se pierde y el cliente se va a la competencia. Las llamadas se producen según un proceso de Poisson con una tasa de una llamada una cada 2 minutos y el tiempo medio de servicio es de 1 minuto."
   ]
  },
  {
   "cell_type": "markdown",
   "metadata": {},
   "source": [
    "A qué tipo de modelo se adapta esta situación?"
   ]
  },
  {
   "cell_type": "markdown",
   "metadata": {},
   "source": [
    "M/M/1/4"
   ]
  },
  {
   "cell_type": "markdown",
   "metadata": {},
   "source": [
    "Determinar la proporción de tiempo que la centralita está saturada?"
   ]
  },
  {
   "cell_type": "code",
   "execution_count": 187,
   "metadata": {},
   "outputs": [],
   "source": [
    "lambda_ = 1 / 2\n",
    "X = 1\n",
    "m = 4"
   ]
  },
  {
   "cell_type": "code",
   "execution_count": 188,
   "metadata": {
    "scrolled": true
   },
   "outputs": [
    {
     "name": "stdout",
     "output_type": "stream",
     "text": [
      "p is:  0.5\n",
      "p_ 4  is: 0.03225806451612903\n"
     ]
    },
    {
     "data": {
      "text/plain": [
       "0.03225806451612903"
      ]
     },
     "execution_count": 188,
     "metadata": {},
     "output_type": "execute_result"
    }
   ],
   "source": [
    "cal_MM1m_loss_probability(lambda_, 1/X, m)"
   ]
  },
  {
   "cell_type": "markdown",
   "metadata": {},
   "source": [
    "Se puede reducir el tiempo de servicio, hasta dejarlo en una media de 50 segundos o aumentar la capacidad del sistema para que admita cuatro llamadas en espera. Qué opción proporciona una mejor tasa efectiva de llegadas?"
   ]
  },
  {
   "cell_type": "code",
   "execution_count": 189,
   "metadata": {},
   "outputs": [
    {
     "name": "stdout",
     "output_type": "stream",
     "text": [
      "p is:  0.4166666666666667\n",
      "p_ 4  is: 0.017805760519643315\n"
     ]
    },
    {
     "data": {
      "text/plain": [
       "0.49109711974017833"
      ]
     },
     "execution_count": 189,
     "metadata": {},
     "output_type": "execute_result"
    }
   ],
   "source": [
    "cal_efective_rate(lambda_, cal_MM1m_loss_probability(lambda_, 6/5, m))"
   ]
  },
  {
   "cell_type": "code",
   "execution_count": 190,
   "metadata": {},
   "outputs": [
    {
     "name": "stdout",
     "output_type": "stream",
     "text": [
      "p is:  0.5\n",
      "p_ 5  is: 0.015873015873015872\n"
     ]
    },
    {
     "data": {
      "text/plain": [
       "0.4920634920634921"
      ]
     },
     "execution_count": 190,
     "metadata": {},
     "output_type": "execute_result"
    }
   ],
   "source": [
    "cal_efective_rate(lambda_, cal_MM1m_loss_probability(lambda_, X, 5))"
   ]
  },
  {
   "cell_type": "markdown",
   "metadata": {},
   "source": [
    "es mejor aumentar la capacidad de la cola a 4"
   ]
  },
  {
   "cell_type": "markdown",
   "metadata": {},
   "source": [
    "Una empresa recibe documentos de dos tipos, 1 y 2. Los documentos de tipo 1 deben pasar por el OCR número 1, mientras que los de tipo 2 pasan por el OCR 2. Como resultado de la lectura por el correspondiente OCR, cada documento puede: \n",
    "\n",
    "a) ser rechazado (si la lectura presentó ligeros errores) y sale del sistema, \n",
    "\n",
    "b) pasar a grabación manual (si la lectura fue imposible)\n",
    "\n",
    "c) pasar directamente al proceso de almacenamiento (distinto para cada tipo de documento). \n",
    "\n",
    "Si un documento pasa por grabación manual, después pasa a cualquiera de los dos procesos de almacenamiento anteriores con la misma probabilidad. "
   ]
  },
  {
   "cell_type": "markdown",
   "metadata": {},
   "source": [
    "![OCR documento](./documento.jpg)"
   ]
  },
  {
   "cell_type": "code",
   "execution_count": 191,
   "metadata": {},
   "outputs": [],
   "source": [
    "lambda1 = 990\n",
    "lambda2 = 570\n",
    "mu = np.array([1300, 800, 300, 1100, 750])\n",
    "q13 = 0.15\n",
    "q23 = 0.15\n",
    "q14 = 0.8\n",
    "q25 = 0.75\n",
    "q34 = 0.5\n",
    "q35 = 0.5"
   ]
  },
  {
   "cell_type": "markdown",
   "metadata": {},
   "source": [
    "Plantear y resolver las ecuaciones de tráfico."
   ]
  },
  {
   "cell_type": "code",
   "execution_count": 192,
   "metadata": {},
   "outputs": [
    {
     "name": "stdout",
     "output_type": "stream",
     "text": [
      "[990.  570.  234.  909.  544.5]\n"
     ]
    }
   ],
   "source": [
    "I1 = lambda1\n",
    "I2 = lambda2\n",
    "I3 = q13 * I1 + q23 * I2\n",
    "I4 = q14 * I1 + q34 * I3\n",
    "I5 = q25 * I2 + q35 * I3\n",
    "I = np.array([I1, I2, I3, I4, I5])\n",
    "print(I)"
   ]
  },
  {
   "cell_type": "markdown",
   "metadata": {},
   "source": [
    "Calcular el tiempo medio de respuesta de un trabajo, independiente del tipo."
   ]
  },
  {
   "cell_type": "code",
   "execution_count": 193,
   "metadata": {},
   "outputs": [
    {
     "name": "stdout",
     "output_type": "stream",
     "text": [
      "R is:  [0.00322581 0.00434783 0.01515152 0.0052356  0.00486618]\n",
      "R is:  [0.00322581 0.00434783 0.01515152 0.0052356  0.00486618]\n",
      "Total lambda is:  1560\n"
     ]
    },
    {
     "data": {
      "text/plain": [
       "0.6394638900876081"
      ]
     },
     "execution_count": 193,
     "metadata": {},
     "output_type": "execute_result"
    }
   ],
   "source": [
    "cal_R_total_queueing_network_MM1(I, mu, np.array([lambda1, lambda2])) * 60"
   ]
  },
  {
   "cell_type": "markdown",
   "metadata": {},
   "source": [
    "Calcular el tiempo medio de respuesta de cada tipo de trabajo si se sustituyen los dos OCR por uno nuevo que es capaz de tratar 1700 documentos a la hora (en el que el 90% de los documentos son correctos y el 10% restante la grabación manual) y se sustituyen los dos dispositivos de almacenamiento por uno nuevo capaz de almacenar 2000 documentos por hora. Disminuye el tiempo medio de respuesta global?"
   ]
  },
  {
   "cell_type": "code",
   "execution_count": 194,
   "metadata": {},
   "outputs": [],
   "source": [
    "I1 = lambda1 + lambda2\n",
    "I2 = 0.1 * I1\n",
    "I3 = I1 / 2"
   ]
  },
  {
   "cell_type": "code",
   "execution_count": 195,
   "metadata": {},
   "outputs": [],
   "source": [
    "mu1 = 1700\n",
    "mu2 = 300\n",
    "mu3 = 2000"
   ]
  },
  {
   "cell_type": "code",
   "execution_count": 196,
   "metadata": {},
   "outputs": [
    {
     "name": "stdout",
     "output_type": "stream",
     "text": [
      "R is:  [0.00714286 0.00694444 0.00081967]\n",
      "R is:  [0.00714286 0.00694444 0.00081967]\n",
      "Total lambda is:  1560\n"
     ]
    },
    {
     "data": {
      "text/plain": [
       "0.4948282591725215"
      ]
     },
     "execution_count": 196,
     "metadata": {},
     "output_type": "execute_result"
    }
   ],
   "source": [
    "cal_R_total_queueing_network_MM1(np.array([I1, I2, I3]), np.array([mu1, mu2, mu3]), np.array([lambda1, lambda2])) * 60"
   ]
  },
  {
   "cell_type": "code",
   "execution_count": null,
   "metadata": {},
   "outputs": [],
   "source": []
  }
 ],
 "metadata": {
  "kernelspec": {
   "display_name": "Python 3",
   "language": "python",
   "name": "python3"
  },
  "language_info": {
   "codemirror_mode": {
    "name": "ipython",
    "version": 3
   },
   "file_extension": ".py",
   "mimetype": "text/x-python",
   "name": "python",
   "nbconvert_exporter": "python",
   "pygments_lexer": "ipython3",
   "version": "3.7.3"
  }
 },
 "nbformat": 4,
 "nbformat_minor": 2
}

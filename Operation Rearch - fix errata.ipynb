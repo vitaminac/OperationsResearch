{
 "cells": [
  {
   "cell_type": "markdown",
   "metadata": {
    "collapsed": true
   },
   "source": [
    "# Linear Programming"
   ]
  },
  {
   "cell_type": "markdown",
   "metadata": {},
   "source": [
    "**LP** (Linear Programming) is a mathematical method for the optimization of a linear objective function subject to linear equality and linear inequality constraints. Its feasible region is a convex polytope. Its objective function is a real-valued affine function defined on this polyhedron."
   ]
  },
  {
   "cell_type": "markdown",
   "metadata": {},
   "source": [
    "$$\n",
    "\\begin{equation}\n",
    "\\begin{split}\n",
    "& \\max_{x} &&\\textbf{c}^T\\textbf{x} &\\text{(Objective function)}\\\\\n",
    "& \\textrm{s.t.} &A\\textbf{x} & \\leq \\textbf{b} \\Leftrightarrow A\\textbf{x} - \\textbf{b} \\leq 0 \\quad &\\text{(Problem constraints)}\\\\\n",
    "& &\\textbf{x} & \\geq 0 \\quad &\\text{(Non-negative variables)}\\\\\n",
    "\\end{split}\n",
    "\\end{equation}\n",
    "$$"
   ]
  },
  {
   "cell_type": "markdown",
   "metadata": {},
   "source": [
    "where $\\textbf{x}$ represents the _vector of variables_, $\\textbf{c}$ and $\\textbf{b}$ are _vectors of coefficients_."
   ]
  },
  {
   "cell_type": "markdown",
   "metadata": {},
   "source": [
    "### Augmented form"
   ]
  },
  {
   "cell_type": "markdown",
   "metadata": {},
   "source": [
    "$$\n",
    "\\begin{bmatrix}\n",
    "  1 & -\\textbf{c}^T & 0 \\\\ \n",
    "  0 & \\textbf{A} & \\textbf{I} \\\\\n",
    "\\end{bmatrix}\n",
    "\\begin{bmatrix}\n",
    "  z \\\\\n",
    "  \\textbf{x} \\\\\n",
    "  \\textbf{s} \\\\\n",
    "\\end{bmatrix}\n",
    "=\n",
    "\\begin{bmatrix}\n",
    "  0 \\\\ \n",
    "  \\textbf{b}\n",
    "\\end{bmatrix}\n",
    "\\\\\n",
    "\\textbf{x} \\geq 0, \\textbf{s} \\geq 0\n",
    "$$"
   ]
  },
  {
   "cell_type": "markdown",
   "metadata": {},
   "source": [
    "## Duality"
   ]
  },
  {
   "cell_type": "markdown",
   "metadata": {},
   "source": [
    "Every linear programming problem, referred to as a _primal problem_, can be converted into a _dual problem_, which provides an upper bound to the optimal value of the primal problem. we can rewrite the above equaltion in an equivalent way as"
   ]
  },
  {
   "cell_type": "markdown",
   "metadata": {},
   "source": [
    "$$\n",
    "\\begin{equation}\n",
    "\\begin{split}\n",
    "& \\min_{x} &&-\\textbf{c}^T\\textbf{x}\\\\\n",
    "& \\textrm{s.t.} &A\\textbf{x} - \\textbf{b} & \\leq 0\\\\\n",
    "& &\\textbf{x} & \\geq 0\\\\\n",
    "\\end{split}\n",
    "\\end{equation}\n",
    "$$"
   ]
  },
  {
   "cell_type": "markdown",
   "metadata": {},
   "source": [
    "Given the following formulations"
   ]
  },
  {
   "cell_type": "markdown",
   "metadata": {},
   "source": [
    "$$\n",
    "\\begin{equation}\n",
    "\\begin{split}\n",
    "f(\\textbf{x}) & = -\\textbf{c}^T\\textbf{x}\\\\\n",
    "g(\\textbf{x}) & = A\\textbf{x} - \\textbf{b} \\leq 0\\\\\n",
    "\\mathcal{L}(\\textbf{x}, \\lambda, \\textbf{v}) &= f(\\textbf{x}) + \\lambda h(\\textbf{x}) + \\textbf{v}^{T}g(\\textbf{x})\\\\\n",
    "& = -\\textbf{c}^T\\textbf{x} + \\textbf{v}^{T}(A\\textbf{x} - \\textbf{b})\\\\\n",
    "& = (-\\textbf{c}^T + \\textbf{v}^TA)\\textbf{x} - \\textbf{v}^T\\textbf{b}\\\\\n",
    "\\theta_{\\mathcal{P}}(\\textbf{x}) &= \\max_{\\lambda, \\textbf{v}; \\textbf{v}_i \\geq 0} \\mathcal{L}(\\textbf{x}, \\lambda, \\textbf{v}) \\quad \\text{if }A\\textbf{x} > 0, \\text{then there is not a finite solution} \\to \\infty\\\\\n",
    "\\theta_{\\mathcal{D}}(\\lambda, \\textbf{v}) &= \\min_{\\textbf{x};\\textbf{x} \\geq 0} \\mathcal{L}(\\textbf{x}, \\lambda, \\textbf{v}) \\quad \\text{if }A^T\\textbf{v} < \\textbf{c}, \\text{then there is not a finite solution} \\to -\\infty\\\\\n",
    "\\mathcal{d}^* = \\max_{\\lambda, \\textbf{v}; \\textbf{v}_i \\geq 0}{\\theta_{\\mathcal{D}}} &\\leq \\min_{\\textbf{x};\\textbf{x} \\geq 0}{\\theta_{\\mathcal{P}}(\\textbf{x})}= \\mathcal{p}^*\n",
    "\\end{split}\n",
    "\\end{equation}\n",
    "$$"
   ]
  },
  {
   "cell_type": "markdown",
   "metadata": {},
   "source": [
    "$g_{i}$ and $h_{j}$ are affine functions, then by KKT condition, there must exist $\\textbf{x}^*$, $\\lambda^*$, $\\mu^*$ so that $x^*$ is the solution to the primal problem, $\\lambda^*$, $\\mu^*$ are the solution to the dual problem, and moreover $\\mathcal{p}^* = \\mathcal{d}^* = \\mathcal{L}(\\textbf{x}^*, \\lambda^*, \\mu^*)$"
   ]
  },
  {
   "cell_type": "markdown",
   "metadata": {},
   "source": [
    "$$\n",
    "\\begin{equation}\n",
    "\\begin{split}\n",
    "\\nabla_{\\textbf{x}} \\mathcal{L}(\\textbf{x}^*, \\lambda^*, \\textbf{v}^*) &= \\vec{0} = -\\textbf{c} + A^T\\textbf{v}\\\\\n",
    "\\nabla_{\\lambda} \\mathcal{L}(\\textbf{x}^*, \\lambda^*, \\textbf{v}^*) &= \\vec{0}\\\\\n",
    "\\textbf{v}^* \\circ g(\\textbf{x}^*) &= \\vec{0}\\\\\n",
    "g_i(\\textbf{x}^*) &\\leq 0, i=1, \\dots, k\\\\\n",
    "\\textbf{v}^*_i &\\geq 0, i=1, \\dots, k\\\\\n",
    "\\end{split}\n",
    "\\end{equation}\n",
    "$$"
   ]
  },
  {
   "cell_type": "markdown",
   "metadata": {},
   "source": [
    "We know $A\\textbf{x} - \\textbf{b} \\leq 0$ then there must have some $\\textbf{s}$ such that $A\\textbf{x} - \\textbf{b} + \\textbf{s} = 0$"
   ]
  },
  {
   "cell_type": "markdown",
   "metadata": {},
   "source": [
    "$$\n",
    "\\begin{equation}\n",
    "\\begin{split}\n",
    "\\theta_{\\mathcal{D}}(\\lambda, \\textbf{v}) &\\equiv -\\textbf{v}^T\\textbf{b} \\quad \\text{s.t.} \\, A^T\\textbf{v} \\geq \\textbf{c}, \\textbf{v} \\geq 0\\\\\n",
    "\\theta_{\\mathcal{P}}(\\textbf{x}) &\\equiv -\\textbf{c}^T\\textbf{x} \\quad \\text{s.t.} \\, A\\textbf{x} \\leq \\textbf{b}, \\textbf{x} \\geq 0\\\\\n",
    "-\\mathcal{p}^* = \\max_{\\textbf{x}}{-\\theta_{\\mathcal{P}}(\\textbf{x})} &\\leq \\min_{\\textbf{v};\\textbf{v}_i \\geq 0}{-\\theta_{\\mathcal{D}}(\\lambda, \\textbf{v})} = -\\mathcal{d}^*\\\\\n",
    "&\\Downarrow\\\\\n",
    "\\textbf{c}^T\\textbf{x} \\leq &\\textbf{v}^TA\\textbf{x} \\leq \\textbf{v}^T\\textbf{b}\n",
    "\\end{split}\n",
    "\\end{equation}\n",
    "$$"
   ]
  },
  {
   "cell_type": "markdown",
   "metadata": {},
   "source": [
    "## Programming Solve method"
   ]
  },
  {
   "cell_type": "markdown",
   "metadata": {},
   "source": [
    "Consider the linear program"
   ]
  },
  {
   "cell_type": "markdown",
   "metadata": {},
   "source": [
    "$$\n",
    "\\begin{equation}\n",
    "\\begin{split}\n",
    "\\textbf{c} & = (2, 3, 4)\\\\\n",
    "Z & = \\min_{x}{-\\textbf{c}^T\\textbf{x}}\\\\\n",
    "\\text{Subject to} & \\\\\n",
    "A & =\n",
    "\\begin{bmatrix}\n",
    "  3 & 2 & 1 \\\\\n",
    "  2 & 5 & 3 \\\\\n",
    "\\end{bmatrix}\\\\\n",
    "\\textbf{b} & = (10, 15)\\\\\n",
    "A\\text{x} &\\leq \\textbf{b}\n",
    "\\end{split}\n",
    "\\end{equation}\n",
    "$$"
   ]
  },
  {
   "cell_type": "code",
   "execution_count": 1,
   "metadata": {
    "collapsed": true
   },
   "outputs": [],
   "source": [
    "import numpy as np\n",
    "from scipy.optimize import minimize, linprog\n",
    "c = np.array([2, 3, 4])\n",
    "A = np.matrix([[3, 2, 1], [2, 5, 3]])\n",
    "b = np.array([10, 15])"
   ]
  },
  {
   "cell_type": "markdown",
   "metadata": {},
   "source": [
    "#### [Simplex algorithm](https://docs.scipy.org/doc/scipy/reference/generated/scipy.optimize.linprog.html)"
   ]
  },
  {
   "cell_type": "code",
   "execution_count": 2,
   "metadata": {},
   "outputs": [
    {
     "name": "stdout",
     "output_type": "stream",
     "text": [
      "Optimization terminated successfully.\n",
      "         Current function value: -20.000000  \n",
      "         Iterations: 1\n",
      "[ 0.  0.  5.]\n"
     ]
    }
   ],
   "source": [
    "res = linprog(-c, A_ub=A, b_ub=b, bounds=[(0, None) for i in range(c.size)], method='simplex', options={\"disp\": True})\n",
    "print(res.x)"
   ]
  },
  {
   "cell_type": "markdown",
   "metadata": {},
   "source": [
    "#### [SLSQP](https://docs.scipy.org/doc/scipy/reference/tutorial/optimize.html#constrained-minimization-of-multivariate-scalar-functions-minimize)"
   ]
  },
  {
   "cell_type": "code",
   "execution_count": 3,
   "metadata": {},
   "outputs": [
    {
     "name": "stdout",
     "output_type": "stream",
     "text": [
      "Optimization terminated successfully.    (Exit mode 0)\n",
      "            Current function value: -20.000000000002643\n",
      "            Iterations: 5\n",
      "            Function evaluations: 5\n",
      "            Gradient evaluations: 5\n",
      "[  1.18460797e-13   5.85200965e-14   5.00000000e+00]\n"
     ]
    }
   ],
   "source": [
    "A_ = np.vstack((A, -np.eye(c.size)))\n",
    "b_ = np.concatenate((b, np.zeros(c.size)))\n",
    "func = lambda x: -c.dot(x)\n",
    "func_deriv = lambda x: -c\n",
    "make_constraint = lambda index: {'type': 'ineq', 'fun' : lambda x:  (b_.reshape(-1, 1) - A_.dot(x.reshape(-1, 1)))[index].item(), 'jac' : lambda x: -A_[index]}\n",
    "cons = [make_constraint(index) for index in range(b_.size)]\n",
    "res = minimize(func, np.zeros(3), jac=func_deriv, constraints=cons, method='SLSQP', options={'disp': True})\n",
    "print(res.x)"
   ]
  }
 ],
 "metadata": {
  "kernelspec": {
   "display_name": "Python 3",
   "language": "python",
   "name": "python3"
  },
  "language_info": {
   "codemirror_mode": {
    "name": "ipython",
    "version": 3
   },
   "file_extension": ".py",
   "mimetype": "text/x-python",
   "name": "python",
   "nbconvert_exporter": "python",
   "pygments_lexer": "ipython3",
   "version": "3.7.3"
  }
 },
 "nbformat": 4,
 "nbformat_minor": 1
}
